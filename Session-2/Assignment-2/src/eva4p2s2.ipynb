{
  "nbformat": 4,
  "nbformat_minor": 0,
  "metadata": {
    "language_info": {
      "codemirror_mode": {
        "name": "ipython",
        "version": 3
      },
      "file_extension": ".py",
      "mimetype": "text/x-python",
      "name": "python",
      "nbconvert_exporter": "python",
      "pygments_lexer": "ipython3",
      "version": "3.7.6-final"
    },
    "orig_nbformat": 2,
    "kernelspec": {
      "name": "python3",
      "display_name": "Python 3"
    },
    "colab": {
      "name": "Copy of eva4p2s2.ipynb",
      "provenance": [],
      "collapsed_sections": [],
      "include_colab_link": true
    },
    "accelerator": "GPU",
    "widgets": {
      "application/vnd.jupyter.widget-state+json": {
        "8736584c040f426d8f70579ad084dfea": {
          "model_module": "@jupyter-widgets/controls",
          "model_name": "HBoxModel",
          "state": {
            "_view_name": "HBoxView",
            "_dom_classes": [],
            "_model_name": "HBoxModel",
            "_view_module": "@jupyter-widgets/controls",
            "_model_module_version": "1.5.0",
            "_view_count": null,
            "_view_module_version": "1.5.0",
            "box_style": "",
            "layout": "IPY_MODEL_96cac6b40db9464a9a6fda06f66160db",
            "_model_module": "@jupyter-widgets/controls",
            "children": [
              "IPY_MODEL_2a2b7681952b40589b056f64de6ecf6a",
              "IPY_MODEL_aad08ddd60094765bb3f0f2866b7deb7"
            ]
          }
        },
        "96cac6b40db9464a9a6fda06f66160db": {
          "model_module": "@jupyter-widgets/base",
          "model_name": "LayoutModel",
          "state": {
            "_view_name": "LayoutView",
            "grid_template_rows": null,
            "right": null,
            "justify_content": null,
            "_view_module": "@jupyter-widgets/base",
            "overflow": null,
            "_model_module_version": "1.2.0",
            "_view_count": null,
            "flex_flow": null,
            "width": null,
            "min_width": null,
            "border": null,
            "align_items": null,
            "bottom": null,
            "_model_module": "@jupyter-widgets/base",
            "top": null,
            "grid_column": null,
            "overflow_y": null,
            "overflow_x": null,
            "grid_auto_flow": null,
            "grid_area": null,
            "grid_template_columns": null,
            "flex": null,
            "_model_name": "LayoutModel",
            "justify_items": null,
            "grid_row": null,
            "max_height": null,
            "align_content": null,
            "visibility": null,
            "align_self": null,
            "height": null,
            "min_height": null,
            "padding": null,
            "grid_auto_rows": null,
            "grid_gap": null,
            "max_width": null,
            "order": null,
            "_view_module_version": "1.2.0",
            "grid_template_areas": null,
            "object_position": null,
            "object_fit": null,
            "grid_auto_columns": null,
            "margin": null,
            "display": null,
            "left": null
          }
        },
        "2a2b7681952b40589b056f64de6ecf6a": {
          "model_module": "@jupyter-widgets/controls",
          "model_name": "FloatProgressModel",
          "state": {
            "_view_name": "ProgressView",
            "style": "IPY_MODEL_8e8033bd8b634f468d36225a17548bac",
            "_dom_classes": [],
            "description": "100%",
            "_model_name": "FloatProgressModel",
            "bar_style": "success",
            "max": 14212972,
            "_view_module": "@jupyter-widgets/controls",
            "_model_module_version": "1.5.0",
            "value": 14212972,
            "_view_count": null,
            "_view_module_version": "1.5.0",
            "orientation": "horizontal",
            "min": 0,
            "description_tooltip": null,
            "_model_module": "@jupyter-widgets/controls",
            "layout": "IPY_MODEL_942f1732df4d44719ab5971877a586dd"
          }
        },
        "aad08ddd60094765bb3f0f2866b7deb7": {
          "model_module": "@jupyter-widgets/controls",
          "model_name": "HTMLModel",
          "state": {
            "_view_name": "HTMLView",
            "style": "IPY_MODEL_3a0c18d735a6478696e806b6a82c2247",
            "_dom_classes": [],
            "description": "",
            "_model_name": "HTMLModel",
            "placeholder": "​",
            "_view_module": "@jupyter-widgets/controls",
            "_model_module_version": "1.5.0",
            "value": " 13.6M/13.6M [00:00&lt;00:00, 26.4MB/s]",
            "_view_count": null,
            "_view_module_version": "1.5.0",
            "description_tooltip": null,
            "_model_module": "@jupyter-widgets/controls",
            "layout": "IPY_MODEL_fafe7ca296d5494a901d808fcb54f379"
          }
        },
        "8e8033bd8b634f468d36225a17548bac": {
          "model_module": "@jupyter-widgets/controls",
          "model_name": "ProgressStyleModel",
          "state": {
            "_view_name": "StyleView",
            "_model_name": "ProgressStyleModel",
            "description_width": "initial",
            "_view_module": "@jupyter-widgets/base",
            "_model_module_version": "1.5.0",
            "_view_count": null,
            "_view_module_version": "1.2.0",
            "bar_color": null,
            "_model_module": "@jupyter-widgets/controls"
          }
        },
        "942f1732df4d44719ab5971877a586dd": {
          "model_module": "@jupyter-widgets/base",
          "model_name": "LayoutModel",
          "state": {
            "_view_name": "LayoutView",
            "grid_template_rows": null,
            "right": null,
            "justify_content": null,
            "_view_module": "@jupyter-widgets/base",
            "overflow": null,
            "_model_module_version": "1.2.0",
            "_view_count": null,
            "flex_flow": null,
            "width": null,
            "min_width": null,
            "border": null,
            "align_items": null,
            "bottom": null,
            "_model_module": "@jupyter-widgets/base",
            "top": null,
            "grid_column": null,
            "overflow_y": null,
            "overflow_x": null,
            "grid_auto_flow": null,
            "grid_area": null,
            "grid_template_columns": null,
            "flex": null,
            "_model_name": "LayoutModel",
            "justify_items": null,
            "grid_row": null,
            "max_height": null,
            "align_content": null,
            "visibility": null,
            "align_self": null,
            "height": null,
            "min_height": null,
            "padding": null,
            "grid_auto_rows": null,
            "grid_gap": null,
            "max_width": null,
            "order": null,
            "_view_module_version": "1.2.0",
            "grid_template_areas": null,
            "object_position": null,
            "object_fit": null,
            "grid_auto_columns": null,
            "margin": null,
            "display": null,
            "left": null
          }
        },
        "3a0c18d735a6478696e806b6a82c2247": {
          "model_module": "@jupyter-widgets/controls",
          "model_name": "DescriptionStyleModel",
          "state": {
            "_view_name": "StyleView",
            "_model_name": "DescriptionStyleModel",
            "description_width": "",
            "_view_module": "@jupyter-widgets/base",
            "_model_module_version": "1.5.0",
            "_view_count": null,
            "_view_module_version": "1.2.0",
            "_model_module": "@jupyter-widgets/controls"
          }
        },
        "fafe7ca296d5494a901d808fcb54f379": {
          "model_module": "@jupyter-widgets/base",
          "model_name": "LayoutModel",
          "state": {
            "_view_name": "LayoutView",
            "grid_template_rows": null,
            "right": null,
            "justify_content": null,
            "_view_module": "@jupyter-widgets/base",
            "overflow": null,
            "_model_module_version": "1.2.0",
            "_view_count": null,
            "flex_flow": null,
            "width": null,
            "min_width": null,
            "border": null,
            "align_items": null,
            "bottom": null,
            "_model_module": "@jupyter-widgets/base",
            "top": null,
            "grid_column": null,
            "overflow_y": null,
            "overflow_x": null,
            "grid_auto_flow": null,
            "grid_area": null,
            "grid_template_columns": null,
            "flex": null,
            "_model_name": "LayoutModel",
            "justify_items": null,
            "grid_row": null,
            "max_height": null,
            "align_content": null,
            "visibility": null,
            "align_self": null,
            "height": null,
            "min_height": null,
            "padding": null,
            "grid_auto_rows": null,
            "grid_gap": null,
            "max_width": null,
            "order": null,
            "_view_module_version": "1.2.0",
            "grid_template_areas": null,
            "object_position": null,
            "object_fit": null,
            "grid_auto_columns": null,
            "margin": null,
            "display": null,
            "left": null
          }
        }
      }
    }
  },
  "cells": [
    {
      "cell_type": "markdown",
      "metadata": {
        "id": "view-in-github",
        "colab_type": "text"
      },
      "source": [
        "<a href=\"https://colab.research.google.com/github/praveenraghuvanshi/eva4-p2-group/blob/master/Session-2/Assignment-2/src/Copy_of_eva4p2s2.ipynb\" target=\"_parent\"><img src=\"https://colab.research.google.com/assets/colab-badge.svg\" alt=\"Open In Colab\"/></a>"
      ]
    },
    {
      "cell_type": "markdown",
      "metadata": {
        "id": "cdyB-wV2Umhl",
        "colab_type": "text"
      },
      "source": [
        "# Assignment -2 MobileNet_V2 on Custom Dataset"
      ]
    },
    {
      "cell_type": "markdown",
      "metadata": {
        "id": "bt5m5SAPUmhq",
        "colab_type": "text"
      },
      "source": [
        "### Team Members\n",
        "- Praveen Raghuvanshi (praveenraghuvanshi@gmail.com)\n",
        "- Tusharkanta Biswal (Tusharkanta_biswal@stragure.com)\n",
        "- Suman Kanukollu (sumankanukollu@gmail.com)\n",
        "- Shubham Kothawade (kothawadeshub@gmail.com)\n"
      ]
    },
    {
      "cell_type": "markdown",
      "metadata": {
        "id": "nos-aKfNUmht",
        "colab_type": "text"
      },
      "source": [
        "Tasks\n",
        "---\n",
        "1. Load images into dataloader from zip file\n",
        "2. Resize image if required to 224x224x3\n",
        "3. Split dataset\n",
        "4. Load Mobilenet_V2 model with pretrained=false\n",
        "5. Modify classification layer to output 4 classes only\n",
        "6. Train model\n",
        "7. Save model\n",
        "8. Use new model in serverless.yml\n",
        "9. Deploy to AWS\n",
        "10. Test with rest client\n",
        "11. Done :-)"
      ]
    },
    {
      "cell_type": "markdown",
      "metadata": {
        "id": "Qnc8ongcZLEl",
        "colab_type": "text"
      },
      "source": [
        "System Information\n",
        "---"
      ]
    },
    {
      "cell_type": "code",
      "metadata": {
        "id": "Ly82zyVuZGqk",
        "colab_type": "code",
        "colab": {
          "base_uri": "https://localhost:8080/",
          "height": 353
        },
        "outputId": "83df5c36-cc29-46f8-8c79-5402dedc2c7f"
      },
      "source": [
        "!nvidia-smi"
      ],
      "execution_count": 1,
      "outputs": [
        {
          "output_type": "stream",
          "text": [
            "Sat Aug  8 11:44:56 2020       \n",
            "+-----------------------------------------------------------------------------+\n",
            "| NVIDIA-SMI 450.57       Driver Version: 418.67       CUDA Version: 10.1     |\n",
            "|-------------------------------+----------------------+----------------------+\n",
            "| GPU  Name        Persistence-M| Bus-Id        Disp.A | Volatile Uncorr. ECC |\n",
            "| Fan  Temp  Perf  Pwr:Usage/Cap|         Memory-Usage | GPU-Util  Compute M. |\n",
            "|                               |                      |               MIG M. |\n",
            "|===============================+======================+======================|\n",
            "|   0  Tesla K80           Off  | 00000000:00:04.0 Off |                    0 |\n",
            "| N/A   70C    P8    32W / 149W |      0MiB / 11441MiB |      0%      Default |\n",
            "|                               |                      |                 ERR! |\n",
            "+-------------------------------+----------------------+----------------------+\n",
            "                                                                               \n",
            "+-----------------------------------------------------------------------------+\n",
            "| Processes:                                                                  |\n",
            "|  GPU   GI   CI        PID   Type   Process name                  GPU Memory |\n",
            "|        ID   ID                                                   Usage      |\n",
            "|=============================================================================|\n",
            "|  No running processes found                                                 |\n",
            "+-----------------------------------------------------------------------------+\n"
          ],
          "name": "stdout"
        }
      ]
    },
    {
      "cell_type": "code",
      "metadata": {
        "id": "DAl10YmZ4Jwd",
        "colab_type": "code",
        "colab": {
          "base_uri": "https://localhost:8080/",
          "height": 319
        },
        "outputId": "5022fe5b-7d04-444e-c2c5-8c748e20134d"
      },
      "source": [
        "!pip install torch==1.5.1+cu92 torchvision==0.6.1+cu92 -f https://download.pytorch.org/whl/torch_stable.html"
      ],
      "execution_count": 2,
      "outputs": [
        {
          "output_type": "stream",
          "text": [
            "Looking in links: https://download.pytorch.org/whl/torch_stable.html\n",
            "Collecting torch==1.5.1+cu92\n",
            "\u001b[?25l  Downloading https://download.pytorch.org/whl/cu92/torch-1.5.1%2Bcu92-cp36-cp36m-linux_x86_64.whl (604.8MB)\n",
            "\u001b[K     |████████████████████████████████| 604.8MB 30kB/s \n",
            "\u001b[?25hCollecting torchvision==0.6.1+cu92\n",
            "\u001b[?25l  Downloading https://download.pytorch.org/whl/cu92/torchvision-0.6.1%2Bcu92-cp36-cp36m-linux_x86_64.whl (6.5MB)\n",
            "\u001b[K     |████████████████████████████████| 6.5MB 41.4MB/s \n",
            "\u001b[?25hRequirement already satisfied: numpy in /usr/local/lib/python3.6/dist-packages (from torch==1.5.1+cu92) (1.18.5)\n",
            "Requirement already satisfied: future in /usr/local/lib/python3.6/dist-packages (from torch==1.5.1+cu92) (0.16.0)\n",
            "Requirement already satisfied: pillow>=4.1.1 in /usr/local/lib/python3.6/dist-packages (from torchvision==0.6.1+cu92) (7.0.0)\n",
            "Installing collected packages: torch, torchvision\n",
            "  Found existing installation: torch 1.6.0+cu101\n",
            "    Uninstalling torch-1.6.0+cu101:\n",
            "      Successfully uninstalled torch-1.6.0+cu101\n",
            "  Found existing installation: torchvision 0.7.0+cu101\n",
            "    Uninstalling torchvision-0.7.0+cu101:\n",
            "      Successfully uninstalled torchvision-0.7.0+cu101\n",
            "Successfully installed torch-1.5.1+cu92 torchvision-0.6.1+cu92\n"
          ],
          "name": "stdout"
        }
      ]
    },
    {
      "cell_type": "code",
      "metadata": {
        "id": "zDCgVOtsZODd",
        "colab_type": "code",
        "colab": {
          "base_uri": "https://localhost:8080/",
          "height": 34
        },
        "outputId": "ea092cfa-892e-4e75-828b-cb2c20398153"
      },
      "source": [
        "import torch\n",
        "from IPython.display import Image, clear_output \n",
        "\n",
        "print('PyTorch %s %s' % (torch.__version__, torch.cuda.get_device_properties(0) if torch.cuda.is_available() else 'CPU'))"
      ],
      "execution_count": 3,
      "outputs": [
        {
          "output_type": "stream",
          "text": [
            "PyTorch 1.5.1+cu92 _CudaDeviceProperties(name='Tesla K80', major=3, minor=7, total_memory=11441MB, multi_processor_count=13)\n"
          ],
          "name": "stdout"
        }
      ]
    },
    {
      "cell_type": "markdown",
      "metadata": {
        "id": "qBa8-ODjU8-T",
        "colab_type": "text"
      },
      "source": [
        "Mount google drive\n",
        "---\n"
      ]
    },
    {
      "cell_type": "code",
      "metadata": {
        "id": "kn6co6g_VAPE",
        "colab_type": "code",
        "colab": {
          "base_uri": "https://localhost:8080/",
          "height": 121
        },
        "outputId": "76315a85-555f-4d90-e9b3-0e0120e3268d"
      },
      "source": [
        "# Load data from Google drive\n",
        "from google.colab import drive\n",
        "drive.mount('/content/drive')"
      ],
      "execution_count": 1,
      "outputs": [
        {
          "output_type": "stream",
          "text": [
            "Go to this URL in a browser: https://accounts.google.com/o/oauth2/auth?client_id=947318989803-6bn6qk8qdgf4n4g3pfee6491hc0brc4i.apps.googleusercontent.com&redirect_uri=urn%3aietf%3awg%3aoauth%3a2.0%3aoob&response_type=code&scope=email%20https%3a%2f%2fwww.googleapis.com%2fauth%2fdocs.test%20https%3a%2f%2fwww.googleapis.com%2fauth%2fdrive%20https%3a%2f%2fwww.googleapis.com%2fauth%2fdrive.photos.readonly%20https%3a%2f%2fwww.googleapis.com%2fauth%2fpeopleapi.readonly\n",
            "\n",
            "Enter your authorization code:\n",
            "··········\n",
            "Mounted at /content/drive\n"
          ],
          "name": "stdout"
        }
      ]
    },
    {
      "cell_type": "markdown",
      "metadata": {
        "id": "BY1yaPxxY0rS",
        "colab_type": "text"
      },
      "source": [
        "Install libraries\n",
        "---\n",
        "\n",
        "**Helper**\n",
        "- autotime : Prints cell execution time\n",
        "- torchsummary : Prints model summary"
      ]
    },
    {
      "cell_type": "code",
      "metadata": {
        "id": "LYW9a_SsWewm",
        "colab_type": "code",
        "colab": {
          "base_uri": "https://localhost:8080/",
          "height": 188
        },
        "outputId": "78d0b544-6e87-4cc7-d9d8-0ba23f63bb1f"
      },
      "source": [
        "!pip install ipython-autotime\n",
        "%load_ext autotime"
      ],
      "execution_count": 5,
      "outputs": [
        {
          "output_type": "stream",
          "text": [
            "Collecting ipython-autotime\n",
            "  Downloading https://files.pythonhosted.org/packages/e6/f9/0626bbdb322e3a078d968e87e3b01341e7890544de891d0cb613641220e6/ipython-autotime-0.1.tar.bz2\n",
            "Building wheels for collected packages: ipython-autotime\n",
            "  Building wheel for ipython-autotime (setup.py) ... \u001b[?25l\u001b[?25hdone\n",
            "  Created wheel for ipython-autotime: filename=ipython_autotime-0.1-cp36-none-any.whl size=1832 sha256=ee0cd2dbaf0729ab7333a79e9245eaf91aaf4b3f9de354127252aa71a61e81c6\n",
            "  Stored in directory: /root/.cache/pip/wheels/d2/df/81/2db1e54bc91002cec40334629bc39cfa86dff540b304ebcd6e\n",
            "Successfully built ipython-autotime\n",
            "Installing collected packages: ipython-autotime\n",
            "Successfully installed ipython-autotime-0.1\n"
          ],
          "name": "stdout"
        }
      ]
    },
    {
      "cell_type": "markdown",
      "metadata": {
        "id": "hvL2cY2qaDTb",
        "colab_type": "text"
      },
      "source": [
        "Import all modules and libraries\n",
        "---\n"
      ]
    },
    {
      "cell_type": "code",
      "metadata": {
        "id": "T_o9BtzFaHfK",
        "colab_type": "code",
        "colab": {
          "base_uri": "https://localhost:8080/",
          "height": 34
        },
        "outputId": "10153dc9-9800-43d5-ad24-0694a5418cc7"
      },
      "source": [
        "# System\n",
        "import os\n",
        "import sys\n",
        "\n",
        "# Scikit\n",
        "import numpy as np\n",
        "\n",
        "# Plotting\n",
        "from matplotlib import pyplot as plt\n",
        "\n",
        "# Pytorch\n",
        "import torch\n",
        "import torch.nn as nn\n",
        "import torchvision\n",
        "import torchvision.transforms as transforms\n",
        "from torchvision.utils import make_grid\n",
        "from torchsummary import summary\n",
        "from torch.autograd import Variable\n",
        "from torch.optim.lr_scheduler import StepLR\n",
        "\n",
        "# Image Proessing\n",
        "import PIL\n",
        "from PIL import Image\n",
        "\n",
        "\n",
        "# File Processing\n",
        "from zipfile import ZipFile"
      ],
      "execution_count": 6,
      "outputs": [
        {
          "output_type": "stream",
          "text": [
            "time: 246 ms\n"
          ],
          "name": "stdout"
        }
      ]
    },
    {
      "cell_type": "markdown",
      "metadata": {
        "id": "oW224F9caTbG",
        "colab_type": "text"
      },
      "source": [
        "Application constants\n",
        "---\n"
      ]
    },
    {
      "cell_type": "code",
      "metadata": {
        "id": "e9rBxmy1aZMi",
        "colab_type": "code",
        "colab": {
          "base_uri": "https://localhost:8080/",
          "height": 34
        },
        "outputId": "73d4b075-f90f-4af1-93fd-7a2912306d20"
      },
      "source": [
        "BASE_COLAB_PATH = '/content/drive/My Drive/eva-4/Phase-2/Session-2'\n",
        "DATASET_FILE = 'dataset.zip'\n",
        "MODEL_FILE = 'model.pt'\n",
        "MODEL = 'mobilenet_v2'"
      ],
      "execution_count": 7,
      "outputs": [
        {
          "output_type": "stream",
          "text": [
            "time: 2.11 ms\n"
          ],
          "name": "stdout"
        }
      ]
    },
    {
      "cell_type": "markdown",
      "metadata": {
        "id": "F7pvmF0rayK1",
        "colab_type": "text"
      },
      "source": [
        "Set Device\n",
        "---"
      ]
    },
    {
      "cell_type": "code",
      "metadata": {
        "id": "480InuEUaz_m",
        "colab_type": "code",
        "colab": {
          "base_uri": "https://localhost:8080/",
          "height": 50
        },
        "outputId": "d5e4ad73-ac31-4c54-8cc0-650547373a55"
      },
      "source": [
        "use_cuda = torch.cuda.is_available()\n",
        "device = torch.device(\"cuda\" if use_cuda else \"cpu\")\n",
        "print(device)"
      ],
      "execution_count": 8,
      "outputs": [
        {
          "output_type": "stream",
          "text": [
            "cuda\n",
            "time: 2.11 ms\n"
          ],
          "name": "stdout"
        }
      ]
    },
    {
      "cell_type": "markdown",
      "metadata": {
        "id": "OEEsOMlsbA2c",
        "colab_type": "text"
      },
      "source": [
        "Hyperparameters\n",
        "---\n"
      ]
    },
    {
      "cell_type": "code",
      "metadata": {
        "id": "pFwqbicebEw8",
        "colab_type": "code",
        "colab": {
          "base_uri": "https://localhost:8080/",
          "height": 34
        },
        "outputId": "832f1286-8e96-42c1-f8b6-97da77f6cd72"
      },
      "source": [
        "EPOCHS=200\n",
        "BATCH_SIZE=256\n",
        "LEARNING_RATE=0.01\n",
        "MOMENTUM = 0.9\n",
        "STEP_SIZE = 2\n",
        "GAMMA = 0.96\n",
        "PATIENCE = 10\n",
        "\n",
        "IMAGE_WIDTH=224\n",
        "IMAGE_HEIGHT=224\n",
        "INPUT_CHANNELS=3"
      ],
      "execution_count": 9,
      "outputs": [
        {
          "output_type": "stream",
          "text": [
            "time: 4.69 ms\n"
          ],
          "name": "stdout"
        }
      ]
    },
    {
      "cell_type": "markdown",
      "metadata": {
        "id": "Dy9zCZr-eQfN",
        "colab_type": "text"
      },
      "source": [
        "Utility Methods\n",
        "---"
      ]
    },
    {
      "cell_type": "code",
      "metadata": {
        "id": "45jRb98lebal",
        "colab_type": "code",
        "colab": {
          "base_uri": "https://localhost:8080/",
          "height": 34
        },
        "outputId": "f124f319-a247-4741-e555-898297127397"
      },
      "source": [
        "# Unzip Dataset\n",
        "def unzip(file):\n",
        "  directory = os.path.splitext(file)[0]\n",
        "  if not os.path.exists(directory):\n",
        "    !unzip file\n",
        "    print('Extracted!')\n",
        "  else:\n",
        "    print('Already extracted!')\n"
      ],
      "execution_count": 10,
      "outputs": [
        {
          "output_type": "stream",
          "text": [
            "time: 3.84 ms\n"
          ],
          "name": "stdout"
        }
      ]
    },
    {
      "cell_type": "code",
      "metadata": {
        "id": "bUlqlwLGrIFA",
        "colab_type": "code",
        "colab": {
          "base_uri": "https://localhost:8080/",
          "height": 34
        },
        "outputId": "250be7ba-8066-4cdd-9235-fb9efd912f5d"
      },
      "source": [
        "# Visualize dataset\n",
        "%matplotlib inline\n",
        "\n",
        "def visualizedataset(file, title='Dataset Summary'):\n",
        "  datasetDirectory = os.path.splitext(file)[0]\n",
        "  plt.pie( \n",
        "          list(map(lambda f : len(os.listdir(os.path.join(datasetDirectory,f))), os.listdir(datasetDirectory))),\n",
        "          labels = os.listdir(datasetDirectory) ,\n",
        "          autopct='%0.1f')\n",
        "\n",
        "  plt.title(title)\n",
        "  plt.show()"
      ],
      "execution_count": 11,
      "outputs": [
        {
          "output_type": "stream",
          "text": [
            "time: 18 ms\n"
          ],
          "name": "stdout"
        }
      ]
    },
    {
      "cell_type": "code",
      "metadata": {
        "id": "jKHiFLVd1kpU",
        "colab_type": "code",
        "colab": {
          "base_uri": "https://localhost:8080/",
          "height": 34
        },
        "outputId": "af8d2179-60df-4790-a1b8-33ab5c7ae5bf"
      },
      "source": [
        "# Load transformers\n",
        "def loadtransformers():\n",
        "  transform = torchvision.transforms.Compose([#torchvision.transforms.Resize([224,224]),\n",
        "                                #torchvision.transforms.CenterCrop(224),\n",
        "                                torchvision.transforms.ColorJitter(hue=.05, saturation=.05),\n",
        "                                torchvision.transforms.RandomHorizontalFlip(),\n",
        "                                torchvision.transforms.RandomRotation(20, resample=PIL.Image.BILINEAR),\n",
        "                                torchvision.transforms.ToTensor(),\n",
        "                                torchvision.transforms.Normalize(mean=[0.5332, 0.5855, 0.6169],std=[0.1747, 0.1697, 0.1862])])\n",
        "  return transform"
      ],
      "execution_count": 12,
      "outputs": [
        {
          "output_type": "stream",
          "text": [
            "time: 4.96 ms\n"
          ],
          "name": "stdout"
        }
      ]
    },
    {
      "cell_type": "code",
      "metadata": {
        "id": "4mBf-qEX4TV6",
        "colab_type": "code",
        "colab": {
          "base_uri": "https://localhost:8080/",
          "height": 34
        },
        "outputId": "a4971c22-47de-432e-dca6-8712640d36ed"
      },
      "source": [
        "# Load dataset\n",
        "def loaddataset(root, transformation, batch_size=32, split_factor=0.7):\n",
        "    dataset = torchvision.datasets.ImageFolder(root, transformation)\n",
        "    train_size = int(split_factor * len(dataset))\n",
        "    val_size = len(dataset) - train_size\n",
        "    train_dataset, val_dataset = torch.utils.data.random_split(dataset, [train_size, val_size])\n",
        "    train_loader = torch.utils.data.DataLoader(train_dataset, batch_size=batch_size, shuffle=True)\n",
        "    val_loader = torch.utils.data.DataLoader(val_dataset, batch_size=batch_size, shuffle=True)\n",
        "    \n",
        "    return (train_loader, val_loader)"
      ],
      "execution_count": 13,
      "outputs": [
        {
          "output_type": "stream",
          "text": [
            "time: 7.81 ms\n"
          ],
          "name": "stdout"
        }
      ]
    },
    {
      "cell_type": "code",
      "metadata": {
        "id": "B2nQ1drNfK4l",
        "colab_type": "code",
        "colab": {
          "base_uri": "https://localhost:8080/",
          "height": 34
        },
        "outputId": "1d2e7814-e6fc-4275-a59f-03d45bce57af"
      },
      "source": [
        "# Calculate Mean and Standard deviation"
      ],
      "execution_count": 14,
      "outputs": [
        {
          "output_type": "stream",
          "text": [
            "time: 800 µs\n"
          ],
          "name": "stdout"
        }
      ]
    },
    {
      "cell_type": "code",
      "metadata": {
        "id": "-Sc1X_hlfYG3",
        "colab_type": "code",
        "colab": {
          "base_uri": "https://localhost:8080/",
          "height": 34
        },
        "outputId": "8601baf3-9657-40f0-8c48-4c37c3847006"
      },
      "source": [
        "# Show Images\n",
        "def show(imgs,lbls=None, figsize=(100,100), *args, **kwargs):\n",
        "    grid_tensor = torchvision.utils.make_grid(imgs[:8], *args, **kwargs)\n",
        "    grid_image = grid_tensor.permute(1,2,0)\n",
        "    plt.figtext(100,100,'Images')\n",
        "    plt.figure(figsize=figsize)\n",
        "    plt.imshow(grid_image)\n",
        "    plt.xticks([])\n",
        "    plt.yticks([])\n",
        "    plt.show()\n",
        "    if lbls is not None:\n",
        "        print(' '.join('%22s' % [lbls[j]] for j in range(10)))\n",
        "    plt.close()"
      ],
      "execution_count": 15,
      "outputs": [
        {
          "output_type": "stream",
          "text": [
            "time: 11.7 ms\n"
          ],
          "name": "stdout"
        }
      ]
    },
    {
      "cell_type": "code",
      "metadata": {
        "id": "dbUTh4ZNhLQM",
        "colab_type": "code",
        "colab": {
          "base_uri": "https://localhost:8080/",
          "height": 34
        },
        "outputId": "7e931a19-cd7a-408c-ff95-79ab58a3e303"
      },
      "source": [
        "# visualize the loss as the network trained\n",
        "def displayloss(train_loss, valid_loss):\n",
        "  fig = plt.figure(figsize=(10,8))\n",
        "  plt.plot(range(1,len(train_loss)+1),train_loss, label='Training Loss')\n",
        "  plt.plot(range(1,len(valid_loss)+1),valid_loss, label='Validation Loss')\n",
        "\n",
        "  # find position of lowest validation loss\n",
        "  minposs = valid_loss.index(min(valid_loss))+1 \n",
        "  plt.axvline(minposs, linestyle='--', color='r', label='Early Stopping Checkpoint')\n",
        "\n",
        "  plt.xlabel('epochs')\n",
        "  plt.ylabel('loss')\n",
        "  plt.ylim(0, max(train_loss) + 0.2) # consistent scale\n",
        "  plt.xlim(0, len(train_loss)+1) # consistent scale\n",
        "  plt.grid(True)\n",
        "  plt.legend()\n",
        "  plt.tight_layout()\n",
        "  plt.show()\n",
        "  fig.savefig('loss_plot.png', bbox_inches='tight')"
      ],
      "execution_count": 16,
      "outputs": [
        {
          "output_type": "stream",
          "text": [
            "time: 18.7 ms\n"
          ],
          "name": "stdout"
        }
      ]
    },
    {
      "cell_type": "code",
      "metadata": {
        "id": "JoexueOtiiQn",
        "colab_type": "code",
        "colab": {
          "base_uri": "https://localhost:8080/",
          "height": 34
        },
        "outputId": "05774ca6-2c26-420b-d52d-689f26f3e084"
      },
      "source": [
        "def predict_image(image):\n",
        "    image_tensor = test_transforms(image).float()\n",
        "    image_tensor = image_tensor.unsqueeze_(0)\n",
        "    input = Variable(image_tensor)\n",
        "    #input = image\n",
        "    input = input.to(device)\n",
        "    output = model(input)\n",
        "    index = output.data.cpu().numpy().argmax()\n",
        "    return index"
      ],
      "execution_count": 17,
      "outputs": [
        {
          "output_type": "stream",
          "text": [
            "time: 5.93 ms\n"
          ],
          "name": "stdout"
        }
      ]
    },
    {
      "cell_type": "code",
      "metadata": {
        "id": "Oy_fPm5Xit_O",
        "colab_type": "code",
        "colab": {
          "base_uri": "https://localhost:8080/",
          "height": 34
        },
        "outputId": "638b3263-9f6b-47a5-b6d3-0dcae0a3c9ca"
      },
      "source": [
        "def get_random_images(num):\n",
        "    dataiter = iter(val_loader)\n",
        "    images, labels = dataiter.next()\n",
        "    return images, labels"
      ],
      "execution_count": 18,
      "outputs": [
        {
          "output_type": "stream",
          "text": [
            "time: 4.51 ms\n"
          ],
          "name": "stdout"
        }
      ]
    },
    {
      "cell_type": "code",
      "metadata": {
        "id": "pKW5iUMvgEao",
        "colab_type": "code",
        "colab": {
          "base_uri": "https://localhost:8080/",
          "height": 34
        },
        "outputId": "31474a66-2ea8-4f10-b75b-197c49c2d351"
      },
      "source": [
        "# Early stopping\n",
        "\n",
        "class EarlyStoppingOnAcc:\n",
        "    def __init__(self, patience=7, mode=\"max\", delta=0.0001, model_path='checkpoint.pt'):\n",
        "        self.patience = patience\n",
        "        self.counter = 0\n",
        "        self.mode = mode\n",
        "        self.best_score = None\n",
        "        self.early_stop = False\n",
        "        self.delta = delta\n",
        "        self.model_path = model_path\n",
        "        if self.mode == \"min\":\n",
        "            self.val_score = np.Inf\n",
        "        else:\n",
        "            self.val_score = -np.Inf\n",
        "\n",
        "    def __call__(self, epoch_score, model, model_path):\n",
        "        if self.mode == \"min\":\n",
        "            score = -1.0 * epoch_score\n",
        "        else:\n",
        "            score = np.copy(epoch_score)\n",
        "\n",
        "        if self.best_score is None:\n",
        "            self.best_score = score\n",
        "            self.save_checkpoint(epoch_score, model, model_path)\n",
        "        elif score < self.best_score + self.delta:\n",
        "            self.counter += 1\n",
        "            print(\n",
        "                \"EarlyStopping counter: {} out of {}\".format(\n",
        "                    self.counter, self.patience\n",
        "                )\n",
        "            )\n",
        "            if self.counter >= self.patience:\n",
        "                self.early_stop = True\n",
        "        else:\n",
        "            self.best_score = score\n",
        "            self.save_checkpoint(epoch_score, model, model_path)\n",
        "            self.counter = 0\n",
        "\n",
        "    def save_checkpoint(self, epoch_score, model, model_path):\n",
        "        if epoch_score not in [-np.inf, np.inf, -np.nan, np.nan]:\n",
        "            print(\n",
        "                \"Validation score improved ({} --> {}). Saving model!\".format(\n",
        "                    self.val_score, epoch_score\n",
        "                )\n",
        "            )\n",
        "            torch.save(model.state_dict(), model_path)\n",
        "            traced_model = torch.jit.trace(model.float(), torch.randn(1,3,224,224).to(device))\n",
        "            torch.jit.save(traced_model, MODEL_FILE)\n",
        "            # traced_model.save('modelnet_v2_44_77.pt')\n",
        "            # torch.save(model, 'model.pt')\n",
        "        self.val_score = epoch_score"
      ],
      "execution_count": 19,
      "outputs": [
        {
          "output_type": "stream",
          "text": [
            "time: 43.4 ms\n"
          ],
          "name": "stdout"
        }
      ]
    },
    {
      "cell_type": "markdown",
      "metadata": {
        "id": "nT9XFoCJqJUq",
        "colab_type": "text"
      },
      "source": [
        "Data Preparation\n",
        "---"
      ]
    },
    {
      "cell_type": "code",
      "metadata": {
        "id": "NlUeHfmRe4tu",
        "colab_type": "code",
        "colab": {
          "base_uri": "https://localhost:8080/",
          "height": 50
        },
        "outputId": "158cc4f6-188d-40e3-f757-efddd57cd7d3"
      },
      "source": [
        "# Unzip Dataset\n",
        "datasetFile  = os.path.join(BASE_COLAB_PATH, DATASET_FILE)\n",
        "unzip(datasetFile)"
      ],
      "execution_count": 20,
      "outputs": [
        {
          "output_type": "stream",
          "text": [
            "Already extracted!\n",
            "time: 1.22 s\n"
          ],
          "name": "stdout"
        }
      ]
    },
    {
      "cell_type": "code",
      "metadata": {
        "id": "eqqY12DxqxsQ",
        "colab_type": "code",
        "colab": {
          "base_uri": "https://localhost:8080/",
          "height": 337
        },
        "outputId": "c2d95868-a2e9-4e0a-abcf-a75dd7aba21f"
      },
      "source": [
        "# Visualize dataset\n",
        "visualizedataset(datasetFile)"
      ],
      "execution_count": 21,
      "outputs": [
        {
          "output_type": "error",
          "ename": "OSError",
          "evalue": "ignored",
          "traceback": [
            "\u001b[0;31m---------------------------------------------------------------------------\u001b[0m",
            "\u001b[0;31mOSError\u001b[0m                                   Traceback (most recent call last)",
            "\u001b[0;32m<ipython-input-21-1d09dbadfb5b>\u001b[0m in \u001b[0;36m<module>\u001b[0;34m()\u001b[0m\n\u001b[1;32m      1\u001b[0m \u001b[0;31m# Visualize dataset\u001b[0m\u001b[0;34m\u001b[0m\u001b[0;34m\u001b[0m\u001b[0;34m\u001b[0m\u001b[0m\n\u001b[0;32m----> 2\u001b[0;31m \u001b[0mvisualizedataset\u001b[0m\u001b[0;34m(\u001b[0m\u001b[0mdatasetFile\u001b[0m\u001b[0;34m)\u001b[0m\u001b[0;34m\u001b[0m\u001b[0;34m\u001b[0m\u001b[0m\n\u001b[0m",
            "\u001b[0;32m<ipython-input-11-a6fe1d9b6baf>\u001b[0m in \u001b[0;36mvisualizedataset\u001b[0;34m(file, title)\u001b[0m\n\u001b[1;32m      5\u001b[0m   \u001b[0mdatasetDirectory\u001b[0m \u001b[0;34m=\u001b[0m \u001b[0mos\u001b[0m\u001b[0;34m.\u001b[0m\u001b[0mpath\u001b[0m\u001b[0;34m.\u001b[0m\u001b[0msplitext\u001b[0m\u001b[0;34m(\u001b[0m\u001b[0mfile\u001b[0m\u001b[0;34m)\u001b[0m\u001b[0;34m[\u001b[0m\u001b[0;36m0\u001b[0m\u001b[0;34m]\u001b[0m\u001b[0;34m\u001b[0m\u001b[0;34m\u001b[0m\u001b[0m\n\u001b[1;32m      6\u001b[0m   plt.pie( \n\u001b[0;32m----> 7\u001b[0;31m           \u001b[0mlist\u001b[0m\u001b[0;34m(\u001b[0m\u001b[0mmap\u001b[0m\u001b[0;34m(\u001b[0m\u001b[0;32mlambda\u001b[0m \u001b[0mf\u001b[0m \u001b[0;34m:\u001b[0m \u001b[0mlen\u001b[0m\u001b[0;34m(\u001b[0m\u001b[0mos\u001b[0m\u001b[0;34m.\u001b[0m\u001b[0mlistdir\u001b[0m\u001b[0;34m(\u001b[0m\u001b[0mos\u001b[0m\u001b[0;34m.\u001b[0m\u001b[0mpath\u001b[0m\u001b[0;34m.\u001b[0m\u001b[0mjoin\u001b[0m\u001b[0;34m(\u001b[0m\u001b[0mdatasetDirectory\u001b[0m\u001b[0;34m,\u001b[0m\u001b[0mf\u001b[0m\u001b[0;34m)\u001b[0m\u001b[0;34m)\u001b[0m\u001b[0;34m)\u001b[0m\u001b[0;34m,\u001b[0m \u001b[0mos\u001b[0m\u001b[0;34m.\u001b[0m\u001b[0mlistdir\u001b[0m\u001b[0;34m(\u001b[0m\u001b[0mdatasetDirectory\u001b[0m\u001b[0;34m)\u001b[0m\u001b[0;34m)\u001b[0m\u001b[0;34m)\u001b[0m\u001b[0;34m,\u001b[0m\u001b[0;34m\u001b[0m\u001b[0;34m\u001b[0m\u001b[0m\n\u001b[0m\u001b[1;32m      8\u001b[0m           \u001b[0mlabels\u001b[0m \u001b[0;34m=\u001b[0m \u001b[0mos\u001b[0m\u001b[0;34m.\u001b[0m\u001b[0mlistdir\u001b[0m\u001b[0;34m(\u001b[0m\u001b[0mdatasetDirectory\u001b[0m\u001b[0;34m)\u001b[0m \u001b[0;34m,\u001b[0m\u001b[0;34m\u001b[0m\u001b[0;34m\u001b[0m\u001b[0m\n\u001b[1;32m      9\u001b[0m           autopct='%0.1f')\n",
            "\u001b[0;32m<ipython-input-11-a6fe1d9b6baf>\u001b[0m in \u001b[0;36m<lambda>\u001b[0;34m(f)\u001b[0m\n\u001b[1;32m      5\u001b[0m   \u001b[0mdatasetDirectory\u001b[0m \u001b[0;34m=\u001b[0m \u001b[0mos\u001b[0m\u001b[0;34m.\u001b[0m\u001b[0mpath\u001b[0m\u001b[0;34m.\u001b[0m\u001b[0msplitext\u001b[0m\u001b[0;34m(\u001b[0m\u001b[0mfile\u001b[0m\u001b[0;34m)\u001b[0m\u001b[0;34m[\u001b[0m\u001b[0;36m0\u001b[0m\u001b[0;34m]\u001b[0m\u001b[0;34m\u001b[0m\u001b[0;34m\u001b[0m\u001b[0m\n\u001b[1;32m      6\u001b[0m   plt.pie( \n\u001b[0;32m----> 7\u001b[0;31m           \u001b[0mlist\u001b[0m\u001b[0;34m(\u001b[0m\u001b[0mmap\u001b[0m\u001b[0;34m(\u001b[0m\u001b[0;32mlambda\u001b[0m \u001b[0mf\u001b[0m \u001b[0;34m:\u001b[0m \u001b[0mlen\u001b[0m\u001b[0;34m(\u001b[0m\u001b[0mos\u001b[0m\u001b[0;34m.\u001b[0m\u001b[0mlistdir\u001b[0m\u001b[0;34m(\u001b[0m\u001b[0mos\u001b[0m\u001b[0;34m.\u001b[0m\u001b[0mpath\u001b[0m\u001b[0;34m.\u001b[0m\u001b[0mjoin\u001b[0m\u001b[0;34m(\u001b[0m\u001b[0mdatasetDirectory\u001b[0m\u001b[0;34m,\u001b[0m\u001b[0mf\u001b[0m\u001b[0;34m)\u001b[0m\u001b[0;34m)\u001b[0m\u001b[0;34m)\u001b[0m\u001b[0;34m,\u001b[0m \u001b[0mos\u001b[0m\u001b[0;34m.\u001b[0m\u001b[0mlistdir\u001b[0m\u001b[0;34m(\u001b[0m\u001b[0mdatasetDirectory\u001b[0m\u001b[0;34m)\u001b[0m\u001b[0;34m)\u001b[0m\u001b[0;34m)\u001b[0m\u001b[0;34m,\u001b[0m\u001b[0;34m\u001b[0m\u001b[0;34m\u001b[0m\u001b[0m\n\u001b[0m\u001b[1;32m      8\u001b[0m           \u001b[0mlabels\u001b[0m \u001b[0;34m=\u001b[0m \u001b[0mos\u001b[0m\u001b[0;34m.\u001b[0m\u001b[0mlistdir\u001b[0m\u001b[0;34m(\u001b[0m\u001b[0mdatasetDirectory\u001b[0m\u001b[0;34m)\u001b[0m \u001b[0;34m,\u001b[0m\u001b[0;34m\u001b[0m\u001b[0;34m\u001b[0m\u001b[0m\n\u001b[1;32m      9\u001b[0m           autopct='%0.1f')\n",
            "\u001b[0;31mOSError\u001b[0m: [Errno 5] Input/output error: '/content/drive/My Drive/eva-4/Phase-2/Session-2/dataset/Flying_Birds'"
          ]
        },
        {
          "output_type": "stream",
          "text": [
            "time: 2min 13s\n"
          ],
          "name": "stdout"
        }
      ]
    },
    {
      "cell_type": "code",
      "metadata": {
        "id": "c4dwee_Re7Q0",
        "colab_type": "code",
        "colab": {
          "base_uri": "https://localhost:8080/",
          "height": 34
        },
        "outputId": "c53cc8c7-51e9-4b1c-c8b5-f13f96e7bdbe"
      },
      "source": [
        "# Load Transformations\n",
        "transform = loadtransformers()"
      ],
      "execution_count": 22,
      "outputs": [
        {
          "output_type": "stream",
          "text": [
            "time: 1.3 ms\n"
          ],
          "name": "stdout"
        }
      ]
    },
    {
      "cell_type": "code",
      "metadata": {
        "id": "XWZYHutnfDcE",
        "colab_type": "code",
        "colab": {
          "base_uri": "https://localhost:8080/",
          "height": 34
        },
        "outputId": "a1911a48-1d8f-4867-c197-915d9b7aea10"
      },
      "source": [
        "# Load Dataloader\n",
        "datasetDirectory = os.path.splitext(datasetFile)[0]\n",
        "train_loader, val_loader = loaddataset(datasetDirectory, transform, BATCH_SIZE, 0.7)"
      ],
      "execution_count": 23,
      "outputs": [
        {
          "output_type": "stream",
          "text": [
            "time: 288 ms\n"
          ],
          "name": "stdout"
        }
      ]
    },
    {
      "cell_type": "markdown",
      "metadata": {
        "id": "fS2hFokoUmiW",
        "colab_type": "text"
      },
      "source": [
        "Display Images\n",
        "---"
      ]
    },
    {
      "cell_type": "code",
      "metadata": {
        "id": "Aq-qiCBbUmif",
        "colab_type": "code",
        "colab": {
          "base_uri": "https://localhost:8080/",
          "height": 258
        },
        "outputId": "81915db3-532b-4182-e9a7-3809af2660e5"
      },
      "source": [
        "import numpy as np\n",
        "image, label = next(iter(train_loader))\n",
        "show(image,label)"
      ],
      "execution_count": 24,
      "outputs": [
        {
          "output_type": "stream",
          "text": [
            "Clipping input data to the valid range for imshow with RGB data ([0..1] for floats or [0..255] for integers).\n"
          ],
          "name": "stderr"
        },
        {
          "output_type": "display_data",
          "data": {
            "text/plain": [
              "<Figure size 432x288 with 0 Axes>"
            ]
          },
          "metadata": {
            "tags": []
          }
        },
        {
          "output_type": "display_data",
          "data": {
            "image/png": "[encoded data removed]",
            "text/plain": [
              "<Figure size 7200x7200 with 1 Axes>"
            ]
          },
          "metadata": {
            "tags": []
          }
        },
        {
          "output_type": "stream",
          "text": [
            "           [tensor(3)]            [tensor(1)]            [tensor(3)]            [tensor(3)]            [tensor(0)]            [tensor(3)]            [tensor(0)]            [tensor(1)]            [tensor(0)]            [tensor(0)]\n",
            "time: 2min 4s\n"
          ],
          "name": "stdout"
        }
      ]
    },
    {
      "cell_type": "markdown",
      "metadata": {
        "id": "BpFux0cIUmiq",
        "colab_type": "text"
      },
      "source": [
        "Load model\n",
        "---"
      ]
    },
    {
      "cell_type": "markdown",
      "metadata": {
        "id": "dGKhwRMS_B-t",
        "colab_type": "text"
      },
      "source": [
        "### Mobilenet_V2"
      ]
    },
    {
      "cell_type": "code",
      "metadata": {
        "id": "_i--dZh6Umir",
        "colab_type": "code",
        "colab": {
          "base_uri": "https://localhost:8080/",
          "height": 1000,
          "referenced_widgets": [
            "8736584c040f426d8f70579ad084dfea",
            "96cac6b40db9464a9a6fda06f66160db",
            "2a2b7681952b40589b056f64de6ecf6a",
            "aad08ddd60094765bb3f0f2866b7deb7",
            "8e8033bd8b634f468d36225a17548bac",
            "942f1732df4d44719ab5971877a586dd",
            "3a0c18d735a6478696e806b6a82c2247",
            "fafe7ca296d5494a901d808fcb54f379"
          ]
        },
        "outputId": "82a37f83-83ae-4769-e173-af23b9f139a3"
      },
      "source": [
        "device = torch.device(\"cuda\" if torch.cuda.is_available() else \"cpu\")\n",
        "model = torch.hub.load('pytorch/vision:v0.6.0', MODEL, pretrained=True)\n",
        "model.to(device)"
      ],
      "execution_count": 25,
      "outputs": [
        {
          "output_type": "stream",
          "text": [
            "Downloading: \"https://github.com/pytorch/vision/archive/v0.6.0.zip\" to /root/.cache/torch/hub/v0.6.0.zip\n",
            "Downloading: \"https://download.pytorch.org/models/mobilenet_v2-b0353104.pth\" to /root/.cache/torch/hub/checkpoints/mobilenet_v2-b0353104.pth\n"
          ],
          "name": "stderr"
        },
        {
          "output_type": "display_data",
          "data": {
            "application/vnd.jupyter.widget-view+json": {
              "model_id": "8736584c040f426d8f70579ad084dfea",
              "version_minor": 0,
              "version_major": 2
            },
            "text/plain": [
              "HBox(children=(FloatProgress(value=0.0, max=14212972.0), HTML(value='')))"
            ]
          },
          "metadata": {
            "tags": []
          }
        },
        {
          "output_type": "stream",
          "text": [
            "\n"
          ],
          "name": "stdout"
        },
        {
          "output_type": "execute_result",
          "data": {
            "text/plain": [
              "MobileNetV2(\n",
              "  (features): Sequential(\n",
              "    (0): ConvBNReLU(\n",
              "      (0): Conv2d(3, 32, kernel_size=(3, 3), stride=(2, 2), padding=(1, 1), bias=False)\n",
              "      (1): BatchNorm2d(32, eps=1e-05, momentum=0.1, affine=True, track_running_stats=True)\n",
              "      (2): ReLU6(inplace=True)\n",
              "    )\n",
              "    (1): InvertedResidual(\n",
              "      (conv): Sequential(\n",
              "        (0): ConvBNReLU(\n",
              "          (0): Conv2d(32, 32, kernel_size=(3, 3), stride=(1, 1), padding=(1, 1), groups=32, bias=False)\n",
              "          (1): BatchNorm2d(32, eps=1e-05, momentum=0.1, affine=True, track_running_stats=True)\n",
              "          (2): ReLU6(inplace=True)\n",
              "        )\n",
              "        (1): Conv2d(32, 16, kernel_size=(1, 1), stride=(1, 1), bias=False)\n",
              "        (2): BatchNorm2d(16, eps=1e-05, momentum=0.1, affine=True, track_running_stats=True)\n",
              "      )\n",
              "    )\n",
              "    (2): InvertedResidual(\n",
              "      (conv): Sequential(\n",
              "        (0): ConvBNReLU(\n",
              "          (0): Conv2d(16, 96, kernel_size=(1, 1), stride=(1, 1), bias=False)\n",
              "          (1): BatchNorm2d(96, eps=1e-05, momentum=0.1, affine=True, track_running_stats=True)\n",
              "          (2): ReLU6(inplace=True)\n",
              "        )\n",
              "        (1): ConvBNReLU(\n",
              "          (0): Conv2d(96, 96, kernel_size=(3, 3), stride=(2, 2), padding=(1, 1), groups=96, bias=False)\n",
              "          (1): BatchNorm2d(96, eps=1e-05, momentum=0.1, affine=True, track_running_stats=True)\n",
              "          (2): ReLU6(inplace=True)\n",
              "        )\n",
              "        (2): Conv2d(96, 24, kernel_size=(1, 1), stride=(1, 1), bias=False)\n",
              "        (3): BatchNorm2d(24, eps=1e-05, momentum=0.1, affine=True, track_running_stats=True)\n",
              "      )\n",
              "    )\n",
              "    (3): InvertedResidual(\n",
              "      (conv): Sequential(\n",
              "        (0): ConvBNReLU(\n",
              "          (0): Conv2d(24, 144, kernel_size=(1, 1), stride=(1, 1), bias=False)\n",
              "          (1): BatchNorm2d(144, eps=1e-05, momentum=0.1, affine=True, track_running_stats=True)\n",
              "          (2): ReLU6(inplace=True)\n",
              "        )\n",
              "        (1): ConvBNReLU(\n",
              "          (0): Conv2d(144, 144, kernel_size=(3, 3), stride=(1, 1), padding=(1, 1), groups=144, bias=False)\n",
              "          (1): BatchNorm2d(144, eps=1e-05, momentum=0.1, affine=True, track_running_stats=True)\n",
              "          (2): ReLU6(inplace=True)\n",
              "        )\n",
              "        (2): Conv2d(144, 24, kernel_size=(1, 1), stride=(1, 1), bias=False)\n",
              "        (3): BatchNorm2d(24, eps=1e-05, momentum=0.1, affine=True, track_running_stats=True)\n",
              "      )\n",
              "    )\n",
              "    (4): InvertedResidual(\n",
              "      (conv): Sequential(\n",
              "        (0): ConvBNReLU(\n",
              "          (0): Conv2d(24, 144, kernel_size=(1, 1), stride=(1, 1), bias=False)\n",
              "          (1): BatchNorm2d(144, eps=1e-05, momentum=0.1, affine=True, track_running_stats=True)\n",
              "          (2): ReLU6(inplace=True)\n",
              "        )\n",
              "        (1): ConvBNReLU(\n",
              "          (0): Conv2d(144, 144, kernel_size=(3, 3), stride=(2, 2), padding=(1, 1), groups=144, bias=False)\n",
              "          (1): BatchNorm2d(144, eps=1e-05, momentum=0.1, affine=True, track_running_stats=True)\n",
              "          (2): ReLU6(inplace=True)\n",
              "        )\n",
              "        (2): Conv2d(144, 32, kernel_size=(1, 1), stride=(1, 1), bias=False)\n",
              "        (3): BatchNorm2d(32, eps=1e-05, momentum=0.1, affine=True, track_running_stats=True)\n",
              "      )\n",
              "    )\n",
              "    (5): InvertedResidual(\n",
              "      (conv): Sequential(\n",
              "        (0): ConvBNReLU(\n",
              "          (0): Conv2d(32, 192, kernel_size=(1, 1), stride=(1, 1), bias=False)\n",
              "          (1): BatchNorm2d(192, eps=1e-05, momentum=0.1, affine=True, track_running_stats=True)\n",
              "          (2): ReLU6(inplace=True)\n",
              "        )\n",
              "        (1): ConvBNReLU(\n",
              "          (0): Conv2d(192, 192, kernel_size=(3, 3), stride=(1, 1), padding=(1, 1), groups=192, bias=False)\n",
              "          (1): BatchNorm2d(192, eps=1e-05, momentum=0.1, affine=True, track_running_stats=True)\n",
              "          (2): ReLU6(inplace=True)\n",
              "        )\n",
              "        (2): Conv2d(192, 32, kernel_size=(1, 1), stride=(1, 1), bias=False)\n",
              "        (3): BatchNorm2d(32, eps=1e-05, momentum=0.1, affine=True, track_running_stats=True)\n",
              "      )\n",
              "    )\n",
              "    (6): InvertedResidual(\n",
              "      (conv): Sequential(\n",
              "        (0): ConvBNReLU(\n",
              "          (0): Conv2d(32, 192, kernel_size=(1, 1), stride=(1, 1), bias=False)\n",
              "          (1): BatchNorm2d(192, eps=1e-05, momentum=0.1, affine=True, track_running_stats=True)\n",
              "          (2): ReLU6(inplace=True)\n",
              "        )\n",
              "        (1): ConvBNReLU(\n",
              "          (0): Conv2d(192, 192, kernel_size=(3, 3), stride=(1, 1), padding=(1, 1), groups=192, bias=False)\n",
              "          (1): BatchNorm2d(192, eps=1e-05, momentum=0.1, affine=True, track_running_stats=True)\n",
              "          (2): ReLU6(inplace=True)\n",
              "        )\n",
              "        (2): Conv2d(192, 32, kernel_size=(1, 1), stride=(1, 1), bias=False)\n",
              "        (3): BatchNorm2d(32, eps=1e-05, momentum=0.1, affine=True, track_running_stats=True)\n",
              "      )\n",
              "    )\n",
              "    (7): InvertedResidual(\n",
              "      (conv): Sequential(\n",
              "        (0): ConvBNReLU(\n",
              "          (0): Conv2d(32, 192, kernel_size=(1, 1), stride=(1, 1), bias=False)\n",
              "          (1): BatchNorm2d(192, eps=1e-05, momentum=0.1, affine=True, track_running_stats=True)\n",
              "          (2): ReLU6(inplace=True)\n",
              "        )\n",
              "        (1): ConvBNReLU(\n",
              "          (0): Conv2d(192, 192, kernel_size=(3, 3), stride=(2, 2), padding=(1, 1), groups=192, bias=False)\n",
              "          (1): BatchNorm2d(192, eps=1e-05, momentum=0.1, affine=True, track_running_stats=True)\n",
              "          (2): ReLU6(inplace=True)\n",
              "        )\n",
              "        (2): Conv2d(192, 64, kernel_size=(1, 1), stride=(1, 1), bias=False)\n",
              "        (3): BatchNorm2d(64, eps=1e-05, momentum=0.1, affine=True, track_running_stats=True)\n",
              "      )\n",
              "    )\n",
              "    (8): InvertedResidual(\n",
              "      (conv): Sequential(\n",
              "        (0): ConvBNReLU(\n",
              "          (0): Conv2d(64, 384, kernel_size=(1, 1), stride=(1, 1), bias=False)\n",
              "          (1): BatchNorm2d(384, eps=1e-05, momentum=0.1, affine=True, track_running_stats=True)\n",
              "          (2): ReLU6(inplace=True)\n",
              "        )\n",
              "        (1): ConvBNReLU(\n",
              "          (0): Conv2d(384, 384, kernel_size=(3, 3), stride=(1, 1), padding=(1, 1), groups=384, bias=False)\n",
              "          (1): BatchNorm2d(384, eps=1e-05, momentum=0.1, affine=True, track_running_stats=True)\n",
              "          (2): ReLU6(inplace=True)\n",
              "        )\n",
              "        (2): Conv2d(384, 64, kernel_size=(1, 1), stride=(1, 1), bias=False)\n",
              "        (3): BatchNorm2d(64, eps=1e-05, momentum=0.1, affine=True, track_running_stats=True)\n",
              "      )\n",
              "    )\n",
              "    (9): InvertedResidual(\n",
              "      (conv): Sequential(\n",
              "        (0): ConvBNReLU(\n",
              "          (0): Conv2d(64, 384, kernel_size=(1, 1), stride=(1, 1), bias=False)\n",
              "          (1): BatchNorm2d(384, eps=1e-05, momentum=0.1, affine=True, track_running_stats=True)\n",
              "          (2): ReLU6(inplace=True)\n",
              "        )\n",
              "        (1): ConvBNReLU(\n",
              "          (0): Conv2d(384, 384, kernel_size=(3, 3), stride=(1, 1), padding=(1, 1), groups=384, bias=False)\n",
              "          (1): BatchNorm2d(384, eps=1e-05, momentum=0.1, affine=True, track_running_stats=True)\n",
              "          (2): ReLU6(inplace=True)\n",
              "        )\n",
              "        (2): Conv2d(384, 64, kernel_size=(1, 1), stride=(1, 1), bias=False)\n",
              "        (3): BatchNorm2d(64, eps=1e-05, momentum=0.1, affine=True, track_running_stats=True)\n",
              "      )\n",
              "    )\n",
              "    (10): InvertedResidual(\n",
              "      (conv): Sequential(\n",
              "        (0): ConvBNReLU(\n",
              "          (0): Conv2d(64, 384, kernel_size=(1, 1), stride=(1, 1), bias=False)\n",
              "          (1): BatchNorm2d(384, eps=1e-05, momentum=0.1, affine=True, track_running_stats=True)\n",
              "          (2): ReLU6(inplace=True)\n",
              "        )\n",
              "        (1): ConvBNReLU(\n",
              "          (0): Conv2d(384, 384, kernel_size=(3, 3), stride=(1, 1), padding=(1, 1), groups=384, bias=False)\n",
              "          (1): BatchNorm2d(384, eps=1e-05, momentum=0.1, affine=True, track_running_stats=True)\n",
              "          (2): ReLU6(inplace=True)\n",
              "        )\n",
              "        (2): Conv2d(384, 64, kernel_size=(1, 1), stride=(1, 1), bias=False)\n",
              "        (3): BatchNorm2d(64, eps=1e-05, momentum=0.1, affine=True, track_running_stats=True)\n",
              "      )\n",
              "    )\n",
              "    (11): InvertedResidual(\n",
              "      (conv): Sequential(\n",
              "        (0): ConvBNReLU(\n",
              "          (0): Conv2d(64, 384, kernel_size=(1, 1), stride=(1, 1), bias=False)\n",
              "          (1): BatchNorm2d(384, eps=1e-05, momentum=0.1, affine=True, track_running_stats=True)\n",
              "          (2): ReLU6(inplace=True)\n",
              "        )\n",
              "        (1): ConvBNReLU(\n",
              "          (0): Conv2d(384, 384, kernel_size=(3, 3), stride=(1, 1), padding=(1, 1), groups=384, bias=False)\n",
              "          (1): BatchNorm2d(384, eps=1e-05, momentum=0.1, affine=True, track_running_stats=True)\n",
              "          (2): ReLU6(inplace=True)\n",
              "        )\n",
              "        (2): Conv2d(384, 96, kernel_size=(1, 1), stride=(1, 1), bias=False)\n",
              "        (3): BatchNorm2d(96, eps=1e-05, momentum=0.1, affine=True, track_running_stats=True)\n",
              "      )\n",
              "    )\n",
              "    (12): InvertedResidual(\n",
              "      (conv): Sequential(\n",
              "        (0): ConvBNReLU(\n",
              "          (0): Conv2d(96, 576, kernel_size=(1, 1), stride=(1, 1), bias=False)\n",
              "          (1): BatchNorm2d(576, eps=1e-05, momentum=0.1, affine=True, track_running_stats=True)\n",
              "          (2): ReLU6(inplace=True)\n",
              "        )\n",
              "        (1): ConvBNReLU(\n",
              "          (0): Conv2d(576, 576, kernel_size=(3, 3), stride=(1, 1), padding=(1, 1), groups=576, bias=False)\n",
              "          (1): BatchNorm2d(576, eps=1e-05, momentum=0.1, affine=True, track_running_stats=True)\n",
              "          (2): ReLU6(inplace=True)\n",
              "        )\n",
              "        (2): Conv2d(576, 96, kernel_size=(1, 1), stride=(1, 1), bias=False)\n",
              "        (3): BatchNorm2d(96, eps=1e-05, momentum=0.1, affine=True, track_running_stats=True)\n",
              "      )\n",
              "    )\n",
              "    (13): InvertedResidual(\n",
              "      (conv): Sequential(\n",
              "        (0): ConvBNReLU(\n",
              "          (0): Conv2d(96, 576, kernel_size=(1, 1), stride=(1, 1), bias=False)\n",
              "          (1): BatchNorm2d(576, eps=1e-05, momentum=0.1, affine=True, track_running_stats=True)\n",
              "          (2): ReLU6(inplace=True)\n",
              "        )\n",
              "        (1): ConvBNReLU(\n",
              "          (0): Conv2d(576, 576, kernel_size=(3, 3), stride=(1, 1), padding=(1, 1), groups=576, bias=False)\n",
              "          (1): BatchNorm2d(576, eps=1e-05, momentum=0.1, affine=True, track_running_stats=True)\n",
              "          (2): ReLU6(inplace=True)\n",
              "        )\n",
              "        (2): Conv2d(576, 96, kernel_size=(1, 1), stride=(1, 1), bias=False)\n",
              "        (3): BatchNorm2d(96, eps=1e-05, momentum=0.1, affine=True, track_running_stats=True)\n",
              "      )\n",
              "    )\n",
              "    (14): InvertedResidual(\n",
              "      (conv): Sequential(\n",
              "        (0): ConvBNReLU(\n",
              "          (0): Conv2d(96, 576, kernel_size=(1, 1), stride=(1, 1), bias=False)\n",
              "          (1): BatchNorm2d(576, eps=1e-05, momentum=0.1, affine=True, track_running_stats=True)\n",
              "          (2): ReLU6(inplace=True)\n",
              "        )\n",
              "        (1): ConvBNReLU(\n",
              "          (0): Conv2d(576, 576, kernel_size=(3, 3), stride=(2, 2), padding=(1, 1), groups=576, bias=False)\n",
              "          (1): BatchNorm2d(576, eps=1e-05, momentum=0.1, affine=True, track_running_stats=True)\n",
              "          (2): ReLU6(inplace=True)\n",
              "        )\n",
              "        (2): Conv2d(576, 160, kernel_size=(1, 1), stride=(1, 1), bias=False)\n",
              "        (3): BatchNorm2d(160, eps=1e-05, momentum=0.1, affine=True, track_running_stats=True)\n",
              "      )\n",
              "    )\n",
              "    (15): InvertedResidual(\n",
              "      (conv): Sequential(\n",
              "        (0): ConvBNReLU(\n",
              "          (0): Conv2d(160, 960, kernel_size=(1, 1), stride=(1, 1), bias=False)\n",
              "          (1): BatchNorm2d(960, eps=1e-05, momentum=0.1, affine=True, track_running_stats=True)\n",
              "          (2): ReLU6(inplace=True)\n",
              "        )\n",
              "        (1): ConvBNReLU(\n",
              "          (0): Conv2d(960, 960, kernel_size=(3, 3), stride=(1, 1), padding=(1, 1), groups=960, bias=False)\n",
              "          (1): BatchNorm2d(960, eps=1e-05, momentum=0.1, affine=True, track_running_stats=True)\n",
              "          (2): ReLU6(inplace=True)\n",
              "        )\n",
              "        (2): Conv2d(960, 160, kernel_size=(1, 1), stride=(1, 1), bias=False)\n",
              "        (3): BatchNorm2d(160, eps=1e-05, momentum=0.1, affine=True, track_running_stats=True)\n",
              "      )\n",
              "    )\n",
              "    (16): InvertedResidual(\n",
              "      (conv): Sequential(\n",
              "        (0): ConvBNReLU(\n",
              "          (0): Conv2d(160, 960, kernel_size=(1, 1), stride=(1, 1), bias=False)\n",
              "          (1): BatchNorm2d(960, eps=1e-05, momentum=0.1, affine=True, track_running_stats=True)\n",
              "          (2): ReLU6(inplace=True)\n",
              "        )\n",
              "        (1): ConvBNReLU(\n",
              "          (0): Conv2d(960, 960, kernel_size=(3, 3), stride=(1, 1), padding=(1, 1), groups=960, bias=False)\n",
              "          (1): BatchNorm2d(960, eps=1e-05, momentum=0.1, affine=True, track_running_stats=True)\n",
              "          (2): ReLU6(inplace=True)\n",
              "        )\n",
              "        (2): Conv2d(960, 160, kernel_size=(1, 1), stride=(1, 1), bias=False)\n",
              "        (3): BatchNorm2d(160, eps=1e-05, momentum=0.1, affine=True, track_running_stats=True)\n",
              "      )\n",
              "    )\n",
              "    (17): InvertedResidual(\n",
              "      (conv): Sequential(\n",
              "        (0): ConvBNReLU(\n",
              "          (0): Conv2d(160, 960, kernel_size=(1, 1), stride=(1, 1), bias=False)\n",
              "          (1): BatchNorm2d(960, eps=1e-05, momentum=0.1, affine=True, track_running_stats=True)\n",
              "          (2): ReLU6(inplace=True)\n",
              "        )\n",
              "        (1): ConvBNReLU(\n",
              "          (0): Conv2d(960, 960, kernel_size=(3, 3), stride=(1, 1), padding=(1, 1), groups=960, bias=False)\n",
              "          (1): BatchNorm2d(960, eps=1e-05, momentum=0.1, affine=True, track_running_stats=True)\n",
              "          (2): ReLU6(inplace=True)\n",
              "        )\n",
              "        (2): Conv2d(960, 320, kernel_size=(1, 1), stride=(1, 1), bias=False)\n",
              "        (3): BatchNorm2d(320, eps=1e-05, momentum=0.1, affine=True, track_running_stats=True)\n",
              "      )\n",
              "    )\n",
              "    (18): ConvBNReLU(\n",
              "      (0): Conv2d(320, 1280, kernel_size=(1, 1), stride=(1, 1), bias=False)\n",
              "      (1): BatchNorm2d(1280, eps=1e-05, momentum=0.1, affine=True, track_running_stats=True)\n",
              "      (2): ReLU6(inplace=True)\n",
              "    )\n",
              "  )\n",
              "  (classifier): Sequential(\n",
              "    (0): Dropout(p=0.2, inplace=False)\n",
              "    (1): Linear(in_features=1280, out_features=1000, bias=True)\n",
              "  )\n",
              ")"
            ]
          },
          "metadata": {
            "tags": []
          },
          "execution_count": 25
        },
        {
          "output_type": "stream",
          "text": [
            "time: 4.56 s\n"
          ],
          "name": "stdout"
        }
      ]
    },
    {
      "cell_type": "markdown",
      "metadata": {
        "id": "Pi4B7ER_c55y",
        "colab_type": "text"
      },
      "source": [
        "#### Freeze and modify Classification layer"
      ]
    },
    {
      "cell_type": "code",
      "metadata": {
        "id": "oHXvLNESc77e",
        "colab_type": "code",
        "colab": {
          "base_uri": "https://localhost:8080/",
          "height": 34
        },
        "outputId": "cfae369b-0308-48a1-8fe8-69a285e1605e"
      },
      "source": [
        "for param in model.parameters():\n",
        "    param.requires_grad = False    \n",
        "\n",
        "n_inputs = model.classifier[1].in_features\n",
        "\n",
        "model.classifier = torch.nn.Sequential(torch.nn.Dropout(0.2),\n",
        "                            torch.nn.Linear(n_inputs, 512),\n",
        "                            torch.nn.ReLU(),\n",
        "                            torch.nn.Dropout(0.2),\n",
        "                            torch.nn.Linear(512, 4),                            \n",
        "                            torch.nn.LogSoftmax(dim=1))"
      ],
      "execution_count": 26,
      "outputs": [
        {
          "output_type": "stream",
          "text": [
            "time: 16 ms\n"
          ],
          "name": "stdout"
        }
      ]
    },
    {
      "cell_type": "code",
      "metadata": {
        "id": "4REIzhmKdFqo",
        "colab_type": "code",
        "colab": {
          "base_uri": "https://localhost:8080/",
          "height": 1000
        },
        "outputId": "3714b60e-0fef-4950-9713-bc613630d050"
      },
      "source": [
        "model.to(device)"
      ],
      "execution_count": 27,
      "outputs": [
        {
          "output_type": "execute_result",
          "data": {
            "text/plain": [
              "MobileNetV2(\n",
              "  (features): Sequential(\n",
              "    (0): ConvBNReLU(\n",
              "      (0): Conv2d(3, 32, kernel_size=(3, 3), stride=(2, 2), padding=(1, 1), bias=False)\n",
              "      (1): BatchNorm2d(32, eps=1e-05, momentum=0.1, affine=True, track_running_stats=True)\n",
              "      (2): ReLU6(inplace=True)\n",
              "    )\n",
              "    (1): InvertedResidual(\n",
              "      (conv): Sequential(\n",
              "        (0): ConvBNReLU(\n",
              "          (0): Conv2d(32, 32, kernel_size=(3, 3), stride=(1, 1), padding=(1, 1), groups=32, bias=False)\n",
              "          (1): BatchNorm2d(32, eps=1e-05, momentum=0.1, affine=True, track_running_stats=True)\n",
              "          (2): ReLU6(inplace=True)\n",
              "        )\n",
              "        (1): Conv2d(32, 16, kernel_size=(1, 1), stride=(1, 1), bias=False)\n",
              "        (2): BatchNorm2d(16, eps=1e-05, momentum=0.1, affine=True, track_running_stats=True)\n",
              "      )\n",
              "    )\n",
              "    (2): InvertedResidual(\n",
              "      (conv): Sequential(\n",
              "        (0): ConvBNReLU(\n",
              "          (0): Conv2d(16, 96, kernel_size=(1, 1), stride=(1, 1), bias=False)\n",
              "          (1): BatchNorm2d(96, eps=1e-05, momentum=0.1, affine=True, track_running_stats=True)\n",
              "          (2): ReLU6(inplace=True)\n",
              "        )\n",
              "        (1): ConvBNReLU(\n",
              "          (0): Conv2d(96, 96, kernel_size=(3, 3), stride=(2, 2), padding=(1, 1), groups=96, bias=False)\n",
              "          (1): BatchNorm2d(96, eps=1e-05, momentum=0.1, affine=True, track_running_stats=True)\n",
              "          (2): ReLU6(inplace=True)\n",
              "        )\n",
              "        (2): Conv2d(96, 24, kernel_size=(1, 1), stride=(1, 1), bias=False)\n",
              "        (3): BatchNorm2d(24, eps=1e-05, momentum=0.1, affine=True, track_running_stats=True)\n",
              "      )\n",
              "    )\n",
              "    (3): InvertedResidual(\n",
              "      (conv): Sequential(\n",
              "        (0): ConvBNReLU(\n",
              "          (0): Conv2d(24, 144, kernel_size=(1, 1), stride=(1, 1), bias=False)\n",
              "          (1): BatchNorm2d(144, eps=1e-05, momentum=0.1, affine=True, track_running_stats=True)\n",
              "          (2): ReLU6(inplace=True)\n",
              "        )\n",
              "        (1): ConvBNReLU(\n",
              "          (0): Conv2d(144, 144, kernel_size=(3, 3), stride=(1, 1), padding=(1, 1), groups=144, bias=False)\n",
              "          (1): BatchNorm2d(144, eps=1e-05, momentum=0.1, affine=True, track_running_stats=True)\n",
              "          (2): ReLU6(inplace=True)\n",
              "        )\n",
              "        (2): Conv2d(144, 24, kernel_size=(1, 1), stride=(1, 1), bias=False)\n",
              "        (3): BatchNorm2d(24, eps=1e-05, momentum=0.1, affine=True, track_running_stats=True)\n",
              "      )\n",
              "    )\n",
              "    (4): InvertedResidual(\n",
              "      (conv): Sequential(\n",
              "        (0): ConvBNReLU(\n",
              "          (0): Conv2d(24, 144, kernel_size=(1, 1), stride=(1, 1), bias=False)\n",
              "          (1): BatchNorm2d(144, eps=1e-05, momentum=0.1, affine=True, track_running_stats=True)\n",
              "          (2): ReLU6(inplace=True)\n",
              "        )\n",
              "        (1): ConvBNReLU(\n",
              "          (0): Conv2d(144, 144, kernel_size=(3, 3), stride=(2, 2), padding=(1, 1), groups=144, bias=False)\n",
              "          (1): BatchNorm2d(144, eps=1e-05, momentum=0.1, affine=True, track_running_stats=True)\n",
              "          (2): ReLU6(inplace=True)\n",
              "        )\n",
              "        (2): Conv2d(144, 32, kernel_size=(1, 1), stride=(1, 1), bias=False)\n",
              "        (3): BatchNorm2d(32, eps=1e-05, momentum=0.1, affine=True, track_running_stats=True)\n",
              "      )\n",
              "    )\n",
              "    (5): InvertedResidual(\n",
              "      (conv): Sequential(\n",
              "        (0): ConvBNReLU(\n",
              "          (0): Conv2d(32, 192, kernel_size=(1, 1), stride=(1, 1), bias=False)\n",
              "          (1): BatchNorm2d(192, eps=1e-05, momentum=0.1, affine=True, track_running_stats=True)\n",
              "          (2): ReLU6(inplace=True)\n",
              "        )\n",
              "        (1): ConvBNReLU(\n",
              "          (0): Conv2d(192, 192, kernel_size=(3, 3), stride=(1, 1), padding=(1, 1), groups=192, bias=False)\n",
              "          (1): BatchNorm2d(192, eps=1e-05, momentum=0.1, affine=True, track_running_stats=True)\n",
              "          (2): ReLU6(inplace=True)\n",
              "        )\n",
              "        (2): Conv2d(192, 32, kernel_size=(1, 1), stride=(1, 1), bias=False)\n",
              "        (3): BatchNorm2d(32, eps=1e-05, momentum=0.1, affine=True, track_running_stats=True)\n",
              "      )\n",
              "    )\n",
              "    (6): InvertedResidual(\n",
              "      (conv): Sequential(\n",
              "        (0): ConvBNReLU(\n",
              "          (0): Conv2d(32, 192, kernel_size=(1, 1), stride=(1, 1), bias=False)\n",
              "          (1): BatchNorm2d(192, eps=1e-05, momentum=0.1, affine=True, track_running_stats=True)\n",
              "          (2): ReLU6(inplace=True)\n",
              "        )\n",
              "        (1): ConvBNReLU(\n",
              "          (0): Conv2d(192, 192, kernel_size=(3, 3), stride=(1, 1), padding=(1, 1), groups=192, bias=False)\n",
              "          (1): BatchNorm2d(192, eps=1e-05, momentum=0.1, affine=True, track_running_stats=True)\n",
              "          (2): ReLU6(inplace=True)\n",
              "        )\n",
              "        (2): Conv2d(192, 32, kernel_size=(1, 1), stride=(1, 1), bias=False)\n",
              "        (3): BatchNorm2d(32, eps=1e-05, momentum=0.1, affine=True, track_running_stats=True)\n",
              "      )\n",
              "    )\n",
              "    (7): InvertedResidual(\n",
              "      (conv): Sequential(\n",
              "        (0): ConvBNReLU(\n",
              "          (0): Conv2d(32, 192, kernel_size=(1, 1), stride=(1, 1), bias=False)\n",
              "          (1): BatchNorm2d(192, eps=1e-05, momentum=0.1, affine=True, track_running_stats=True)\n",
              "          (2): ReLU6(inplace=True)\n",
              "        )\n",
              "        (1): ConvBNReLU(\n",
              "          (0): Conv2d(192, 192, kernel_size=(3, 3), stride=(2, 2), padding=(1, 1), groups=192, bias=False)\n",
              "          (1): BatchNorm2d(192, eps=1e-05, momentum=0.1, affine=True, track_running_stats=True)\n",
              "          (2): ReLU6(inplace=True)\n",
              "        )\n",
              "        (2): Conv2d(192, 64, kernel_size=(1, 1), stride=(1, 1), bias=False)\n",
              "        (3): BatchNorm2d(64, eps=1e-05, momentum=0.1, affine=True, track_running_stats=True)\n",
              "      )\n",
              "    )\n",
              "    (8): InvertedResidual(\n",
              "      (conv): Sequential(\n",
              "        (0): ConvBNReLU(\n",
              "          (0): Conv2d(64, 384, kernel_size=(1, 1), stride=(1, 1), bias=False)\n",
              "          (1): BatchNorm2d(384, eps=1e-05, momentum=0.1, affine=True, track_running_stats=True)\n",
              "          (2): ReLU6(inplace=True)\n",
              "        )\n",
              "        (1): ConvBNReLU(\n",
              "          (0): Conv2d(384, 384, kernel_size=(3, 3), stride=(1, 1), padding=(1, 1), groups=384, bias=False)\n",
              "          (1): BatchNorm2d(384, eps=1e-05, momentum=0.1, affine=True, track_running_stats=True)\n",
              "          (2): ReLU6(inplace=True)\n",
              "        )\n",
              "        (2): Conv2d(384, 64, kernel_size=(1, 1), stride=(1, 1), bias=False)\n",
              "        (3): BatchNorm2d(64, eps=1e-05, momentum=0.1, affine=True, track_running_stats=True)\n",
              "      )\n",
              "    )\n",
              "    (9): InvertedResidual(\n",
              "      (conv): Sequential(\n",
              "        (0): ConvBNReLU(\n",
              "          (0): Conv2d(64, 384, kernel_size=(1, 1), stride=(1, 1), bias=False)\n",
              "          (1): BatchNorm2d(384, eps=1e-05, momentum=0.1, affine=True, track_running_stats=True)\n",
              "          (2): ReLU6(inplace=True)\n",
              "        )\n",
              "        (1): ConvBNReLU(\n",
              "          (0): Conv2d(384, 384, kernel_size=(3, 3), stride=(1, 1), padding=(1, 1), groups=384, bias=False)\n",
              "          (1): BatchNorm2d(384, eps=1e-05, momentum=0.1, affine=True, track_running_stats=True)\n",
              "          (2): ReLU6(inplace=True)\n",
              "        )\n",
              "        (2): Conv2d(384, 64, kernel_size=(1, 1), stride=(1, 1), bias=False)\n",
              "        (3): BatchNorm2d(64, eps=1e-05, momentum=0.1, affine=True, track_running_stats=True)\n",
              "      )\n",
              "    )\n",
              "    (10): InvertedResidual(\n",
              "      (conv): Sequential(\n",
              "        (0): ConvBNReLU(\n",
              "          (0): Conv2d(64, 384, kernel_size=(1, 1), stride=(1, 1), bias=False)\n",
              "          (1): BatchNorm2d(384, eps=1e-05, momentum=0.1, affine=True, track_running_stats=True)\n",
              "          (2): ReLU6(inplace=True)\n",
              "        )\n",
              "        (1): ConvBNReLU(\n",
              "          (0): Conv2d(384, 384, kernel_size=(3, 3), stride=(1, 1), padding=(1, 1), groups=384, bias=False)\n",
              "          (1): BatchNorm2d(384, eps=1e-05, momentum=0.1, affine=True, track_running_stats=True)\n",
              "          (2): ReLU6(inplace=True)\n",
              "        )\n",
              "        (2): Conv2d(384, 64, kernel_size=(1, 1), stride=(1, 1), bias=False)\n",
              "        (3): BatchNorm2d(64, eps=1e-05, momentum=0.1, affine=True, track_running_stats=True)\n",
              "      )\n",
              "    )\n",
              "    (11): InvertedResidual(\n",
              "      (conv): Sequential(\n",
              "        (0): ConvBNReLU(\n",
              "          (0): Conv2d(64, 384, kernel_size=(1, 1), stride=(1, 1), bias=False)\n",
              "          (1): BatchNorm2d(384, eps=1e-05, momentum=0.1, affine=True, track_running_stats=True)\n",
              "          (2): ReLU6(inplace=True)\n",
              "        )\n",
              "        (1): ConvBNReLU(\n",
              "          (0): Conv2d(384, 384, kernel_size=(3, 3), stride=(1, 1), padding=(1, 1), groups=384, bias=False)\n",
              "          (1): BatchNorm2d(384, eps=1e-05, momentum=0.1, affine=True, track_running_stats=True)\n",
              "          (2): ReLU6(inplace=True)\n",
              "        )\n",
              "        (2): Conv2d(384, 96, kernel_size=(1, 1), stride=(1, 1), bias=False)\n",
              "        (3): BatchNorm2d(96, eps=1e-05, momentum=0.1, affine=True, track_running_stats=True)\n",
              "      )\n",
              "    )\n",
              "    (12): InvertedResidual(\n",
              "      (conv): Sequential(\n",
              "        (0): ConvBNReLU(\n",
              "          (0): Conv2d(96, 576, kernel_size=(1, 1), stride=(1, 1), bias=False)\n",
              "          (1): BatchNorm2d(576, eps=1e-05, momentum=0.1, affine=True, track_running_stats=True)\n",
              "          (2): ReLU6(inplace=True)\n",
              "        )\n",
              "        (1): ConvBNReLU(\n",
              "          (0): Conv2d(576, 576, kernel_size=(3, 3), stride=(1, 1), padding=(1, 1), groups=576, bias=False)\n",
              "          (1): BatchNorm2d(576, eps=1e-05, momentum=0.1, affine=True, track_running_stats=True)\n",
              "          (2): ReLU6(inplace=True)\n",
              "        )\n",
              "        (2): Conv2d(576, 96, kernel_size=(1, 1), stride=(1, 1), bias=False)\n",
              "        (3): BatchNorm2d(96, eps=1e-05, momentum=0.1, affine=True, track_running_stats=True)\n",
              "      )\n",
              "    )\n",
              "    (13): InvertedResidual(\n",
              "      (conv): Sequential(\n",
              "        (0): ConvBNReLU(\n",
              "          (0): Conv2d(96, 576, kernel_size=(1, 1), stride=(1, 1), bias=False)\n",
              "          (1): BatchNorm2d(576, eps=1e-05, momentum=0.1, affine=True, track_running_stats=True)\n",
              "          (2): ReLU6(inplace=True)\n",
              "        )\n",
              "        (1): ConvBNReLU(\n",
              "          (0): Conv2d(576, 576, kernel_size=(3, 3), stride=(1, 1), padding=(1, 1), groups=576, bias=False)\n",
              "          (1): BatchNorm2d(576, eps=1e-05, momentum=0.1, affine=True, track_running_stats=True)\n",
              "          (2): ReLU6(inplace=True)\n",
              "        )\n",
              "        (2): Conv2d(576, 96, kernel_size=(1, 1), stride=(1, 1), bias=False)\n",
              "        (3): BatchNorm2d(96, eps=1e-05, momentum=0.1, affine=True, track_running_stats=True)\n",
              "      )\n",
              "    )\n",
              "    (14): InvertedResidual(\n",
              "      (conv): Sequential(\n",
              "        (0): ConvBNReLU(\n",
              "          (0): Conv2d(96, 576, kernel_size=(1, 1), stride=(1, 1), bias=False)\n",
              "          (1): BatchNorm2d(576, eps=1e-05, momentum=0.1, affine=True, track_running_stats=True)\n",
              "          (2): ReLU6(inplace=True)\n",
              "        )\n",
              "        (1): ConvBNReLU(\n",
              "          (0): Conv2d(576, 576, kernel_size=(3, 3), stride=(2, 2), padding=(1, 1), groups=576, bias=False)\n",
              "          (1): BatchNorm2d(576, eps=1e-05, momentum=0.1, affine=True, track_running_stats=True)\n",
              "          (2): ReLU6(inplace=True)\n",
              "        )\n",
              "        (2): Conv2d(576, 160, kernel_size=(1, 1), stride=(1, 1), bias=False)\n",
              "        (3): BatchNorm2d(160, eps=1e-05, momentum=0.1, affine=True, track_running_stats=True)\n",
              "      )\n",
              "    )\n",
              "    (15): InvertedResidual(\n",
              "      (conv): Sequential(\n",
              "        (0): ConvBNReLU(\n",
              "          (0): Conv2d(160, 960, kernel_size=(1, 1), stride=(1, 1), bias=False)\n",
              "          (1): BatchNorm2d(960, eps=1e-05, momentum=0.1, affine=True, track_running_stats=True)\n",
              "          (2): ReLU6(inplace=True)\n",
              "        )\n",
              "        (1): ConvBNReLU(\n",
              "          (0): Conv2d(960, 960, kernel_size=(3, 3), stride=(1, 1), padding=(1, 1), groups=960, bias=False)\n",
              "          (1): BatchNorm2d(960, eps=1e-05, momentum=0.1, affine=True, track_running_stats=True)\n",
              "          (2): ReLU6(inplace=True)\n",
              "        )\n",
              "        (2): Conv2d(960, 160, kernel_size=(1, 1), stride=(1, 1), bias=False)\n",
              "        (3): BatchNorm2d(160, eps=1e-05, momentum=0.1, affine=True, track_running_stats=True)\n",
              "      )\n",
              "    )\n",
              "    (16): InvertedResidual(\n",
              "      (conv): Sequential(\n",
              "        (0): ConvBNReLU(\n",
              "          (0): Conv2d(160, 960, kernel_size=(1, 1), stride=(1, 1), bias=False)\n",
              "          (1): BatchNorm2d(960, eps=1e-05, momentum=0.1, affine=True, track_running_stats=True)\n",
              "          (2): ReLU6(inplace=True)\n",
              "        )\n",
              "        (1): ConvBNReLU(\n",
              "          (0): Conv2d(960, 960, kernel_size=(3, 3), stride=(1, 1), padding=(1, 1), groups=960, bias=False)\n",
              "          (1): BatchNorm2d(960, eps=1e-05, momentum=0.1, affine=True, track_running_stats=True)\n",
              "          (2): ReLU6(inplace=True)\n",
              "        )\n",
              "        (2): Conv2d(960, 160, kernel_size=(1, 1), stride=(1, 1), bias=False)\n",
              "        (3): BatchNorm2d(160, eps=1e-05, momentum=0.1, affine=True, track_running_stats=True)\n",
              "      )\n",
              "    )\n",
              "    (17): InvertedResidual(\n",
              "      (conv): Sequential(\n",
              "        (0): ConvBNReLU(\n",
              "          (0): Conv2d(160, 960, kernel_size=(1, 1), stride=(1, 1), bias=False)\n",
              "          (1): BatchNorm2d(960, eps=1e-05, momentum=0.1, affine=True, track_running_stats=True)\n",
              "          (2): ReLU6(inplace=True)\n",
              "        )\n",
              "        (1): ConvBNReLU(\n",
              "          (0): Conv2d(960, 960, kernel_size=(3, 3), stride=(1, 1), padding=(1, 1), groups=960, bias=False)\n",
              "          (1): BatchNorm2d(960, eps=1e-05, momentum=0.1, affine=True, track_running_stats=True)\n",
              "          (2): ReLU6(inplace=True)\n",
              "        )\n",
              "        (2): Conv2d(960, 320, kernel_size=(1, 1), stride=(1, 1), bias=False)\n",
              "        (3): BatchNorm2d(320, eps=1e-05, momentum=0.1, affine=True, track_running_stats=True)\n",
              "      )\n",
              "    )\n",
              "    (18): ConvBNReLU(\n",
              "      (0): Conv2d(320, 1280, kernel_size=(1, 1), stride=(1, 1), bias=False)\n",
              "      (1): BatchNorm2d(1280, eps=1e-05, momentum=0.1, affine=True, track_running_stats=True)\n",
              "      (2): ReLU6(inplace=True)\n",
              "    )\n",
              "  )\n",
              "  (classifier): Sequential(\n",
              "    (0): Dropout(p=0.2, inplace=False)\n",
              "    (1): Linear(in_features=1280, out_features=512, bias=True)\n",
              "    (2): ReLU()\n",
              "    (3): Dropout(p=0.2, inplace=False)\n",
              "    (4): Linear(in_features=512, out_features=4, bias=True)\n",
              "    (5): LogSoftmax()\n",
              "  )\n",
              ")"
            ]
          },
          "metadata": {
            "tags": []
          },
          "execution_count": 27
        },
        {
          "output_type": "stream",
          "text": [
            "time: 14.1 ms\n"
          ],
          "name": "stdout"
        }
      ]
    },
    {
      "cell_type": "code",
      "metadata": {
        "id": "V_v4t8cafzzT",
        "colab_type": "code",
        "colab": {
          "base_uri": "https://localhost:8080/",
          "height": 1000
        },
        "outputId": "3a92cb7c-9dab-4a0d-a382-d5e66c13fe43"
      },
      "source": [
        "# Print Summary\n",
        "summary(model, input_size=(INPUT_CHANNELS, IMAGE_WIDTH, IMAGE_HEIGHT))"
      ],
      "execution_count": 28,
      "outputs": [
        {
          "output_type": "stream",
          "text": [
            "----------------------------------------------------------------\n",
            "        Layer (type)               Output Shape         Param #\n",
            "================================================================\n",
            "            Conv2d-1         [-1, 32, 112, 112]             864\n",
            "       BatchNorm2d-2         [-1, 32, 112, 112]              64\n",
            "             ReLU6-3         [-1, 32, 112, 112]               0\n",
            "            Conv2d-4         [-1, 32, 112, 112]             288\n",
            "       BatchNorm2d-5         [-1, 32, 112, 112]              64\n",
            "             ReLU6-6         [-1, 32, 112, 112]               0\n",
            "            Conv2d-7         [-1, 16, 112, 112]             512\n",
            "       BatchNorm2d-8         [-1, 16, 112, 112]              32\n",
            "  InvertedResidual-9         [-1, 16, 112, 112]               0\n",
            "           Conv2d-10         [-1, 96, 112, 112]           1,536\n",
            "      BatchNorm2d-11         [-1, 96, 112, 112]             192\n",
            "            ReLU6-12         [-1, 96, 112, 112]               0\n",
            "           Conv2d-13           [-1, 96, 56, 56]             864\n",
            "      BatchNorm2d-14           [-1, 96, 56, 56]             192\n",
            "            ReLU6-15           [-1, 96, 56, 56]               0\n",
            "           Conv2d-16           [-1, 24, 56, 56]           2,304\n",
            "      BatchNorm2d-17           [-1, 24, 56, 56]              48\n",
            " InvertedResidual-18           [-1, 24, 56, 56]               0\n",
            "           Conv2d-19          [-1, 144, 56, 56]           3,456\n",
            "      BatchNorm2d-20          [-1, 144, 56, 56]             288\n",
            "            ReLU6-21          [-1, 144, 56, 56]               0\n",
            "           Conv2d-22          [-1, 144, 56, 56]           1,296\n",
            "      BatchNorm2d-23          [-1, 144, 56, 56]             288\n",
            "            ReLU6-24          [-1, 144, 56, 56]               0\n",
            "           Conv2d-25           [-1, 24, 56, 56]           3,456\n",
            "      BatchNorm2d-26           [-1, 24, 56, 56]              48\n",
            " InvertedResidual-27           [-1, 24, 56, 56]               0\n",
            "           Conv2d-28          [-1, 144, 56, 56]           3,456\n",
            "      BatchNorm2d-29          [-1, 144, 56, 56]             288\n",
            "            ReLU6-30          [-1, 144, 56, 56]               0\n",
            "           Conv2d-31          [-1, 144, 28, 28]           1,296\n",
            "      BatchNorm2d-32          [-1, 144, 28, 28]             288\n",
            "            ReLU6-33          [-1, 144, 28, 28]               0\n",
            "           Conv2d-34           [-1, 32, 28, 28]           4,608\n",
            "      BatchNorm2d-35           [-1, 32, 28, 28]              64\n",
            " InvertedResidual-36           [-1, 32, 28, 28]               0\n",
            "           Conv2d-37          [-1, 192, 28, 28]           6,144\n",
            "      BatchNorm2d-38          [-1, 192, 28, 28]             384\n",
            "            ReLU6-39          [-1, 192, 28, 28]               0\n",
            "           Conv2d-40          [-1, 192, 28, 28]           1,728\n",
            "      BatchNorm2d-41          [-1, 192, 28, 28]             384\n",
            "            ReLU6-42          [-1, 192, 28, 28]               0\n",
            "           Conv2d-43           [-1, 32, 28, 28]           6,144\n",
            "      BatchNorm2d-44           [-1, 32, 28, 28]              64\n",
            " InvertedResidual-45           [-1, 32, 28, 28]               0\n",
            "           Conv2d-46          [-1, 192, 28, 28]           6,144\n",
            "      BatchNorm2d-47          [-1, 192, 28, 28]             384\n",
            "            ReLU6-48          [-1, 192, 28, 28]               0\n",
            "           Conv2d-49          [-1, 192, 28, 28]           1,728\n",
            "      BatchNorm2d-50          [-1, 192, 28, 28]             384\n",
            "            ReLU6-51          [-1, 192, 28, 28]               0\n",
            "           Conv2d-52           [-1, 32, 28, 28]           6,144\n",
            "      BatchNorm2d-53           [-1, 32, 28, 28]              64\n",
            " InvertedResidual-54           [-1, 32, 28, 28]               0\n",
            "           Conv2d-55          [-1, 192, 28, 28]           6,144\n",
            "      BatchNorm2d-56          [-1, 192, 28, 28]             384\n",
            "            ReLU6-57          [-1, 192, 28, 28]               0\n",
            "           Conv2d-58          [-1, 192, 14, 14]           1,728\n",
            "      BatchNorm2d-59          [-1, 192, 14, 14]             384\n",
            "            ReLU6-60          [-1, 192, 14, 14]               0\n",
            "           Conv2d-61           [-1, 64, 14, 14]          12,288\n",
            "      BatchNorm2d-62           [-1, 64, 14, 14]             128\n",
            " InvertedResidual-63           [-1, 64, 14, 14]               0\n",
            "           Conv2d-64          [-1, 384, 14, 14]          24,576\n",
            "      BatchNorm2d-65          [-1, 384, 14, 14]             768\n",
            "            ReLU6-66          [-1, 384, 14, 14]               0\n",
            "           Conv2d-67          [-1, 384, 14, 14]           3,456\n",
            "      BatchNorm2d-68          [-1, 384, 14, 14]             768\n",
            "            ReLU6-69          [-1, 384, 14, 14]               0\n",
            "           Conv2d-70           [-1, 64, 14, 14]          24,576\n",
            "      BatchNorm2d-71           [-1, 64, 14, 14]             128\n",
            " InvertedResidual-72           [-1, 64, 14, 14]               0\n",
            "           Conv2d-73          [-1, 384, 14, 14]          24,576\n",
            "      BatchNorm2d-74          [-1, 384, 14, 14]             768\n",
            "            ReLU6-75          [-1, 384, 14, 14]               0\n",
            "           Conv2d-76          [-1, 384, 14, 14]           3,456\n",
            "      BatchNorm2d-77          [-1, 384, 14, 14]             768\n",
            "            ReLU6-78          [-1, 384, 14, 14]               0\n",
            "           Conv2d-79           [-1, 64, 14, 14]          24,576\n",
            "      BatchNorm2d-80           [-1, 64, 14, 14]             128\n",
            " InvertedResidual-81           [-1, 64, 14, 14]               0\n",
            "           Conv2d-82          [-1, 384, 14, 14]          24,576\n",
            "      BatchNorm2d-83          [-1, 384, 14, 14]             768\n",
            "            ReLU6-84          [-1, 384, 14, 14]               0\n",
            "           Conv2d-85          [-1, 384, 14, 14]           3,456\n",
            "      BatchNorm2d-86          [-1, 384, 14, 14]             768\n",
            "            ReLU6-87          [-1, 384, 14, 14]               0\n",
            "           Conv2d-88           [-1, 64, 14, 14]          24,576\n",
            "      BatchNorm2d-89           [-1, 64, 14, 14]             128\n",
            " InvertedResidual-90           [-1, 64, 14, 14]               0\n",
            "           Conv2d-91          [-1, 384, 14, 14]          24,576\n",
            "      BatchNorm2d-92          [-1, 384, 14, 14]             768\n",
            "            ReLU6-93          [-1, 384, 14, 14]               0\n",
            "           Conv2d-94          [-1, 384, 14, 14]           3,456\n",
            "      BatchNorm2d-95          [-1, 384, 14, 14]             768\n",
            "            ReLU6-96          [-1, 384, 14, 14]               0\n",
            "           Conv2d-97           [-1, 96, 14, 14]          36,864\n",
            "      BatchNorm2d-98           [-1, 96, 14, 14]             192\n",
            " InvertedResidual-99           [-1, 96, 14, 14]               0\n",
            "          Conv2d-100          [-1, 576, 14, 14]          55,296\n",
            "     BatchNorm2d-101          [-1, 576, 14, 14]           1,152\n",
            "           ReLU6-102          [-1, 576, 14, 14]               0\n",
            "          Conv2d-103          [-1, 576, 14, 14]           5,184\n",
            "     BatchNorm2d-104          [-1, 576, 14, 14]           1,152\n",
            "           ReLU6-105          [-1, 576, 14, 14]               0\n",
            "          Conv2d-106           [-1, 96, 14, 14]          55,296\n",
            "     BatchNorm2d-107           [-1, 96, 14, 14]             192\n",
            "InvertedResidual-108           [-1, 96, 14, 14]               0\n",
            "          Conv2d-109          [-1, 576, 14, 14]          55,296\n",
            "     BatchNorm2d-110          [-1, 576, 14, 14]           1,152\n",
            "           ReLU6-111          [-1, 576, 14, 14]               0\n",
            "          Conv2d-112          [-1, 576, 14, 14]           5,184\n",
            "     BatchNorm2d-113          [-1, 576, 14, 14]           1,152\n",
            "           ReLU6-114          [-1, 576, 14, 14]               0\n",
            "          Conv2d-115           [-1, 96, 14, 14]          55,296\n",
            "     BatchNorm2d-116           [-1, 96, 14, 14]             192\n",
            "InvertedResidual-117           [-1, 96, 14, 14]               0\n",
            "          Conv2d-118          [-1, 576, 14, 14]          55,296\n",
            "     BatchNorm2d-119          [-1, 576, 14, 14]           1,152\n",
            "           ReLU6-120          [-1, 576, 14, 14]               0\n",
            "          Conv2d-121            [-1, 576, 7, 7]           5,184\n",
            "     BatchNorm2d-122            [-1, 576, 7, 7]           1,152\n",
            "           ReLU6-123            [-1, 576, 7, 7]               0\n",
            "          Conv2d-124            [-1, 160, 7, 7]          92,160\n",
            "     BatchNorm2d-125            [-1, 160, 7, 7]             320\n",
            "InvertedResidual-126            [-1, 160, 7, 7]               0\n",
            "          Conv2d-127            [-1, 960, 7, 7]         153,600\n",
            "     BatchNorm2d-128            [-1, 960, 7, 7]           1,920\n",
            "           ReLU6-129            [-1, 960, 7, 7]               0\n",
            "          Conv2d-130            [-1, 960, 7, 7]           8,640\n",
            "     BatchNorm2d-131            [-1, 960, 7, 7]           1,920\n",
            "           ReLU6-132            [-1, 960, 7, 7]               0\n",
            "          Conv2d-133            [-1, 160, 7, 7]         153,600\n",
            "     BatchNorm2d-134            [-1, 160, 7, 7]             320\n",
            "InvertedResidual-135            [-1, 160, 7, 7]               0\n",
            "          Conv2d-136            [-1, 960, 7, 7]         153,600\n",
            "     BatchNorm2d-137            [-1, 960, 7, 7]           1,920\n",
            "           ReLU6-138            [-1, 960, 7, 7]               0\n",
            "          Conv2d-139            [-1, 960, 7, 7]           8,640\n",
            "     BatchNorm2d-140            [-1, 960, 7, 7]           1,920\n",
            "           ReLU6-141            [-1, 960, 7, 7]               0\n",
            "          Conv2d-142            [-1, 160, 7, 7]         153,600\n",
            "     BatchNorm2d-143            [-1, 160, 7, 7]             320\n",
            "InvertedResidual-144            [-1, 160, 7, 7]               0\n",
            "          Conv2d-145            [-1, 960, 7, 7]         153,600\n",
            "     BatchNorm2d-146            [-1, 960, 7, 7]           1,920\n",
            "           ReLU6-147            [-1, 960, 7, 7]               0\n",
            "          Conv2d-148            [-1, 960, 7, 7]           8,640\n",
            "     BatchNorm2d-149            [-1, 960, 7, 7]           1,920\n",
            "           ReLU6-150            [-1, 960, 7, 7]               0\n",
            "          Conv2d-151            [-1, 320, 7, 7]         307,200\n",
            "     BatchNorm2d-152            [-1, 320, 7, 7]             640\n",
            "InvertedResidual-153            [-1, 320, 7, 7]               0\n",
            "          Conv2d-154           [-1, 1280, 7, 7]         409,600\n",
            "     BatchNorm2d-155           [-1, 1280, 7, 7]           2,560\n",
            "           ReLU6-156           [-1, 1280, 7, 7]               0\n",
            "         Dropout-157                 [-1, 1280]               0\n",
            "          Linear-158                  [-1, 512]         655,872\n",
            "            ReLU-159                  [-1, 512]               0\n",
            "         Dropout-160                  [-1, 512]               0\n",
            "          Linear-161                    [-1, 4]           2,052\n",
            "      LogSoftmax-162                    [-1, 4]               0\n",
            "================================================================\n",
            "Total params: 2,881,796\n",
            "Trainable params: 657,924\n",
            "Non-trainable params: 2,223,872\n",
            "----------------------------------------------------------------\n",
            "Input size (MB): 0.57\n",
            "Forward/backward pass size (MB): 152.87\n",
            "Params size (MB): 10.99\n",
            "Estimated Total Size (MB): 164.44\n",
            "----------------------------------------------------------------\n",
            "time: 124 ms\n"
          ],
          "name": "stdout"
        }
      ]
    },
    {
      "cell_type": "markdown",
      "metadata": {
        "id": "qiHvspADUmiz",
        "colab_type": "text"
      },
      "source": [
        "### Define loss function and optimizer"
      ]
    },
    {
      "cell_type": "code",
      "metadata": {
        "id": "X-Alq1k0Umi0",
        "colab_type": "code",
        "colab": {
          "base_uri": "https://localhost:8080/",
          "height": 34
        },
        "outputId": "b1ecaff9-4092-4736-e897-ee109b283f9a"
      },
      "source": [
        "criterion = torch.nn.CrossEntropyLoss()\n",
        "optimizer = torch.optim.SGD(\n",
        "    model.parameters(),\n",
        "    lr=LEARNING_RATE,\n",
        "    momentum=MOMENTUM,\n",
        "    nesterov=True) \n",
        "\n",
        "scheduler = torch.optim.lr_scheduler.ReduceLROnPlateau(\n",
        "    optimizer,\n",
        "    mode='max',\n",
        "    factor=0.1,\n",
        "    patience=1,\n",
        "    verbose=False, \n",
        "    threshold=0.000001,\n",
        "    threshold_mode='abs',\n",
        "    cooldown=0, \n",
        "    min_lr=1e-8,\n",
        "    eps=1e-08\n",
        ")"
      ],
      "execution_count": 29,
      "outputs": [
        {
          "output_type": "stream",
          "text": [
            "time: 5.4 ms\n"
          ],
          "name": "stdout"
        }
      ]
    },
    {
      "cell_type": "markdown",
      "metadata": {
        "id": "FlYYuJoJUmi6",
        "colab_type": "text"
      },
      "source": [
        "## Train Model"
      ]
    },
    {
      "cell_type": "code",
      "metadata": {
        "id": "lx8MXrJNgwg1",
        "colab_type": "code",
        "colab": {
          "base_uri": "https://localhost:8080/",
          "height": 34
        },
        "outputId": "e71269ed-829d-4836-80fb-62cba7e62e54"
      },
      "source": [
        "from torch.autograd import Variable\n",
        "from tqdm import tqdm\n",
        "\n",
        "def train_model(model, patience, n_epochs):\n",
        "    \n",
        "    # to track the training loss as the model trains\n",
        "    train_losses = []\n",
        "    # to track the validation loss as the model trains\n",
        "    valid_losses = []\n",
        "    # to track the average training loss per epoch as the model trains\n",
        "    avg_train_losses = []\n",
        "    # to track the average validation loss per epoch as the model trains\n",
        "    avg_valid_losses = [] \n",
        "    \n",
        "    # initialize the early_stopping object\n",
        "    # early_stopping = EarlyStopping(patience=patience, verbose=True)\n",
        "    early_stopping = EarlyStoppingOnAcc(patience=patience)\n",
        "    \n",
        "    for epoch in tqdm(range(1, n_epochs + 1)):\n",
        "        for param_group in optimizer.param_groups:\n",
        "          lr = param_group[\"lr\"]\n",
        "          print(f'\\n **** learning rate: {lr}')\n",
        "        ###################\n",
        "        # train the model #\n",
        "        ###################\n",
        "        model.train() # prep model for training\n",
        "        for inputs, target in train_loader:\n",
        "            inputs, target = inputs.to(device), target.to(device)\n",
        "\n",
        "            # clear the gradients of all optimized variables\n",
        "            optimizer.zero_grad()\n",
        "            # forward pass: compute predicted outputs by passing inputs to the model\n",
        "            output = model(inputs)\n",
        "            # calculate the loss\n",
        "            loss = criterion(output, target)\n",
        "            \n",
        "            # loss = Variable(loss, requires_grad = True)\n",
        "            # backward pass: compute gradient of the loss with respect to model parameters\n",
        "            loss.backward()\n",
        "            # perform a single optimization step (parameter update)\n",
        "            optimizer.step()\n",
        "            # record training loss\n",
        "            train_losses.append(loss.item())\n",
        "            \n",
        "        ######################    \n",
        "        # validate the model #\n",
        "        ######################\n",
        "        model.eval() # prep model for evaluation\n",
        "        correct = 0\n",
        "        total = 0\n",
        "        accuracy = 0\n",
        "        for inputs, target in val_loader:\n",
        "            inputs, target = inputs.to(device), target.to(device)\n",
        "            # forward pass: compute predicted outputs by passing inputs to the model\n",
        "            output = model(inputs)\n",
        "            # calculate the loss\n",
        "            loss = criterion(output, target)\n",
        "            # record validation loss\n",
        "            valid_losses.append(loss.item())\n",
        "\n",
        "            _, predicted = torch.max(output.data, 1)\n",
        "            total += target.size(0)\n",
        "            correct += (predicted == target).sum().item()\n",
        "        \n",
        "        # print training/validation statistics \n",
        "        # calculate average loss over an epoch\n",
        "        train_loss = np.average(train_losses)\n",
        "        valid_loss = np.average(valid_losses)\n",
        "        avg_train_losses.append(train_loss)\n",
        "        avg_valid_losses.append(valid_loss)\n",
        "\n",
        "        valid_accuracy = 100 * correct / total\n",
        "\n",
        "        epoch_len = len(str(n_epochs))\n",
        "\n",
        "        print_msg = (f'\\n[{epoch:>{epoch_len}}/{n_epochs:>{epoch_len}}] ' +\n",
        "                     f'train_loss: {train_loss:.5f} ' +\n",
        "                     f'\\tvalid_loss: {valid_loss:.5f}' +\n",
        "                     f'\\tvalid_accuracy: {valid_accuracy:.2f}')\n",
        "        \n",
        "        print(print_msg)\n",
        "\n",
        "        # Tensorboard logging\n",
        "        '''tb.add_scalar('Loss - Train loss',\n",
        "                            train_loss / len(train_loader),\n",
        "                            epoch * len(train_loader))\n",
        "            \n",
        "        tb.add_scalar('Loss - Val',\n",
        "                        valid_loss/len(val_loader),\n",
        "                        epoch * len(val_loader))\n",
        "        \n",
        "        tb.add_scalar('Accuracy - Val',\n",
        "                            valid_accuracy/len(val_loader),\n",
        "                            epoch * len(val_loader))'''\n",
        "        \n",
        "        # clear lists to track next epoch\n",
        "        train_losses = []\n",
        "        valid_losses = []\n",
        "        \n",
        "        valid_accuracy = round(valid_accuracy, 2)\n",
        "        scheduler.step(valid_accuracy)\n",
        "        # early_stopping needs the validation loss to check if it has decresed, \n",
        "        # and if it has, it will make a checkpoint of the current model\n",
        "        model_path = 'checkpoint.pt' # f'jantahackathon_v13_{valid_accuracy}.pth'\n",
        "        early_stopping(valid_accuracy, model, model_path)\n",
        "\n",
        "        if early_stopping.early_stop:\n",
        "            print(\"Early stopping\")\n",
        "            if early_stopping.best_score is not None:\n",
        "              print(f'Best score: {early_stopping.best_score}')\n",
        "            break\n",
        "        \n",
        "    # load the last checkpoint with the best model\n",
        "    model.load_state_dict(torch.load(model_path))\n",
        "\n",
        "    return  model, avg_train_losses, avg_valid_losses"
      ],
      "execution_count": 30,
      "outputs": [
        {
          "output_type": "stream",
          "text": [
            "time: 104 ms\n"
          ],
          "name": "stdout"
        }
      ]
    },
    {
      "cell_type": "code",
      "metadata": {
        "id": "fWmU6THBUmjA",
        "colab_type": "code",
        "colab": {
          "base_uri": "https://localhost:8080/",
          "height": 1000
        },
        "outputId": "83ce89e5-5821-4ab3-dd12-2af62a5fd097"
      },
      "source": [
        "model, train_loss, valid_loss = train_model(model, PATIENCE, EPOCHS)"
      ],
      "execution_count": 31,
      "outputs": [
        {
          "output_type": "stream",
          "text": [
            "\r  0%|          | 0/200 [00:00<?, ?it/s]"
          ],
          "name": "stderr"
        },
        {
          "output_type": "stream",
          "text": [
            "\n",
            " **** learning rate: 0.01\n",
            "\n",
            "[  1/200] train_loss: 0.79556 \tvalid_loss: 0.56586\tvalid_accuracy: 77.18\n",
            "Validation score improved (-inf --> 77.18). Saving model!\n"
          ],
          "name": "stdout"
        },
        {
          "output_type": "stream",
          "text": [
            "\r  0%|          | 1/200 [2:29:54<497:10:50, 8994.22s/it]"
          ],
          "name": "stderr"
        },
        {
          "output_type": "stream",
          "text": [
            "\n",
            " **** learning rate: 0.01\n",
            "\n",
            "[  2/200] train_loss: 0.55162 \tvalid_loss: 0.52793\tvalid_accuracy: 79.43\n",
            "Validation score improved (77.18 --> 79.43). Saving model!\n"
          ],
          "name": "stdout"
        },
        {
          "output_type": "stream",
          "text": [
            "\r  1%|          | 2/200 [2:34:54<351:14:14, 6386.13s/it]"
          ],
          "name": "stderr"
        },
        {
          "output_type": "stream",
          "text": [
            "\n",
            " **** learning rate: 0.01\n",
            "\n",
            "[  3/200] train_loss: 0.52672 \tvalid_loss: 0.51391\tvalid_accuracy: 80.35\n",
            "Validation score improved (79.43 --> 80.35). Saving model!\n"
          ],
          "name": "stdout"
        },
        {
          "output_type": "stream",
          "text": [
            "\r  2%|▏         | 3/200 [2:39:56<249:34:54, 4560.89s/it]"
          ],
          "name": "stderr"
        },
        {
          "output_type": "stream",
          "text": [
            "\n",
            " **** learning rate: 0.01\n"
          ],
          "name": "stdout"
        },
        {
          "output_type": "stream",
          "text": [
            "\r  2%|▏         | 4/200 [2:45:00<178:46:56, 3283.76s/it]"
          ],
          "name": "stderr"
        },
        {
          "output_type": "stream",
          "text": [
            "\n",
            "[  4/200] train_loss: 0.51078 \tvalid_loss: 0.49562\tvalid_accuracy: 80.14\n",
            "EarlyStopping counter: 1 out of 10\n",
            "\n",
            " **** learning rate: 0.01\n",
            "\n",
            "[  5/200] train_loss: 0.49589 \tvalid_loss: 0.50439\tvalid_accuracy: 80.36\n",
            "Validation score improved (80.35 --> 80.36). Saving model!\n"
          ],
          "name": "stdout"
        },
        {
          "output_type": "stream",
          "text": [
            "\r  2%|▎         | 5/200 [2:50:03<129:26:15, 2389.62s/it]"
          ],
          "name": "stderr"
        },
        {
          "output_type": "stream",
          "text": [
            "\n",
            " **** learning rate: 0.01\n",
            "\n",
            "[  6/200] train_loss: 0.49089 \tvalid_loss: 0.47373\tvalid_accuracy: 80.50\n",
            "Validation score improved (80.36 --> 80.5). Saving model!\n"
          ],
          "name": "stdout"
        },
        {
          "output_type": "stream",
          "text": [
            "\r  3%|▎         | 6/200 [2:55:12<95:07:30, 1765.21s/it] "
          ],
          "name": "stderr"
        },
        {
          "output_type": "stream",
          "text": [
            "\n",
            " **** learning rate: 0.01\n",
            "\n",
            "[  7/200] train_loss: 0.48318 \tvalid_loss: 0.48023\tvalid_accuracy: 81.08\n",
            "Validation score improved (80.5 --> 81.08). Saving model!\n"
          ],
          "name": "stdout"
        },
        {
          "output_type": "stream",
          "text": [
            "\r  4%|▎         | 7/200 [3:00:26<71:17:55, 1329.93s/it]"
          ],
          "name": "stderr"
        },
        {
          "output_type": "stream",
          "text": [
            "\n",
            " **** learning rate: 0.01\n"
          ],
          "name": "stdout"
        },
        {
          "output_type": "stream",
          "text": [
            "\r  4%|▍         | 8/200 [3:05:41<54:41:53, 1025.59s/it]"
          ],
          "name": "stderr"
        },
        {
          "output_type": "stream",
          "text": [
            "\n",
            "[  8/200] train_loss: 0.47846 \tvalid_loss: 0.48487\tvalid_accuracy: 79.66\n",
            "EarlyStopping counter: 1 out of 10\n",
            "\n",
            " **** learning rate: 0.01\n",
            "\n",
            "[  9/200] train_loss: 0.46453 \tvalid_loss: 0.46482\tvalid_accuracy: 81.22\n",
            "Validation score improved (81.08 --> 81.22). Saving model!\n"
          ],
          "name": "stdout"
        },
        {
          "output_type": "stream",
          "text": [
            "\r  4%|▍         | 9/200 [3:10:57<43:06:39, 812.56s/it] "
          ],
          "name": "stderr"
        },
        {
          "output_type": "stream",
          "text": [
            "\n",
            " **** learning rate: 0.01\n",
            "\n",
            "[ 10/200] train_loss: 0.45754 \tvalid_loss: 0.45420\tvalid_accuracy: 81.30\n",
            "Validation score improved (81.22 --> 81.3). Saving model!\n"
          ],
          "name": "stdout"
        },
        {
          "output_type": "stream",
          "text": [
            "\r  5%|▌         | 10/200 [3:16:11<34:59:36, 663.03s/it]"
          ],
          "name": "stderr"
        },
        {
          "output_type": "stream",
          "text": [
            "\n",
            " **** learning rate: 0.01\n",
            "\n",
            "[ 11/200] train_loss: 0.44956 \tvalid_loss: 0.44164\tvalid_accuracy: 81.92\n",
            "Validation score improved (81.3 --> 81.92). Saving model!\n"
          ],
          "name": "stdout"
        },
        {
          "output_type": "stream",
          "text": [
            "\r  6%|▌         | 11/200 [3:21:24<29:17:45, 558.02s/it]"
          ],
          "name": "stderr"
        },
        {
          "output_type": "stream",
          "text": [
            "\n",
            " **** learning rate: 0.01\n"
          ],
          "name": "stdout"
        },
        {
          "output_type": "stream",
          "text": [
            "\r  6%|▌         | 12/200 [3:26:37<25:18:33, 484.65s/it]"
          ],
          "name": "stderr"
        },
        {
          "output_type": "stream",
          "text": [
            "\n",
            "[ 12/200] train_loss: 0.45589 \tvalid_loss: 0.45576\tvalid_accuracy: 81.86\n",
            "EarlyStopping counter: 1 out of 10\n",
            "\n",
            " **** learning rate: 0.01\n"
          ],
          "name": "stdout"
        },
        {
          "output_type": "stream",
          "text": [
            "\r  6%|▋         | 13/200 [3:31:52<22:31:04, 433.50s/it]"
          ],
          "name": "stderr"
        },
        {
          "output_type": "stream",
          "text": [
            "\n",
            "[ 13/200] train_loss: 0.44707 \tvalid_loss: 0.45151\tvalid_accuracy: 81.42\n",
            "EarlyStopping counter: 2 out of 10\n",
            "\n",
            " **** learning rate: 0.001\n",
            "\n",
            "[ 14/200] train_loss: 0.43897 \tvalid_loss: 0.43902\tvalid_accuracy: 82.44\n",
            "Validation score improved (81.92 --> 82.44). Saving model!\n"
          ],
          "name": "stdout"
        },
        {
          "output_type": "stream",
          "text": [
            "\r  7%|▋         | 14/200 [3:37:07<20:34:26, 398.21s/it]"
          ],
          "name": "stderr"
        },
        {
          "output_type": "stream",
          "text": [
            "\n",
            " **** learning rate: 0.001\n"
          ],
          "name": "stdout"
        },
        {
          "output_type": "stream",
          "text": [
            "\r  8%|▊         | 15/200 [3:42:22<19:10:27, 373.12s/it]"
          ],
          "name": "stderr"
        },
        {
          "output_type": "stream",
          "text": [
            "\n",
            "[ 15/200] train_loss: 0.43373 \tvalid_loss: 0.43642\tvalid_accuracy: 82.34\n",
            "EarlyStopping counter: 1 out of 10\n",
            "\n",
            " **** learning rate: 0.001\n",
            "\n",
            "[ 16/200] train_loss: 0.43414 \tvalid_loss: 0.45669\tvalid_accuracy: 82.45\n",
            "Validation score improved (82.44 --> 82.45). Saving model!\n"
          ],
          "name": "stdout"
        },
        {
          "output_type": "stream",
          "text": [
            "\r  8%|▊         | 16/200 [3:47:34<18:08:21, 354.90s/it]"
          ],
          "name": "stderr"
        },
        {
          "output_type": "stream",
          "text": [
            "\n",
            " **** learning rate: 0.001\n"
          ],
          "name": "stdout"
        },
        {
          "output_type": "stream",
          "text": [
            "\r  8%|▊         | 17/200 [3:52:48<17:25:05, 342.65s/it]"
          ],
          "name": "stderr"
        },
        {
          "output_type": "stream",
          "text": [
            "\n",
            "[ 17/200] train_loss: 0.43639 \tvalid_loss: 0.42641\tvalid_accuracy: 82.24\n",
            "EarlyStopping counter: 1 out of 10\n",
            "\n",
            " **** learning rate: 0.001\n"
          ],
          "name": "stdout"
        },
        {
          "output_type": "stream",
          "text": [
            "\r  9%|▉         | 18/200 [3:58:03<16:53:28, 334.11s/it]"
          ],
          "name": "stderr"
        },
        {
          "output_type": "stream",
          "text": [
            "\n",
            "[ 18/200] train_loss: 0.43114 \tvalid_loss: 0.44430\tvalid_accuracy: 82.14\n",
            "EarlyStopping counter: 2 out of 10\n",
            "\n",
            " **** learning rate: 0.0001\n"
          ],
          "name": "stdout"
        },
        {
          "output_type": "stream",
          "text": [
            "\r 10%|▉         | 19/200 [4:03:17<16:29:54, 328.14s/it]"
          ],
          "name": "stderr"
        },
        {
          "output_type": "stream",
          "text": [
            "\n",
            "[ 19/200] train_loss: 0.43485 \tvalid_loss: 0.43354\tvalid_accuracy: 82.13\n",
            "EarlyStopping counter: 3 out of 10\n",
            "\n",
            " **** learning rate: 0.0001\n"
          ],
          "name": "stdout"
        },
        {
          "output_type": "stream",
          "text": [
            "\r 10%|█         | 20/200 [4:08:31<16:12:03, 324.02s/it]"
          ],
          "name": "stderr"
        },
        {
          "output_type": "stream",
          "text": [
            "\n",
            "[ 20/200] train_loss: 0.42873 \tvalid_loss: 0.43299\tvalid_accuracy: 81.83\n",
            "EarlyStopping counter: 4 out of 10\n",
            "\n",
            " **** learning rate: 1e-05\n"
          ],
          "name": "stdout"
        },
        {
          "output_type": "stream",
          "text": [
            "\r 10%|█         | 21/200 [4:13:46<15:58:11, 321.18s/it]"
          ],
          "name": "stderr"
        },
        {
          "output_type": "stream",
          "text": [
            "\n",
            "[ 21/200] train_loss: 0.43320 \tvalid_loss: 0.44146\tvalid_accuracy: 81.60\n",
            "EarlyStopping counter: 5 out of 10\n",
            "\n",
            " **** learning rate: 1e-05\n"
          ],
          "name": "stdout"
        },
        {
          "output_type": "stream",
          "text": [
            "\r 11%|█         | 22/200 [4:18:59<15:46:06, 318.91s/it]"
          ],
          "name": "stderr"
        },
        {
          "output_type": "stream",
          "text": [
            "\n",
            "[ 22/200] train_loss: 0.42839 \tvalid_loss: 0.45301\tvalid_accuracy: 82.11\n",
            "EarlyStopping counter: 6 out of 10\n",
            "\n",
            " **** learning rate: 1.0000000000000002e-06\n"
          ],
          "name": "stdout"
        },
        {
          "output_type": "stream",
          "text": [
            "\r 12%|█▏        | 23/200 [4:24:13<15:35:38, 317.17s/it]"
          ],
          "name": "stderr"
        },
        {
          "output_type": "stream",
          "text": [
            "\n",
            "[ 23/200] train_loss: 0.42807 \tvalid_loss: 0.42710\tvalid_accuracy: 82.30\n",
            "EarlyStopping counter: 7 out of 10\n",
            "\n",
            " **** learning rate: 1.0000000000000002e-06\n"
          ],
          "name": "stdout"
        },
        {
          "output_type": "stream",
          "text": [
            "\r 12%|█▏        | 24/200 [4:29:31<15:31:24, 317.53s/it]"
          ],
          "name": "stderr"
        },
        {
          "output_type": "stream",
          "text": [
            "\n",
            "[ 24/200] train_loss: 0.42683 \tvalid_loss: 0.43780\tvalid_accuracy: 82.31\n",
            "EarlyStopping counter: 8 out of 10\n",
            "\n",
            " **** learning rate: 1.0000000000000002e-07\n"
          ],
          "name": "stdout"
        },
        {
          "output_type": "stream",
          "text": [
            "\r 12%|█▎        | 25/200 [4:34:46<15:23:37, 316.67s/it]"
          ],
          "name": "stderr"
        },
        {
          "output_type": "stream",
          "text": [
            "\n",
            "[ 25/200] train_loss: 0.43069 \tvalid_loss: 0.43955\tvalid_accuracy: 82.16\n",
            "EarlyStopping counter: 9 out of 10\n",
            "\n",
            " **** learning rate: 1.0000000000000002e-07\n",
            "\n",
            "[ 26/200] train_loss: 0.42907 \tvalid_loss: 0.44705\tvalid_accuracy: 81.58\n",
            "EarlyStopping counter: 10 out of 10\n",
            "Early stopping\n",
            "Best score: 82.45\n",
            "time: 4h 39min 58s\n"
          ],
          "name": "stdout"
        }
      ]
    },
    {
      "cell_type": "markdown",
      "metadata": {
        "id": "-uHBoCKGUmjF",
        "colab_type": "text"
      },
      "source": [
        "## Visualizing the loss"
      ]
    },
    {
      "cell_type": "code",
      "metadata": {
        "id": "H894atfmUmjG",
        "colab_type": "code",
        "colab": {
          "base_uri": "https://localhost:8080/",
          "height": 602
        },
        "outputId": "d8306fb8-f895-48d5-8d7a-e6099bd2b0db"
      },
      "source": [
        "# visualize the loss as the network trained\n",
        "displayloss(train_loss, valid_loss)"
      ],
      "execution_count": 32,
      "outputs": [
        {
          "output_type": "display_data",
          "data": {
            "image/png": "[encoded data removed]",
            "text/plain": [
              "<Figure size 720x576 with 1 Axes>"
            ]
          },
          "metadata": {
            "tags": [],
            "needs_background": "light"
          }
        },
        {
          "output_type": "stream",
          "text": [
            "time: 659 ms\n"
          ],
          "name": "stdout"
        }
      ]
    },
    {
      "cell_type": "markdown",
      "metadata": {
        "id": "9OkVyz0l49Wb",
        "colab_type": "text"
      },
      "source": [
        "## Load the saved model"
      ]
    },
    {
      "cell_type": "code",
      "metadata": {
        "id": "YXvYqCrg_5hN",
        "colab_type": "code",
        "colab": {
          "base_uri": "https://localhost:8080/",
          "height": 1000
        },
        "outputId": "993f9490-1289-4273-d488-ae7b89937f09"
      },
      "source": [
        "loadedModel = torch.jit.load(MODEL_FILE)\n",
        "print(loadedModel)"
      ],
      "execution_count": 33,
      "outputs": [
        {
          "output_type": "stream",
          "text": [
            "RecursiveScriptModule(\n",
            "  original_name=MobileNetV2\n",
            "  (features): RecursiveScriptModule(\n",
            "    original_name=Sequential\n",
            "    (0): RecursiveScriptModule(\n",
            "      original_name=ConvBNReLU\n",
            "      (0): RecursiveScriptModule(original_name=Conv2d)\n",
            "      (1): RecursiveScriptModule(original_name=BatchNorm2d)\n",
            "      (2): RecursiveScriptModule(original_name=ReLU6)\n",
            "    )\n",
            "    (1): RecursiveScriptModule(\n",
            "      original_name=InvertedResidual\n",
            "      (conv): RecursiveScriptModule(\n",
            "        original_name=Sequential\n",
            "        (0): RecursiveScriptModule(\n",
            "          original_name=ConvBNReLU\n",
            "          (0): RecursiveScriptModule(original_name=Conv2d)\n",
            "          (1): RecursiveScriptModule(original_name=BatchNorm2d)\n",
            "          (2): RecursiveScriptModule(original_name=ReLU6)\n",
            "        )\n",
            "        (1): RecursiveScriptModule(original_name=Conv2d)\n",
            "        (2): RecursiveScriptModule(original_name=BatchNorm2d)\n",
            "      )\n",
            "    )\n",
            "    (2): RecursiveScriptModule(\n",
            "      original_name=InvertedResidual\n",
            "      (conv): RecursiveScriptModule(\n",
            "        original_name=Sequential\n",
            "        (0): RecursiveScriptModule(\n",
            "          original_name=ConvBNReLU\n",
            "          (0): RecursiveScriptModule(original_name=Conv2d)\n",
            "          (1): RecursiveScriptModule(original_name=BatchNorm2d)\n",
            "          (2): RecursiveScriptModule(original_name=ReLU6)\n",
            "        )\n",
            "        (1): RecursiveScriptModule(\n",
            "          original_name=ConvBNReLU\n",
            "          (0): RecursiveScriptModule(original_name=Conv2d)\n",
            "          (1): RecursiveScriptModule(original_name=BatchNorm2d)\n",
            "          (2): RecursiveScriptModule(original_name=ReLU6)\n",
            "        )\n",
            "        (2): RecursiveScriptModule(original_name=Conv2d)\n",
            "        (3): RecursiveScriptModule(original_name=BatchNorm2d)\n",
            "      )\n",
            "    )\n",
            "    (3): RecursiveScriptModule(\n",
            "      original_name=InvertedResidual\n",
            "      (conv): RecursiveScriptModule(\n",
            "        original_name=Sequential\n",
            "        (0): RecursiveScriptModule(\n",
            "          original_name=ConvBNReLU\n",
            "          (0): RecursiveScriptModule(original_name=Conv2d)\n",
            "          (1): RecursiveScriptModule(original_name=BatchNorm2d)\n",
            "          (2): RecursiveScriptModule(original_name=ReLU6)\n",
            "        )\n",
            "        (1): RecursiveScriptModule(\n",
            "          original_name=ConvBNReLU\n",
            "          (0): RecursiveScriptModule(original_name=Conv2d)\n",
            "          (1): RecursiveScriptModule(original_name=BatchNorm2d)\n",
            "          (2): RecursiveScriptModule(original_name=ReLU6)\n",
            "        )\n",
            "        (2): RecursiveScriptModule(original_name=Conv2d)\n",
            "        (3): RecursiveScriptModule(original_name=BatchNorm2d)\n",
            "      )\n",
            "    )\n",
            "    (4): RecursiveScriptModule(\n",
            "      original_name=InvertedResidual\n",
            "      (conv): RecursiveScriptModule(\n",
            "        original_name=Sequential\n",
            "        (0): RecursiveScriptModule(\n",
            "          original_name=ConvBNReLU\n",
            "          (0): RecursiveScriptModule(original_name=Conv2d)\n",
            "          (1): RecursiveScriptModule(original_name=BatchNorm2d)\n",
            "          (2): RecursiveScriptModule(original_name=ReLU6)\n",
            "        )\n",
            "        (1): RecursiveScriptModule(\n",
            "          original_name=ConvBNReLU\n",
            "          (0): RecursiveScriptModule(original_name=Conv2d)\n",
            "          (1): RecursiveScriptModule(original_name=BatchNorm2d)\n",
            "          (2): RecursiveScriptModule(original_name=ReLU6)\n",
            "        )\n",
            "        (2): RecursiveScriptModule(original_name=Conv2d)\n",
            "        (3): RecursiveScriptModule(original_name=BatchNorm2d)\n",
            "      )\n",
            "    )\n",
            "    (5): RecursiveScriptModule(\n",
            "      original_name=InvertedResidual\n",
            "      (conv): RecursiveScriptModule(\n",
            "        original_name=Sequential\n",
            "        (0): RecursiveScriptModule(\n",
            "          original_name=ConvBNReLU\n",
            "          (0): RecursiveScriptModule(original_name=Conv2d)\n",
            "          (1): RecursiveScriptModule(original_name=BatchNorm2d)\n",
            "          (2): RecursiveScriptModule(original_name=ReLU6)\n",
            "        )\n",
            "        (1): RecursiveScriptModule(\n",
            "          original_name=ConvBNReLU\n",
            "          (0): RecursiveScriptModule(original_name=Conv2d)\n",
            "          (1): RecursiveScriptModule(original_name=BatchNorm2d)\n",
            "          (2): RecursiveScriptModule(original_name=ReLU6)\n",
            "        )\n",
            "        (2): RecursiveScriptModule(original_name=Conv2d)\n",
            "        (3): RecursiveScriptModule(original_name=BatchNorm2d)\n",
            "      )\n",
            "    )\n",
            "    (6): RecursiveScriptModule(\n",
            "      original_name=InvertedResidual\n",
            "      (conv): RecursiveScriptModule(\n",
            "        original_name=Sequential\n",
            "        (0): RecursiveScriptModule(\n",
            "          original_name=ConvBNReLU\n",
            "          (0): RecursiveScriptModule(original_name=Conv2d)\n",
            "          (1): RecursiveScriptModule(original_name=BatchNorm2d)\n",
            "          (2): RecursiveScriptModule(original_name=ReLU6)\n",
            "        )\n",
            "        (1): RecursiveScriptModule(\n",
            "          original_name=ConvBNReLU\n",
            "          (0): RecursiveScriptModule(original_name=Conv2d)\n",
            "          (1): RecursiveScriptModule(original_name=BatchNorm2d)\n",
            "          (2): RecursiveScriptModule(original_name=ReLU6)\n",
            "        )\n",
            "        (2): RecursiveScriptModule(original_name=Conv2d)\n",
            "        (3): RecursiveScriptModule(original_name=BatchNorm2d)\n",
            "      )\n",
            "    )\n",
            "    (7): RecursiveScriptModule(\n",
            "      original_name=InvertedResidual\n",
            "      (conv): RecursiveScriptModule(\n",
            "        original_name=Sequential\n",
            "        (0): RecursiveScriptModule(\n",
            "          original_name=ConvBNReLU\n",
            "          (0): RecursiveScriptModule(original_name=Conv2d)\n",
            "          (1): RecursiveScriptModule(original_name=BatchNorm2d)\n",
            "          (2): RecursiveScriptModule(original_name=ReLU6)\n",
            "        )\n",
            "        (1): RecursiveScriptModule(\n",
            "          original_name=ConvBNReLU\n",
            "          (0): RecursiveScriptModule(original_name=Conv2d)\n",
            "          (1): RecursiveScriptModule(original_name=BatchNorm2d)\n",
            "          (2): RecursiveScriptModule(original_name=ReLU6)\n",
            "        )\n",
            "        (2): RecursiveScriptModule(original_name=Conv2d)\n",
            "        (3): RecursiveScriptModule(original_name=BatchNorm2d)\n",
            "      )\n",
            "    )\n",
            "    (8): RecursiveScriptModule(\n",
            "      original_name=InvertedResidual\n",
            "      (conv): RecursiveScriptModule(\n",
            "        original_name=Sequential\n",
            "        (0): RecursiveScriptModule(\n",
            "          original_name=ConvBNReLU\n",
            "          (0): RecursiveScriptModule(original_name=Conv2d)\n",
            "          (1): RecursiveScriptModule(original_name=BatchNorm2d)\n",
            "          (2): RecursiveScriptModule(original_name=ReLU6)\n",
            "        )\n",
            "        (1): RecursiveScriptModule(\n",
            "          original_name=ConvBNReLU\n",
            "          (0): RecursiveScriptModule(original_name=Conv2d)\n",
            "          (1): RecursiveScriptModule(original_name=BatchNorm2d)\n",
            "          (2): RecursiveScriptModule(original_name=ReLU6)\n",
            "        )\n",
            "        (2): RecursiveScriptModule(original_name=Conv2d)\n",
            "        (3): RecursiveScriptModule(original_name=BatchNorm2d)\n",
            "      )\n",
            "    )\n",
            "    (9): RecursiveScriptModule(\n",
            "      original_name=InvertedResidual\n",
            "      (conv): RecursiveScriptModule(\n",
            "        original_name=Sequential\n",
            "        (0): RecursiveScriptModule(\n",
            "          original_name=ConvBNReLU\n",
            "          (0): RecursiveScriptModule(original_name=Conv2d)\n",
            "          (1): RecursiveScriptModule(original_name=BatchNorm2d)\n",
            "          (2): RecursiveScriptModule(original_name=ReLU6)\n",
            "        )\n",
            "        (1): RecursiveScriptModule(\n",
            "          original_name=ConvBNReLU\n",
            "          (0): RecursiveScriptModule(original_name=Conv2d)\n",
            "          (1): RecursiveScriptModule(original_name=BatchNorm2d)\n",
            "          (2): RecursiveScriptModule(original_name=ReLU6)\n",
            "        )\n",
            "        (2): RecursiveScriptModule(original_name=Conv2d)\n",
            "        (3): RecursiveScriptModule(original_name=BatchNorm2d)\n",
            "      )\n",
            "    )\n",
            "    (10): RecursiveScriptModule(\n",
            "      original_name=InvertedResidual\n",
            "      (conv): RecursiveScriptModule(\n",
            "        original_name=Sequential\n",
            "        (0): RecursiveScriptModule(\n",
            "          original_name=ConvBNReLU\n",
            "          (0): RecursiveScriptModule(original_name=Conv2d)\n",
            "          (1): RecursiveScriptModule(original_name=BatchNorm2d)\n",
            "          (2): RecursiveScriptModule(original_name=ReLU6)\n",
            "        )\n",
            "        (1): RecursiveScriptModule(\n",
            "          original_name=ConvBNReLU\n",
            "          (0): RecursiveScriptModule(original_name=Conv2d)\n",
            "          (1): RecursiveScriptModule(original_name=BatchNorm2d)\n",
            "          (2): RecursiveScriptModule(original_name=ReLU6)\n",
            "        )\n",
            "        (2): RecursiveScriptModule(original_name=Conv2d)\n",
            "        (3): RecursiveScriptModule(original_name=BatchNorm2d)\n",
            "      )\n",
            "    )\n",
            "    (11): RecursiveScriptModule(\n",
            "      original_name=InvertedResidual\n",
            "      (conv): RecursiveScriptModule(\n",
            "        original_name=Sequential\n",
            "        (0): RecursiveScriptModule(\n",
            "          original_name=ConvBNReLU\n",
            "          (0): RecursiveScriptModule(original_name=Conv2d)\n",
            "          (1): RecursiveScriptModule(original_name=BatchNorm2d)\n",
            "          (2): RecursiveScriptModule(original_name=ReLU6)\n",
            "        )\n",
            "        (1): RecursiveScriptModule(\n",
            "          original_name=ConvBNReLU\n",
            "          (0): RecursiveScriptModule(original_name=Conv2d)\n",
            "          (1): RecursiveScriptModule(original_name=BatchNorm2d)\n",
            "          (2): RecursiveScriptModule(original_name=ReLU6)\n",
            "        )\n",
            "        (2): RecursiveScriptModule(original_name=Conv2d)\n",
            "        (3): RecursiveScriptModule(original_name=BatchNorm2d)\n",
            "      )\n",
            "    )\n",
            "    (12): RecursiveScriptModule(\n",
            "      original_name=InvertedResidual\n",
            "      (conv): RecursiveScriptModule(\n",
            "        original_name=Sequential\n",
            "        (0): RecursiveScriptModule(\n",
            "          original_name=ConvBNReLU\n",
            "          (0): RecursiveScriptModule(original_name=Conv2d)\n",
            "          (1): RecursiveScriptModule(original_name=BatchNorm2d)\n",
            "          (2): RecursiveScriptModule(original_name=ReLU6)\n",
            "        )\n",
            "        (1): RecursiveScriptModule(\n",
            "          original_name=ConvBNReLU\n",
            "          (0): RecursiveScriptModule(original_name=Conv2d)\n",
            "          (1): RecursiveScriptModule(original_name=BatchNorm2d)\n",
            "          (2): RecursiveScriptModule(original_name=ReLU6)\n",
            "        )\n",
            "        (2): RecursiveScriptModule(original_name=Conv2d)\n",
            "        (3): RecursiveScriptModule(original_name=BatchNorm2d)\n",
            "      )\n",
            "    )\n",
            "    (13): RecursiveScriptModule(\n",
            "      original_name=InvertedResidual\n",
            "      (conv): RecursiveScriptModule(\n",
            "        original_name=Sequential\n",
            "        (0): RecursiveScriptModule(\n",
            "          original_name=ConvBNReLU\n",
            "          (0): RecursiveScriptModule(original_name=Conv2d)\n",
            "          (1): RecursiveScriptModule(original_name=BatchNorm2d)\n",
            "          (2): RecursiveScriptModule(original_name=ReLU6)\n",
            "        )\n",
            "        (1): RecursiveScriptModule(\n",
            "          original_name=ConvBNReLU\n",
            "          (0): RecursiveScriptModule(original_name=Conv2d)\n",
            "          (1): RecursiveScriptModule(original_name=BatchNorm2d)\n",
            "          (2): RecursiveScriptModule(original_name=ReLU6)\n",
            "        )\n",
            "        (2): RecursiveScriptModule(original_name=Conv2d)\n",
            "        (3): RecursiveScriptModule(original_name=BatchNorm2d)\n",
            "      )\n",
            "    )\n",
            "    (14): RecursiveScriptModule(\n",
            "      original_name=InvertedResidual\n",
            "      (conv): RecursiveScriptModule(\n",
            "        original_name=Sequential\n",
            "        (0): RecursiveScriptModule(\n",
            "          original_name=ConvBNReLU\n",
            "          (0): RecursiveScriptModule(original_name=Conv2d)\n",
            "          (1): RecursiveScriptModule(original_name=BatchNorm2d)\n",
            "          (2): RecursiveScriptModule(original_name=ReLU6)\n",
            "        )\n",
            "        (1): RecursiveScriptModule(\n",
            "          original_name=ConvBNReLU\n",
            "          (0): RecursiveScriptModule(original_name=Conv2d)\n",
            "          (1): RecursiveScriptModule(original_name=BatchNorm2d)\n",
            "          (2): RecursiveScriptModule(original_name=ReLU6)\n",
            "        )\n",
            "        (2): RecursiveScriptModule(original_name=Conv2d)\n",
            "        (3): RecursiveScriptModule(original_name=BatchNorm2d)\n",
            "      )\n",
            "    )\n",
            "    (15): RecursiveScriptModule(\n",
            "      original_name=InvertedResidual\n",
            "      (conv): RecursiveScriptModule(\n",
            "        original_name=Sequential\n",
            "        (0): RecursiveScriptModule(\n",
            "          original_name=ConvBNReLU\n",
            "          (0): RecursiveScriptModule(original_name=Conv2d)\n",
            "          (1): RecursiveScriptModule(original_name=BatchNorm2d)\n",
            "          (2): RecursiveScriptModule(original_name=ReLU6)\n",
            "        )\n",
            "        (1): RecursiveScriptModule(\n",
            "          original_name=ConvBNReLU\n",
            "          (0): RecursiveScriptModule(original_name=Conv2d)\n",
            "          (1): RecursiveScriptModule(original_name=BatchNorm2d)\n",
            "          (2): RecursiveScriptModule(original_name=ReLU6)\n",
            "        )\n",
            "        (2): RecursiveScriptModule(original_name=Conv2d)\n",
            "        (3): RecursiveScriptModule(original_name=BatchNorm2d)\n",
            "      )\n",
            "    )\n",
            "    (16): RecursiveScriptModule(\n",
            "      original_name=InvertedResidual\n",
            "      (conv): RecursiveScriptModule(\n",
            "        original_name=Sequential\n",
            "        (0): RecursiveScriptModule(\n",
            "          original_name=ConvBNReLU\n",
            "          (0): RecursiveScriptModule(original_name=Conv2d)\n",
            "          (1): RecursiveScriptModule(original_name=BatchNorm2d)\n",
            "          (2): RecursiveScriptModule(original_name=ReLU6)\n",
            "        )\n",
            "        (1): RecursiveScriptModule(\n",
            "          original_name=ConvBNReLU\n",
            "          (0): RecursiveScriptModule(original_name=Conv2d)\n",
            "          (1): RecursiveScriptModule(original_name=BatchNorm2d)\n",
            "          (2): RecursiveScriptModule(original_name=ReLU6)\n",
            "        )\n",
            "        (2): RecursiveScriptModule(original_name=Conv2d)\n",
            "        (3): RecursiveScriptModule(original_name=BatchNorm2d)\n",
            "      )\n",
            "    )\n",
            "    (17): RecursiveScriptModule(\n",
            "      original_name=InvertedResidual\n",
            "      (conv): RecursiveScriptModule(\n",
            "        original_name=Sequential\n",
            "        (0): RecursiveScriptModule(\n",
            "          original_name=ConvBNReLU\n",
            "          (0): RecursiveScriptModule(original_name=Conv2d)\n",
            "          (1): RecursiveScriptModule(original_name=BatchNorm2d)\n",
            "          (2): RecursiveScriptModule(original_name=ReLU6)\n",
            "        )\n",
            "        (1): RecursiveScriptModule(\n",
            "          original_name=ConvBNReLU\n",
            "          (0): RecursiveScriptModule(original_name=Conv2d)\n",
            "          (1): RecursiveScriptModule(original_name=BatchNorm2d)\n",
            "          (2): RecursiveScriptModule(original_name=ReLU6)\n",
            "        )\n",
            "        (2): RecursiveScriptModule(original_name=Conv2d)\n",
            "        (3): RecursiveScriptModule(original_name=BatchNorm2d)\n",
            "      )\n",
            "    )\n",
            "    (18): RecursiveScriptModule(\n",
            "      original_name=ConvBNReLU\n",
            "      (0): RecursiveScriptModule(original_name=Conv2d)\n",
            "      (1): RecursiveScriptModule(original_name=BatchNorm2d)\n",
            "      (2): RecursiveScriptModule(original_name=ReLU6)\n",
            "    )\n",
            "  )\n",
            "  (classifier): RecursiveScriptModule(\n",
            "    original_name=Sequential\n",
            "    (0): RecursiveScriptModule(original_name=Dropout)\n",
            "    (1): RecursiveScriptModule(original_name=Linear)\n",
            "    (2): RecursiveScriptModule(original_name=ReLU)\n",
            "    (3): RecursiveScriptModule(original_name=Dropout)\n",
            "    (4): RecursiveScriptModule(original_name=Linear)\n",
            "    (5): RecursiveScriptModule(original_name=LogSoftmax)\n",
            "  )\n",
            ")\n",
            "time: 138 ms\n"
          ],
          "name": "stdout"
        }
      ]
    },
    {
      "cell_type": "code",
      "metadata": {
        "id": "bDMOBhb95RDT",
        "colab_type": "code",
        "colab": {}
      },
      "source": [
        "# model=torch.load(MODEL_FILE)\n",
        "# model.eval()"
      ],
      "execution_count": null,
      "outputs": []
    },
    {
      "cell_type": "code",
      "metadata": {
        "id": "a-aV_fhH5XMn",
        "colab_type": "code",
        "colab": {
          "base_uri": "https://localhost:8080/",
          "height": 34
        },
        "outputId": "8f91d6ac-9299-4f0c-cb8a-30c33391dc03"
      },
      "source": [
        "from torchvision import transforms\n",
        "test_transforms = transforms.Compose([transforms.ToTensor(),\n",
        "                                      #transforms.Normalize([0.485, 0.456, 0.406],\n",
        "                                      #                     [0.229, 0.224, 0.225])\n",
        "                                     ])"
      ],
      "execution_count": 34,
      "outputs": [
        {
          "output_type": "stream",
          "text": [
            "time: 2.41 ms\n"
          ],
          "name": "stdout"
        }
      ]
    },
    {
      "cell_type": "markdown",
      "metadata": {
        "id": "z3R-gdZM5gFH",
        "colab_type": "text"
      },
      "source": [
        "## Validate Model"
      ]
    },
    {
      "cell_type": "code",
      "metadata": {
        "id": "rvVpDxp55g_m",
        "colab_type": "code",
        "colab": {
          "base_uri": "https://localhost:8080/",
          "height": 1000
        },
        "outputId": "ce57d6e2-ff30-4014-94ae-10d1d3fa60c3"
      },
      "source": [
        "\n",
        "from matplotlib import pyplot as plt\n",
        "\n",
        "to_pil = torchvision.transforms.ToPILImage()\n",
        "images, labels = get_random_images(5)\n",
        "fig=plt.figure(figsize=(70,70))\n",
        "for ii in range(len(images)):\n",
        "    image = to_pil(images[ii])\n",
        "    index = predict_image(image)\n",
        "    #print(index)\n",
        "    sub = fig.add_subplot(1, len(images), ii+1)\n",
        "    res = int(labels[ii]) == index\n",
        "    if res:\n",
        "        sub.set_title(index)\n",
        "    else:\n",
        "        print('Misclassified Image :\\n\\tActual Label : {} and predicted : {}'.format(int(labels[ii]),index))\n",
        "    plt.axis('off')\n",
        "    plt.imshow(image)\n",
        "plt.show()"
      ],
      "execution_count": 35,
      "outputs": [
        {
          "output_type": "stream",
          "text": [
            "Misclassified Image :\n",
            "\tActual Label : 3 and predicted : 0\n",
            "Misclassified Image :\n",
            "\tActual Label : 2 and predicted : 3\n",
            "Misclassified Image :\n",
            "\tActual Label : 1 and predicted : 0\n",
            "Misclassified Image :\n",
            "\tActual Label : 3 and predicted : 0\n",
            "Misclassified Image :\n",
            "\tActual Label : 3 and predicted : 0\n",
            "Misclassified Image :\n",
            "\tActual Label : 2 and predicted : 0\n",
            "Misclassified Image :\n",
            "\tActual Label : 1 and predicted : 0\n",
            "Misclassified Image :\n",
            "\tActual Label : 3 and predicted : 0\n",
            "Misclassified Image :\n",
            "\tActual Label : 3 and predicted : 0\n",
            "Misclassified Image :\n",
            "\tActual Label : 3 and predicted : 0\n",
            "Misclassified Image :\n",
            "\tActual Label : 1 and predicted : 0\n",
            "Misclassified Image :\n",
            "\tActual Label : 2 and predicted : 0\n",
            "Misclassified Image :\n",
            "\tActual Label : 3 and predicted : 0\n",
            "Misclassified Image :\n",
            "\tActual Label : 2 and predicted : 0\n",
            "Misclassified Image :\n",
            "\tActual Label : 3 and predicted : 0\n",
            "Misclassified Image :\n",
            "\tActual Label : 1 and predicted : 0\n",
            "Misclassified Image :\n",
            "\tActual Label : 3 and predicted : 0\n",
            "Misclassified Image :\n",
            "\tActual Label : 2 and predicted : 1\n",
            "Misclassified Image :\n",
            "\tActual Label : 3 and predicted : 0\n",
            "Misclassified Image :\n",
            "\tActual Label : 3 and predicted : 0\n",
            "Misclassified Image :\n",
            "\tActual Label : 3 and predicted : 0\n",
            "Misclassified Image :\n",
            "\tActual Label : 2 and predicted : 0\n",
            "Misclassified Image :\n",
            "\tActual Label : 1 and predicted : 0\n",
            "Misclassified Image :\n",
            "\tActual Label : 0 and predicted : 3\n",
            "Misclassified Image :\n",
            "\tActual Label : 0 and predicted : 1\n",
            "Misclassified Image :\n",
            "\tActual Label : 2 and predicted : 1\n",
            "Misclassified Image :\n",
            "\tActual Label : 2 and predicted : 0\n",
            "Misclassified Image :\n",
            "\tActual Label : 3 and predicted : 0\n",
            "Misclassified Image :\n",
            "\tActual Label : 1 and predicted : 0\n",
            "Misclassified Image :\n",
            "\tActual Label : 3 and predicted : 0\n",
            "Misclassified Image :\n",
            "\tActual Label : 2 and predicted : 0\n",
            "Misclassified Image :\n",
            "\tActual Label : 3 and predicted : 0\n",
            "Misclassified Image :\n",
            "\tActual Label : 2 and predicted : 0\n",
            "Misclassified Image :\n",
            "\tActual Label : 1 and predicted : 0\n",
            "Misclassified Image :\n",
            "\tActual Label : 2 and predicted : 0\n",
            "Misclassified Image :\n",
            "\tActual Label : 3 and predicted : 0\n",
            "Misclassified Image :\n",
            "\tActual Label : 2 and predicted : 0\n",
            "Misclassified Image :\n",
            "\tActual Label : 3 and predicted : 0\n",
            "Misclassified Image :\n",
            "\tActual Label : 1 and predicted : 0\n",
            "Misclassified Image :\n",
            "\tActual Label : 1 and predicted : 0\n",
            "Misclassified Image :\n",
            "\tActual Label : 2 and predicted : 0\n",
            "Misclassified Image :\n",
            "\tActual Label : 0 and predicted : 3\n",
            "Misclassified Image :\n",
            "\tActual Label : 3 and predicted : 0\n",
            "Misclassified Image :\n",
            "\tActual Label : 1 and predicted : 0\n",
            "Misclassified Image :\n",
            "\tActual Label : 1 and predicted : 0\n",
            "Misclassified Image :\n",
            "\tActual Label : 3 and predicted : 1\n",
            "Misclassified Image :\n",
            "\tActual Label : 3 and predicted : 1\n",
            "Misclassified Image :\n",
            "\tActual Label : 1 and predicted : 0\n",
            "Misclassified Image :\n",
            "\tActual Label : 3 and predicted : 0\n",
            "Misclassified Image :\n",
            "\tActual Label : 3 and predicted : 0\n",
            "Misclassified Image :\n",
            "\tActual Label : 2 and predicted : 0\n",
            "Misclassified Image :\n",
            "\tActual Label : 2 and predicted : 0\n",
            "Misclassified Image :\n",
            "\tActual Label : 2 and predicted : 0\n",
            "Misclassified Image :\n",
            "\tActual Label : 2 and predicted : 0\n",
            "Misclassified Image :\n",
            "\tActual Label : 1 and predicted : 0\n",
            "Misclassified Image :\n",
            "\tActual Label : 1 and predicted : 0\n",
            "Misclassified Image :\n",
            "\tActual Label : 3 and predicted : 0\n",
            "Misclassified Image :\n",
            "\tActual Label : 3 and predicted : 1\n",
            "Misclassified Image :\n",
            "\tActual Label : 2 and predicted : 0\n",
            "Misclassified Image :\n",
            "\tActual Label : 1 and predicted : 0\n",
            "Misclassified Image :\n",
            "\tActual Label : 1 and predicted : 0\n",
            "Misclassified Image :\n",
            "\tActual Label : 1 and predicted : 0\n",
            "Misclassified Image :\n",
            "\tActual Label : 0 and predicted : 3\n",
            "Misclassified Image :\n",
            "\tActual Label : 1 and predicted : 0\n",
            "Misclassified Image :\n",
            "\tActual Label : 1 and predicted : 0\n",
            "Misclassified Image :\n",
            "\tActual Label : 2 and predicted : 0\n",
            "Misclassified Image :\n",
            "\tActual Label : 2 and predicted : 1\n",
            "Misclassified Image :\n",
            "\tActual Label : 2 and predicted : 0\n",
            "Misclassified Image :\n",
            "\tActual Label : 3 and predicted : 0\n",
            "Misclassified Image :\n",
            "\tActual Label : 2 and predicted : 0\n",
            "Misclassified Image :\n",
            "\tActual Label : 2 and predicted : 0\n",
            "Misclassified Image :\n",
            "\tActual Label : 3 and predicted : 1\n",
            "Misclassified Image :\n",
            "\tActual Label : 3 and predicted : 1\n",
            "Misclassified Image :\n",
            "\tActual Label : 2 and predicted : 0\n",
            "Misclassified Image :\n",
            "\tActual Label : 0 and predicted : 1\n",
            "Misclassified Image :\n",
            "\tActual Label : 1 and predicted : 0\n",
            "Misclassified Image :\n",
            "\tActual Label : 3 and predicted : 0\n",
            "Misclassified Image :\n",
            "\tActual Label : 2 and predicted : 0\n",
            "Misclassified Image :\n",
            "\tActual Label : 3 and predicted : 0\n",
            "Misclassified Image :\n",
            "\tActual Label : 3 and predicted : 0\n",
            "Misclassified Image :\n",
            "\tActual Label : 1 and predicted : 0\n",
            "Misclassified Image :\n",
            "\tActual Label : 3 and predicted : 0\n",
            "Misclassified Image :\n",
            "\tActual Label : 3 and predicted : 0\n",
            "Misclassified Image :\n",
            "\tActual Label : 3 and predicted : 0\n",
            "Misclassified Image :\n",
            "\tActual Label : 2 and predicted : 3\n",
            "Misclassified Image :\n",
            "\tActual Label : 2 and predicted : 0\n",
            "Misclassified Image :\n",
            "\tActual Label : 1 and predicted : 0\n",
            "Misclassified Image :\n",
            "\tActual Label : 3 and predicted : 0\n",
            "Misclassified Image :\n",
            "\tActual Label : 1 and predicted : 0\n",
            "Misclassified Image :\n",
            "\tActual Label : 1 and predicted : 0\n",
            "Misclassified Image :\n",
            "\tActual Label : 2 and predicted : 0\n",
            "Misclassified Image :\n",
            "\tActual Label : 3 and predicted : 0\n",
            "Misclassified Image :\n",
            "\tActual Label : 2 and predicted : 1\n",
            "Misclassified Image :\n",
            "\tActual Label : 3 and predicted : 0\n",
            "Misclassified Image :\n",
            "\tActual Label : 1 and predicted : 0\n",
            "Misclassified Image :\n",
            "\tActual Label : 3 and predicted : 0\n",
            "Misclassified Image :\n",
            "\tActual Label : 1 and predicted : 0\n",
            "Misclassified Image :\n",
            "\tActual Label : 2 and predicted : 0\n",
            "Misclassified Image :\n",
            "\tActual Label : 2 and predicted : 0\n",
            "Misclassified Image :\n",
            "\tActual Label : 3 and predicted : 0\n",
            "Misclassified Image :\n",
            "\tActual Label : 3 and predicted : 1\n",
            "Misclassified Image :\n",
            "\tActual Label : 3 and predicted : 0\n",
            "Misclassified Image :\n",
            "\tActual Label : 2 and predicted : 0\n",
            "Misclassified Image :\n",
            "\tActual Label : 3 and predicted : 0\n",
            "Misclassified Image :\n",
            "\tActual Label : 2 and predicted : 0\n",
            "Misclassified Image :\n",
            "\tActual Label : 3 and predicted : 1\n",
            "Misclassified Image :\n",
            "\tActual Label : 1 and predicted : 0\n",
            "Misclassified Image :\n",
            "\tActual Label : 3 and predicted : 0\n",
            "Misclassified Image :\n",
            "\tActual Label : 2 and predicted : 3\n",
            "Misclassified Image :\n",
            "\tActual Label : 3 and predicted : 0\n",
            "Misclassified Image :\n",
            "\tActual Label : 3 and predicted : 0\n",
            "Misclassified Image :\n",
            "\tActual Label : 1 and predicted : 0\n",
            "Misclassified Image :\n",
            "\tActual Label : 1 and predicted : 0\n",
            "Misclassified Image :\n",
            "\tActual Label : 1 and predicted : 0\n",
            "Misclassified Image :\n",
            "\tActual Label : 3 and predicted : 1\n",
            "Misclassified Image :\n",
            "\tActual Label : 2 and predicted : 0\n",
            "Misclassified Image :\n",
            "\tActual Label : 2 and predicted : 0\n",
            "Misclassified Image :\n",
            "\tActual Label : 3 and predicted : 0\n",
            "Misclassified Image :\n",
            "\tActual Label : 1 and predicted : 0\n",
            "Misclassified Image :\n",
            "\tActual Label : 2 and predicted : 0\n",
            "Misclassified Image :\n",
            "\tActual Label : 1 and predicted : 0\n",
            "Misclassified Image :\n",
            "\tActual Label : 2 and predicted : 0\n",
            "Misclassified Image :\n",
            "\tActual Label : 0 and predicted : 3\n",
            "Misclassified Image :\n",
            "\tActual Label : 1 and predicted : 0\n",
            "Misclassified Image :\n",
            "\tActual Label : 2 and predicted : 0\n",
            "Misclassified Image :\n",
            "\tActual Label : 2 and predicted : 0\n",
            "Misclassified Image :\n",
            "\tActual Label : 2 and predicted : 0\n",
            "Misclassified Image :\n",
            "\tActual Label : 3 and predicted : 0\n",
            "Misclassified Image :\n",
            "\tActual Label : 2 and predicted : 0\n",
            "Misclassified Image :\n",
            "\tActual Label : 1 and predicted : 0\n",
            "Misclassified Image :\n",
            "\tActual Label : 1 and predicted : 0\n",
            "Misclassified Image :\n",
            "\tActual Label : 0 and predicted : 3\n",
            "Misclassified Image :\n",
            "\tActual Label : 2 and predicted : 0\n",
            "Misclassified Image :\n",
            "\tActual Label : 0 and predicted : 3\n",
            "Misclassified Image :\n",
            "\tActual Label : 2 and predicted : 0\n",
            "Misclassified Image :\n",
            "\tActual Label : 1 and predicted : 0\n",
            "Misclassified Image :\n",
            "\tActual Label : 3 and predicted : 0\n",
            "Misclassified Image :\n",
            "\tActual Label : 3 and predicted : 0\n",
            "Misclassified Image :\n",
            "\tActual Label : 0 and predicted : 3\n",
            "Misclassified Image :\n",
            "\tActual Label : 0 and predicted : 3\n",
            "Misclassified Image :\n",
            "\tActual Label : 1 and predicted : 0\n",
            "Misclassified Image :\n",
            "\tActual Label : 3 and predicted : 0\n",
            "Misclassified Image :\n",
            "\tActual Label : 1 and predicted : 0\n",
            "Misclassified Image :\n",
            "\tActual Label : 2 and predicted : 0\n",
            "Misclassified Image :\n",
            "\tActual Label : 3 and predicted : 0\n",
            "Misclassified Image :\n",
            "\tActual Label : 2 and predicted : 0\n"
          ],
          "name": "stdout"
        },
        {
          "output_type": "display_data",
          "data": {
            "image/png": "[encoded data removed]",
            "text/plain": [
              "<Figure size 5040x5040 with 256 Axes>"
            ]
          },
          "metadata": {
            "tags": [],
            "needs_background": "light"
          }
        },
        {
          "output_type": "stream",
          "text": [
            "time: 18.3 s\n"
          ],
          "name": "stdout"
        }
      ]
    },
    {
      "cell_type": "markdown",
      "metadata": {
        "id": "hxYnXbBn6wv-",
        "colab_type": "text"
      },
      "source": [
        "## Test model"
      ]
    },
    {
      "cell_type": "code",
      "metadata": {
        "id": "i-_3kAmU5jAh",
        "colab_type": "code",
        "colab": {
          "base_uri": "https://localhost:8080/",
          "height": 404
        },
        "outputId": "d08ece1b-44f6-4a70-9531-a2cf2d793a1c"
      },
      "source": [
        "from matplotlib import pyplot as plt\n",
        "predClass = []\n",
        "\n",
        "#for _ in np.arange(float(len(testDs))/8.0+1): \n",
        "data = iter(val_loader)\n",
        "#for v in np.arange(float(len(testDs))/8.0+1): \n",
        "from IPython.core.debugger import set_trace\n",
        "res = True\n",
        "row = 1\n",
        "while res:\n",
        "    try:\n",
        "        images = data.next()\n",
        "        res = False if len(images)==0 else True\n",
        "    except Exception as e:\n",
        "        print(str(e))\n",
        "        break\n",
        "    to_pil = torchvision.transforms.ToPILImage()\n",
        "\n",
        "    print(f'Row : {row}')\n",
        "    row = row + 1\n",
        "    #fig=plt.figure(figsize=(30,30))\n",
        "    for ii in range(len(images)):\n",
        "        image = to_pil(images[ii])\n",
        "        index = predict_image(image)\n",
        "        predClass.append(index)\n",
        "        #sub = fig.add_subplot(1, len(images), ii+1)\n",
        "        #sub.set_title(index)\n",
        "        #plt.axis('off')\n",
        "        #plt.imshow(image)\n",
        "    #plt.show()\n",
        "    #set_trace()"
      ],
      "execution_count": 36,
      "outputs": [
        {
          "output_type": "stream",
          "text": [
            "Row : 1\n"
          ],
          "name": "stdout"
        },
        {
          "output_type": "error",
          "ename": "ValueError",
          "evalue": "ignored",
          "traceback": [
            "\u001b[0;31m---------------------------------------------------------------------------\u001b[0m",
            "\u001b[0;31mValueError\u001b[0m                                Traceback (most recent call last)",
            "\u001b[0;32m<ipython-input-36-8d15bc230565>\u001b[0m in \u001b[0;36m<module>\u001b[0;34m()\u001b[0m\n\u001b[1;32m     21\u001b[0m     \u001b[0;31m#fig=plt.figure(figsize=(30,30))\u001b[0m\u001b[0;34m\u001b[0m\u001b[0;34m\u001b[0m\u001b[0;34m\u001b[0m\u001b[0m\n\u001b[1;32m     22\u001b[0m     \u001b[0;32mfor\u001b[0m \u001b[0mii\u001b[0m \u001b[0;32min\u001b[0m \u001b[0mrange\u001b[0m\u001b[0;34m(\u001b[0m\u001b[0mlen\u001b[0m\u001b[0;34m(\u001b[0m\u001b[0mimages\u001b[0m\u001b[0;34m)\u001b[0m\u001b[0;34m)\u001b[0m\u001b[0;34m:\u001b[0m\u001b[0;34m\u001b[0m\u001b[0;34m\u001b[0m\u001b[0m\n\u001b[0;32m---> 23\u001b[0;31m         \u001b[0mimage\u001b[0m \u001b[0;34m=\u001b[0m \u001b[0mto_pil\u001b[0m\u001b[0;34m(\u001b[0m\u001b[0mimages\u001b[0m\u001b[0;34m[\u001b[0m\u001b[0mii\u001b[0m\u001b[0;34m]\u001b[0m\u001b[0;34m)\u001b[0m\u001b[0;34m\u001b[0m\u001b[0;34m\u001b[0m\u001b[0m\n\u001b[0m\u001b[1;32m     24\u001b[0m         \u001b[0mindex\u001b[0m \u001b[0;34m=\u001b[0m \u001b[0mpredict_image\u001b[0m\u001b[0;34m(\u001b[0m\u001b[0mimage\u001b[0m\u001b[0;34m)\u001b[0m\u001b[0;34m\u001b[0m\u001b[0;34m\u001b[0m\u001b[0m\n\u001b[1;32m     25\u001b[0m         \u001b[0mpredClass\u001b[0m\u001b[0;34m.\u001b[0m\u001b[0mappend\u001b[0m\u001b[0;34m(\u001b[0m\u001b[0mindex\u001b[0m\u001b[0;34m)\u001b[0m\u001b[0;34m\u001b[0m\u001b[0;34m\u001b[0m\u001b[0m\n",
            "\u001b[0;32m/usr/local/lib/python3.6/dist-packages/torchvision/transforms/transforms.py\u001b[0m in \u001b[0;36m__call__\u001b[0;34m(self, pic)\u001b[0m\n\u001b[1;32m    125\u001b[0m \u001b[0;34m\u001b[0m\u001b[0m\n\u001b[1;32m    126\u001b[0m         \"\"\"\n\u001b[0;32m--> 127\u001b[0;31m         \u001b[0;32mreturn\u001b[0m \u001b[0mF\u001b[0m\u001b[0;34m.\u001b[0m\u001b[0mto_pil_image\u001b[0m\u001b[0;34m(\u001b[0m\u001b[0mpic\u001b[0m\u001b[0;34m,\u001b[0m \u001b[0mself\u001b[0m\u001b[0;34m.\u001b[0m\u001b[0mmode\u001b[0m\u001b[0;34m)\u001b[0m\u001b[0;34m\u001b[0m\u001b[0;34m\u001b[0m\u001b[0m\n\u001b[0m\u001b[1;32m    128\u001b[0m \u001b[0;34m\u001b[0m\u001b[0m\n\u001b[1;32m    129\u001b[0m     \u001b[0;32mdef\u001b[0m \u001b[0m__repr__\u001b[0m\u001b[0;34m(\u001b[0m\u001b[0mself\u001b[0m\u001b[0;34m)\u001b[0m\u001b[0;34m:\u001b[0m\u001b[0;34m\u001b[0m\u001b[0;34m\u001b[0m\u001b[0m\n",
            "\u001b[0;32m/usr/local/lib/python3.6/dist-packages/torchvision/transforms/functional.py\u001b[0m in \u001b[0;36mto_pil_image\u001b[0;34m(pic, mode)\u001b[0m\n\u001b[1;32m    102\u001b[0m     \u001b[0;32melif\u001b[0m \u001b[0misinstance\u001b[0m\u001b[0;34m(\u001b[0m\u001b[0mpic\u001b[0m\u001b[0;34m,\u001b[0m \u001b[0mtorch\u001b[0m\u001b[0;34m.\u001b[0m\u001b[0mTensor\u001b[0m\u001b[0;34m)\u001b[0m\u001b[0;34m:\u001b[0m\u001b[0;34m\u001b[0m\u001b[0;34m\u001b[0m\u001b[0m\n\u001b[1;32m    103\u001b[0m         \u001b[0;32mif\u001b[0m \u001b[0mpic\u001b[0m\u001b[0;34m.\u001b[0m\u001b[0mndimension\u001b[0m\u001b[0;34m(\u001b[0m\u001b[0;34m)\u001b[0m \u001b[0;32mnot\u001b[0m \u001b[0;32min\u001b[0m \u001b[0;34m{\u001b[0m\u001b[0;36m2\u001b[0m\u001b[0;34m,\u001b[0m \u001b[0;36m3\u001b[0m\u001b[0;34m}\u001b[0m\u001b[0;34m:\u001b[0m\u001b[0;34m\u001b[0m\u001b[0;34m\u001b[0m\u001b[0m\n\u001b[0;32m--> 104\u001b[0;31m             \u001b[0;32mraise\u001b[0m \u001b[0mValueError\u001b[0m\u001b[0;34m(\u001b[0m\u001b[0;34m'pic should be 2/3 dimensional. Got {} dimensions.'\u001b[0m\u001b[0;34m.\u001b[0m\u001b[0mformat\u001b[0m\u001b[0;34m(\u001b[0m\u001b[0mpic\u001b[0m\u001b[0;34m.\u001b[0m\u001b[0mndimension\u001b[0m\u001b[0;34m(\u001b[0m\u001b[0;34m)\u001b[0m\u001b[0;34m)\u001b[0m\u001b[0;34m)\u001b[0m\u001b[0;34m\u001b[0m\u001b[0;34m\u001b[0m\u001b[0m\n\u001b[0m\u001b[1;32m    105\u001b[0m \u001b[0;34m\u001b[0m\u001b[0m\n\u001b[1;32m    106\u001b[0m         \u001b[0;32melif\u001b[0m \u001b[0mpic\u001b[0m\u001b[0;34m.\u001b[0m\u001b[0mndimension\u001b[0m\u001b[0;34m(\u001b[0m\u001b[0;34m)\u001b[0m \u001b[0;34m==\u001b[0m \u001b[0;36m2\u001b[0m\u001b[0;34m:\u001b[0m\u001b[0;34m\u001b[0m\u001b[0;34m\u001b[0m\u001b[0m\n",
            "\u001b[0;31mValueError\u001b[0m: pic should be 2/3 dimensional. Got 4 dimensions."
          ]
        },
        {
          "output_type": "stream",
          "text": [
            "time: 3.1 s\n"
          ],
          "name": "stdout"
        }
      ]
    },
    {
      "cell_type": "code",
      "metadata": {
        "id": "smOisNtS64pa",
        "colab_type": "code",
        "colab": {}
      },
      "source": [
        "print(len(np.array(predClass)))"
      ],
      "execution_count": null,
      "outputs": []
    },
    {
      "cell_type": "markdown",
      "metadata": {
        "id": "NlakealKdYMe",
        "colab_type": "text"
      },
      "source": [
        "## Setup in powershell\n",
        "\n",
        "1. Start powershell in admin mode\n",
        "2. Set execution policy 'Set-ExecutionPolicy Scope Process -ExecutionPolicy Bypass'\n",
        "3.serverless plugin install --name serverless-python-requirements\n",
        "4. npm run deploy\n",
        "5. Grant permission to docker for file sharing\n"
      ]
    },
    {
      "cell_type": "code",
      "metadata": {
        "id": "GJTF-f3XdfLY",
        "colab_type": "code",
        "colab": {}
      },
      "source": [
        "train_loss.shape"
      ],
      "execution_count": null,
      "outputs": []
    },
    {
      "cell_type": "code",
      "metadata": {
        "id": "a86gqwv9Vp-v",
        "colab_type": "code",
        "colab": {}
      },
      "source": [
        "print(len(train_loss))"
      ],
      "execution_count": null,
      "outputs": []
    },
    {
      "cell_type": "code",
      "metadata": {
        "id": "_vETgc3uVsxm",
        "colab_type": "code",
        "colab": {}
      },
      "source": [
        "train_loss[0]"
      ],
      "execution_count": null,
      "outputs": []
    },
    {
      "cell_type": "code",
      "metadata": {
        "id": "I90Ey0aAVzPP",
        "colab_type": "code",
        "colab": {}
      },
      "source": [
        ""
      ],
      "execution_count": null,
      "outputs": []
    }
  ]
}