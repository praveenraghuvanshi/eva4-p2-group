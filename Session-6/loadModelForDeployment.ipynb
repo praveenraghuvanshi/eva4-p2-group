{
  "nbformat": 4,
  "nbformat_minor": 0,
  "metadata": {
    "colab": {
      "name": "loadModelForDeployment.ipynb",
      "provenance": [],
      "collapsed_sections": [],
      "toc_visible": true
    },
    "kernelspec": {
      "name": "python3",
      "display_name": "Python 3"
    }
  },
  "cells": [
    {
      "cell_type": "code",
      "metadata": {
        "id": "mqLd00bfdWZ3"
      },
      "source": [
        "import torch\n",
        "import torch.nn as nn\n",
        "import numpy as np\n",
        "import base64\n"
      ],
      "execution_count": 14,
      "outputs": []
    },
    {
      "cell_type": "markdown",
      "metadata": {
        "id": "4JazHQKA0iqW"
      },
      "source": [
        "# Generator Code"
      ]
    },
    {
      "cell_type": "code",
      "metadata": {
        "id": "js1p50Fv6L07"
      },
      "source": [
        "class Generator(nn.Module):\n",
        "    \"\"\"\n",
        "    Creates the Generator\n",
        "\n",
        "    nz (int): size of the latent z vector\n",
        "    ngf (int): number of feature maps for the generator\n",
        "    \"\"\"\n",
        "    def __init__(self, nz: int = 64, ngf: int = 64):\n",
        "        super(Generator, self).__init__()\n",
        "        #self.ngpu = ngpu\n",
        "        self.main = nn.Sequential(\n",
        "            # input is Z, going into a convolution\n",
        "            nn.ConvTranspose2d( nz, ngf * 8, 4, 1, 0, bias=False),\n",
        "            nn.BatchNorm2d(ngf * 8),\n",
        "            nn.ReLU(True),\n",
        "            # state size. (ngf*8) x 4 x 4\n",
        "            nn.ConvTranspose2d(ngf * 8, ngf * 4, 4, 2, 1, bias=False),\n",
        "            nn.BatchNorm2d(ngf * 4),\n",
        "            nn.ReLU(True),\n",
        "            # state size. (ngf*4) x 8 x 8\n",
        "            nn.ConvTranspose2d( ngf * 4, ngf * 2, 4, 2, 1, bias=False),\n",
        "            nn.BatchNorm2d(ngf * 2),\n",
        "            nn.ReLU(True),\n",
        "            # state size. (ngf*2) x 16 x 16\n",
        "            nn.ConvTranspose2d( ngf * 2, ngf, 4, 2, 1, bias=False),\n",
        "            nn.BatchNorm2d(ngf),\n",
        "            nn.ReLU(True),\n",
        "            # state size. (ngf) x 32 x 32\n",
        "            nn.ConvTranspose2d( ngf, nc, 4, 2, 1, bias=False),\n",
        "            nn.Tanh()\n",
        "            # state size. (nc) x 64 x 64\n",
        "        )\n",
        "\n",
        "    def forward(self, input):\n",
        "        return self.main(input)"
      ],
      "execution_count": 2,
      "outputs": []
    },
    {
      "cell_type": "code",
      "metadata": {
        "id": "WSagczykdeuR",
        "outputId": "fa8ec397-40a9-46b0-be04-e6c26a430970",
        "colab": {
          "base_uri": "https://localhost:8080/",
          "height": 35
        }
      },
      "source": [
        "nz = 64;ngf = 64;nc = 3\n",
        "\n",
        "# Decide which device we want to run on\n",
        "device = torch.device(\"cuda:0\" if (torch.cuda.is_available() and ngpu > 0) else \"cpu\")\n",
        "print(device)\n",
        "netG = Generator(nz, ngf).to(device)"
      ],
      "execution_count": 3,
      "outputs": [
        {
          "output_type": "stream",
          "text": [
            "cpu\n"
          ],
          "name": "stdout"
        }
      ]
    },
    {
      "cell_type": "markdown",
      "metadata": {
        "id": "XhrVjHYmb0Xe"
      },
      "source": [
        "# LoadModel for deployment"
      ]
    },
    {
      "cell_type": "code",
      "metadata": {
        "id": "931gpRJcSV0f"
      },
      "source": [
        "def norm_ip(img, min, max):\n",
        "    img.clamp_(min=min, max=max)\n",
        "    img.add_(-min).div_(max - min + 1e-5)\n",
        "\n",
        "def norm_tensor(t):\n",
        "    norm_ip(t, float(t.min()), float(t.max()))"
      ],
      "execution_count": 4,
      "outputs": []
    },
    {
      "cell_type": "code",
      "metadata": {
        "id": "o4_fDzqiajot",
        "outputId": "70c333d0-2702-42e5-829f-05aafdcc76d3",
        "colab": {
          "base_uri": "https://localhost:8080/",
          "height": 35
        }
      },
      "source": [
        "netG.load_state_dict(torch.load('/content/drive/My Drive/EVA4/phase2/s6_GAN_carDesign/s6_carGAN_checkpoints/netG_chkpt_1420.pth',map_location=torch.device('cpu')))"
      ],
      "execution_count": 5,
      "outputs": [
        {
          "output_type": "execute_result",
          "data": {
            "text/plain": [
              "<All keys matched successfully>"
            ]
          },
          "metadata": {
            "tags": []
          },
          "execution_count": 5
        }
      ]
    },
    {
      "cell_type": "code",
      "metadata": {
        "id": "znHk8WlQre9t"
      },
      "source": [
        "with torch.no_grad():\n",
        "    fake = netG(torch.randn(1, 64, 1, 1).to(device)).detach().cpu()\n",
        "fakei = fake[0]\n",
        "norm_tensor(fakei)"
      ],
      "execution_count": 6,
      "outputs": []
    },
    {
      "cell_type": "code",
      "metadata": {
        "id": "A4-VP54atYko",
        "outputId": "df89bd9a-4d4a-45b3-e10d-217195725f8c",
        "colab": {
          "base_uri": "https://localhost:8080/",
          "height": 466
        }
      },
      "source": [
        "import matplotlib.pyplot as plt\n",
        "plt.figure(figsize=(8, 8))\n",
        "plt.imshow(fakei.permute(1, 2, 0))\n",
        "plt.axis('off')\n",
        "plt.grid('off')"
      ],
      "execution_count": 7,
      "outputs": [
        {
          "output_type": "display_data",
          "data": {
            "image/png": "[encoded data removed]",
            "text/plain": [
              "<Figure size 576x576 with 1 Axes>"
            ]
          },
          "metadata": {
            "tags": [],
            "needs_background": "light"
          }
        }
      ]
    },
    {
      "cell_type": "code",
      "metadata": {
        "id": "Bp5xPdN0eImJ"
      },
      "source": [
        "#traced_model = torch.jit.trace(netG.float(), torch.randn(1, 64, 1, 1).to(device))\n",
        "#torch.jit.save(traced_model, '/content/drive/My Drive/EVA4/phase2/s6_GAN_carDesign/s6_carGAN_checkpoints/netG_chkpt_1420_tracedModel.pth')"
      ],
      "execution_count": 8,
      "outputs": []
    },
    {
      "cell_type": "code",
      "metadata": {
        "id": "RcMMz6sMmMc6",
        "outputId": "aebdfd88-d34d-4f42-c3e4-268bd0512bab",
        "colab": {
          "base_uri": "https://localhost:8080/",
          "height": 35
        }
      },
      "source": [
        "\n",
        "\n",
        "t = fakei.numpy()\n",
        "s = base64.b64encode(t)\n",
        "img_str = f\"data:image/jpeg;base64,{base64.b64encode(t).decode()}\"\n",
        "#r = base64.decodebytes(s)\n",
        "#q = np.frombuffer(r, dtype=np.float64)\n",
        "\n",
        "print(type(img_str))"
      ],
      "execution_count": 35,
      "outputs": [
        {
          "output_type": "stream",
          "text": [
            "<class 'str'>\n"
          ],
          "name": "stdout"
        }
      ]
    },
    {
      "cell_type": "code",
      "metadata": {
        "id": "Rdqyn4DCkg_X"
      },
      "source": [
        "from PIL import Image\n",
        "import io\n",
        "def img_to_base64(img):\n",
        "    img = Image.fromarray(img, 'RGB') \n",
        "    buffer = io.BytesIO()\n",
        "    img.save(buffer,format=\"JPEG\")\n",
        "    myimage = buffer.getvalue()                     \n",
        "    img_str = f\"data:image/jpeg;base64,{base64.b64encode(myimage).decode()}\"\n",
        "    return img_str\n",
        "\n",
        "def HWC_2_CHW(img):\n",
        "    H, W, C = img.shape \n",
        "    im = np.zeros((C,H,W),dtype=np.float32)\n",
        "    for i in range(C):\n",
        "      im[i] = img[:,:,i]      \n",
        "    return im\n",
        "\n",
        "def img_normalize(img, means, stds):\n",
        "    \"\"\"\n",
        "    Args:\n",
        "        Numpy : Image of size (C, H, W) to be normalized.\n",
        "    Returns:\n",
        "        Numpy: Normalized image.\n",
        "    \"\"\"\n",
        "    for i in range(3):\n",
        "        img[i] = np.divide(np.subtract(img[i], means[i]), stds[i])\n",
        "        img[i] = np.nan_to_num(img[i])\n",
        "    return img"
      ],
      "execution_count": 9,
      "outputs": []
    },
    {
      "cell_type": "code",
      "metadata": {
        "id": "VD9wtX4JugCQ"
      },
      "source": [
        "s6Img = fakei.numpy()\n",
        "img_chw = HWC_2_CHW(s6Img)\n",
        "img_chw = np.float32(img_chw)/255.0\n",
        "means, stds = [0.5307, 0.5223, 0.5245], [0.2983, 0.2974, 0.2971]\n",
        "img_chw = img_normalize(img_chw, means, stds)\n",
        "img_chw = np.expand_dims(img_chw, axis=0) # Making batch size of 1"
      ],
      "execution_count": 15,
      "outputs": []
    },
    {
      "cell_type": "code",
      "metadata": {
        "id": "Rsnk_A8yw46K",
        "outputId": "ae5d1362-d92d-4079-9d06-88e1131a9812",
        "colab": {
          "base_uri": "https://localhost:8080/",
          "height": 178
        }
      },
      "source": [
        "img_to_base64(s6Img)"
      ],
      "execution_count": 16,
      "outputs": [
        {
          "output_type": "execute_result",
          "data": {
            "application/vnd.google.colaboratory.intrinsic+json": {
              "type": "string"
            },
            "text/plain": [
              "'data:image/jpeg;base64,/9j/4AAQSkZJRgABAQAAAQABAAD/2wBDAAgGBgcGBQgHBwcJCQgKDBQNDAsLDBkSEw8UHRofHh0aHBwgJC4nICIsIxwcKDcpLDAxNDQ0Hyc5PTgyPC4zNDL/2wBDAQkJCQwLDBgNDRgyIRwhMjIyMjIyMjIyMjIyMjIyMjIyMjIyMjIyMjIyMjIyMjIyMjIyMjIyMjIyMjIyMjIyMjL/wAARCAADAEADASIAAhEBAxEB/8QAHwAAAQUBAQEBAQEAAAAAAAAAAAECAwQFBgcICQoL/8QAtRAAAgEDAwIEAwUFBAQAAAF9AQIDAAQRBRIhMUEGE1FhByJxFDKBkaEII0KxwRVS0fAkM2JyggkKFhcYGRolJicoKSo0NTY3ODk6Q0RFRkdISUpTVFVWV1hZWmNkZWZnaGlqc3R1dnd4eXqDhIWGh4iJipKTlJWWl5iZmqKjpKWmp6ipqrKztLW2t7i5usLDxMXGx8jJytLT1NXW19jZ2uHi4+Tl5ufo6erx8vP09fb3+Pn6/8QAHwEAAwEBAQEBAQEBAQAAAAAAAAECAwQFBgcICQoL/8QAtREAAgECBAQDBAcFBAQAAQJ3AAECAxEEBSExBhJBUQdhcRMiMoEIFEKRobHBCSMzUvAVYnLRChYkNOEl8RcYGRomJygpKjU2Nzg5OkNERUZHSElKU1RVVldYWVpjZGVmZ2hpanN0dXZ3eHl6goOEhYaHiImKkpOUlZaXmJmaoqOkpaanqKmqsrO0tba3uLm6wsPExcbHyMnK0tPU1dbX2Nna4uPk5ebn6Onq8vP09fb3+Pn6/9oADAMBAAIRAxEAPwDnpLyex00wW7hYziQgqGyyQgqckE8En8zWxFj7ZdwBUWKK9tI0RVACqx2kcf7Ix7ZOOpyUVNdtVJJd5/kzzMVJxgpxdnZ6/OJkaNK99qF3FdESh7v5mIG8jfjBb72PbOK0bKMXupym4LSG41FIpSWOWUybcZ+gAHp2ooq8W+WlNx3vL8Oe35L7j6ahTg6LbS+BP5+5r6+ZDDeTy20VpJJvt5p45JI2AIZtsS5/LisfWr65sdSksbeXbbKsb7CA2SUVvmJ5YbiTg5HJ9TRRU4fWTi9uV/qfO0m4zsttfwtb7uhsaTbRXEllHIGwYoXyrlWBKQscMDkDLngHHT+6MaWoadaTaXrE7wLvTUkQbeBtbduBA4IPvRRWCnJ1Vd9H/wC3HpYdv2kX3cfzgf/Z'"
            ]
          },
          "metadata": {
            "tags": []
          },
          "execution_count": 16
        }
      ]
    },
    {
      "cell_type": "code",
      "metadata": {
        "id": "ur5zJ_uFxWy-"
      },
      "source": [
        ""
      ],
      "execution_count": null,
      "outputs": []
    }
  ]
}