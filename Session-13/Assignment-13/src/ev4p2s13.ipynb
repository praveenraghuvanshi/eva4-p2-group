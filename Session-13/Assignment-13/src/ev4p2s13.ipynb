{
  "nbformat": 4,
  "nbformat_minor": 0,
  "metadata": {
    "colab": {
      "name": "Building an end-to-end Speech Recognition model in PyTorch",
      "provenance": [],
      "collapsed_sections": []
    },
    "kernelspec": {
      "name": "python3",
      "display_name": "Python 3"
    },
    "accelerator": "GPU",
    "widgets": {
      "application/vnd.jupyter.widget-state+json": {
        "c20cf73309934b508c3c8530bfe41e16": {
          "model_module": "@jupyter-widgets/controls",
          "model_name": "HBoxModel",
          "state": {
            "_view_name": "HBoxView",
            "_dom_classes": [],
            "_model_name": "HBoxModel",
            "_view_module": "@jupyter-widgets/controls",
            "_model_module_version": "1.5.0",
            "_view_count": null,
            "_view_module_version": "1.5.0",
            "box_style": "",
            "layout": "IPY_MODEL_e0773b96c4c14731aafdcbe233ee2a60",
            "_model_module": "@jupyter-widgets/controls",
            "children": [
              "IPY_MODEL_5ff6917b0e2d4771b18457e6a5f925f4",
              "IPY_MODEL_554f66a4c73b43f4bbefa6f8339de44d"
            ]
          }
        },
        "e0773b96c4c14731aafdcbe233ee2a60": {
          "model_module": "@jupyter-widgets/base",
          "model_name": "LayoutModel",
          "state": {
            "_view_name": "LayoutView",
            "grid_template_rows": null,
            "right": null,
            "justify_content": null,
            "_view_module": "@jupyter-widgets/base",
            "overflow": null,
            "_model_module_version": "1.2.0",
            "_view_count": null,
            "flex_flow": null,
            "width": null,
            "min_width": null,
            "border": null,
            "align_items": null,
            "bottom": null,
            "_model_module": "@jupyter-widgets/base",
            "top": null,
            "grid_column": null,
            "overflow_y": null,
            "overflow_x": null,
            "grid_auto_flow": null,
            "grid_area": null,
            "grid_template_columns": null,
            "flex": null,
            "_model_name": "LayoutModel",
            "justify_items": null,
            "grid_row": null,
            "max_height": null,
            "align_content": null,
            "visibility": null,
            "align_self": null,
            "height": null,
            "min_height": null,
            "padding": null,
            "grid_auto_rows": null,
            "grid_gap": null,
            "max_width": null,
            "order": null,
            "_view_module_version": "1.2.0",
            "grid_template_areas": null,
            "object_position": null,
            "object_fit": null,
            "grid_auto_columns": null,
            "margin": null,
            "display": null,
            "left": null
          }
        },
        "5ff6917b0e2d4771b18457e6a5f925f4": {
          "model_module": "@jupyter-widgets/controls",
          "model_name": "FloatProgressModel",
          "state": {
            "_view_name": "ProgressView",
            "style": "IPY_MODEL_d257c6d0314749ee89c07ea288401059",
            "_dom_classes": [],
            "description": "100%",
            "_model_name": "FloatProgressModel",
            "bar_style": "success",
            "max": 6387309499,
            "_view_module": "@jupyter-widgets/controls",
            "_model_module_version": "1.5.0",
            "value": 6387309499,
            "_view_count": null,
            "_view_module_version": "1.5.0",
            "orientation": "horizontal",
            "min": 0,
            "description_tooltip": null,
            "_model_module": "@jupyter-widgets/controls",
            "layout": "IPY_MODEL_86cd16ec5e114f39a0284e850d375ff6"
          }
        },
        "554f66a4c73b43f4bbefa6f8339de44d": {
          "model_module": "@jupyter-widgets/controls",
          "model_name": "HTMLModel",
          "state": {
            "_view_name": "HTMLView",
            "style": "IPY_MODEL_03dc702d444443809f664c281940371b",
            "_dom_classes": [],
            "description": "",
            "_model_name": "HTMLModel",
            "placeholder": "​",
            "_view_module": "@jupyter-widgets/controls",
            "_model_module_version": "1.5.0",
            "value": " 5.95G/5.95G [11:44&lt;00:00, 9.06MB/s]",
            "_view_count": null,
            "_view_module_version": "1.5.0",
            "description_tooltip": null,
            "_model_module": "@jupyter-widgets/controls",
            "layout": "IPY_MODEL_be0ac8bdbe964c71b61b794b7c7fae2a"
          }
        },
        "d257c6d0314749ee89c07ea288401059": {
          "model_module": "@jupyter-widgets/controls",
          "model_name": "ProgressStyleModel",
          "state": {
            "_view_name": "StyleView",
            "_model_name": "ProgressStyleModel",
            "description_width": "initial",
            "_view_module": "@jupyter-widgets/base",
            "_model_module_version": "1.5.0",
            "_view_count": null,
            "_view_module_version": "1.2.0",
            "bar_color": null,
            "_model_module": "@jupyter-widgets/controls"
          }
        },
        "86cd16ec5e114f39a0284e850d375ff6": {
          "model_module": "@jupyter-widgets/base",
          "model_name": "LayoutModel",
          "state": {
            "_view_name": "LayoutView",
            "grid_template_rows": null,
            "right": null,
            "justify_content": null,
            "_view_module": "@jupyter-widgets/base",
            "overflow": null,
            "_model_module_version": "1.2.0",
            "_view_count": null,
            "flex_flow": null,
            "width": null,
            "min_width": null,
            "border": null,
            "align_items": null,
            "bottom": null,
            "_model_module": "@jupyter-widgets/base",
            "top": null,
            "grid_column": null,
            "overflow_y": null,
            "overflow_x": null,
            "grid_auto_flow": null,
            "grid_area": null,
            "grid_template_columns": null,
            "flex": null,
            "_model_name": "LayoutModel",
            "justify_items": null,
            "grid_row": null,
            "max_height": null,
            "align_content": null,
            "visibility": null,
            "align_self": null,
            "height": null,
            "min_height": null,
            "padding": null,
            "grid_auto_rows": null,
            "grid_gap": null,
            "max_width": null,
            "order": null,
            "_view_module_version": "1.2.0",
            "grid_template_areas": null,
            "object_position": null,
            "object_fit": null,
            "grid_auto_columns": null,
            "margin": null,
            "display": null,
            "left": null
          }
        },
        "03dc702d444443809f664c281940371b": {
          "model_module": "@jupyter-widgets/controls",
          "model_name": "DescriptionStyleModel",
          "state": {
            "_view_name": "StyleView",
            "_model_name": "DescriptionStyleModel",
            "description_width": "",
            "_view_module": "@jupyter-widgets/base",
            "_model_module_version": "1.5.0",
            "_view_count": null,
            "_view_module_version": "1.2.0",
            "_model_module": "@jupyter-widgets/controls"
          }
        },
        "be0ac8bdbe964c71b61b794b7c7fae2a": {
          "model_module": "@jupyter-widgets/base",
          "model_name": "LayoutModel",
          "state": {
            "_view_name": "LayoutView",
            "grid_template_rows": null,
            "right": null,
            "justify_content": null,
            "_view_module": "@jupyter-widgets/base",
            "overflow": null,
            "_model_module_version": "1.2.0",
            "_view_count": null,
            "flex_flow": null,
            "width": null,
            "min_width": null,
            "border": null,
            "align_items": null,
            "bottom": null,
            "_model_module": "@jupyter-widgets/base",
            "top": null,
            "grid_column": null,
            "overflow_y": null,
            "overflow_x": null,
            "grid_auto_flow": null,
            "grid_area": null,
            "grid_template_columns": null,
            "flex": null,
            "_model_name": "LayoutModel",
            "justify_items": null,
            "grid_row": null,
            "max_height": null,
            "align_content": null,
            "visibility": null,
            "align_self": null,
            "height": null,
            "min_height": null,
            "padding": null,
            "grid_auto_rows": null,
            "grid_gap": null,
            "max_width": null,
            "order": null,
            "_view_module_version": "1.2.0",
            "grid_template_areas": null,
            "object_position": null,
            "object_fit": null,
            "grid_auto_columns": null,
            "margin": null,
            "display": null,
            "left": null
          }
        },
        "439321be21e54e08988b06c087b81b36": {
          "model_module": "@jupyter-widgets/controls",
          "model_name": "HBoxModel",
          "state": {
            "_view_name": "HBoxView",
            "_dom_classes": [],
            "_model_name": "HBoxModel",
            "_view_module": "@jupyter-widgets/controls",
            "_model_module_version": "1.5.0",
            "_view_count": null,
            "_view_module_version": "1.5.0",
            "box_style": "",
            "layout": "IPY_MODEL_6945fd90f6754b2585957a772d465345",
            "_model_module": "@jupyter-widgets/controls",
            "children": [
              "IPY_MODEL_9aa0b36e7deb4cd9807fbbd72e099896",
              "IPY_MODEL_6f146d9008904cab8754cf9830b8f44d"
            ]
          }
        },
        "6945fd90f6754b2585957a772d465345": {
          "model_module": "@jupyter-widgets/base",
          "model_name": "LayoutModel",
          "state": {
            "_view_name": "LayoutView",
            "grid_template_rows": null,
            "right": null,
            "justify_content": null,
            "_view_module": "@jupyter-widgets/base",
            "overflow": null,
            "_model_module_version": "1.2.0",
            "_view_count": null,
            "flex_flow": null,
            "width": null,
            "min_width": null,
            "border": null,
            "align_items": null,
            "bottom": null,
            "_model_module": "@jupyter-widgets/base",
            "top": null,
            "grid_column": null,
            "overflow_y": null,
            "overflow_x": null,
            "grid_auto_flow": null,
            "grid_area": null,
            "grid_template_columns": null,
            "flex": null,
            "_model_name": "LayoutModel",
            "justify_items": null,
            "grid_row": null,
            "max_height": null,
            "align_content": null,
            "visibility": null,
            "align_self": null,
            "height": null,
            "min_height": null,
            "padding": null,
            "grid_auto_rows": null,
            "grid_gap": null,
            "max_width": null,
            "order": null,
            "_view_module_version": "1.2.0",
            "grid_template_areas": null,
            "object_position": null,
            "object_fit": null,
            "grid_auto_columns": null,
            "margin": null,
            "display": null,
            "left": null
          }
        },
        "9aa0b36e7deb4cd9807fbbd72e099896": {
          "model_module": "@jupyter-widgets/controls",
          "model_name": "FloatProgressModel",
          "state": {
            "_view_name": "ProgressView",
            "style": "IPY_MODEL_72ece57c96f54cfd8d6924a350567bf6",
            "_dom_classes": [],
            "description": "100%",
            "_model_name": "FloatProgressModel",
            "bar_style": "success",
            "max": 346663984,
            "_view_module": "@jupyter-widgets/controls",
            "_model_module_version": "1.5.0",
            "value": 346663984,
            "_view_count": null,
            "_view_module_version": "1.5.0",
            "orientation": "horizontal",
            "min": 0,
            "description_tooltip": null,
            "_model_module": "@jupyter-widgets/controls",
            "layout": "IPY_MODEL_b8f12a83466f48cb8776572425c0ee07"
          }
        },
        "6f146d9008904cab8754cf9830b8f44d": {
          "model_module": "@jupyter-widgets/controls",
          "model_name": "HTMLModel",
          "state": {
            "_view_name": "HTMLView",
            "style": "IPY_MODEL_d1f9289125ee422497b23fc3e13a63af",
            "_dom_classes": [],
            "description": "",
            "_model_name": "HTMLModel",
            "placeholder": "​",
            "_view_module": "@jupyter-widgets/controls",
            "_model_module_version": "1.5.0",
            "value": " 331M/331M [00:35&lt;00:00, 9.69MB/s]",
            "_view_count": null,
            "_view_module_version": "1.5.0",
            "description_tooltip": null,
            "_model_module": "@jupyter-widgets/controls",
            "layout": "IPY_MODEL_c0fce2149564474ba6fd0d0a6b9ddd58"
          }
        },
        "72ece57c96f54cfd8d6924a350567bf6": {
          "model_module": "@jupyter-widgets/controls",
          "model_name": "ProgressStyleModel",
          "state": {
            "_view_name": "StyleView",
            "_model_name": "ProgressStyleModel",
            "description_width": "initial",
            "_view_module": "@jupyter-widgets/base",
            "_model_module_version": "1.5.0",
            "_view_count": null,
            "_view_module_version": "1.2.0",
            "bar_color": null,
            "_model_module": "@jupyter-widgets/controls"
          }
        },
        "b8f12a83466f48cb8776572425c0ee07": {
          "model_module": "@jupyter-widgets/base",
          "model_name": "LayoutModel",
          "state": {
            "_view_name": "LayoutView",
            "grid_template_rows": null,
            "right": null,
            "justify_content": null,
            "_view_module": "@jupyter-widgets/base",
            "overflow": null,
            "_model_module_version": "1.2.0",
            "_view_count": null,
            "flex_flow": null,
            "width": null,
            "min_width": null,
            "border": null,
            "align_items": null,
            "bottom": null,
            "_model_module": "@jupyter-widgets/base",
            "top": null,
            "grid_column": null,
            "overflow_y": null,
            "overflow_x": null,
            "grid_auto_flow": null,
            "grid_area": null,
            "grid_template_columns": null,
            "flex": null,
            "_model_name": "LayoutModel",
            "justify_items": null,
            "grid_row": null,
            "max_height": null,
            "align_content": null,
            "visibility": null,
            "align_self": null,
            "height": null,
            "min_height": null,
            "padding": null,
            "grid_auto_rows": null,
            "grid_gap": null,
            "max_width": null,
            "order": null,
            "_view_module_version": "1.2.0",
            "grid_template_areas": null,
            "object_position": null,
            "object_fit": null,
            "grid_auto_columns": null,
            "margin": null,
            "display": null,
            "left": null
          }
        },
        "d1f9289125ee422497b23fc3e13a63af": {
          "model_module": "@jupyter-widgets/controls",
          "model_name": "DescriptionStyleModel",
          "state": {
            "_view_name": "StyleView",
            "_model_name": "DescriptionStyleModel",
            "description_width": "",
            "_view_module": "@jupyter-widgets/base",
            "_model_module_version": "1.5.0",
            "_view_count": null,
            "_view_module_version": "1.2.0",
            "_model_module": "@jupyter-widgets/controls"
          }
        },
        "c0fce2149564474ba6fd0d0a6b9ddd58": {
          "model_module": "@jupyter-widgets/base",
          "model_name": "LayoutModel",
          "state": {
            "_view_name": "LayoutView",
            "grid_template_rows": null,
            "right": null,
            "justify_content": null,
            "_view_module": "@jupyter-widgets/base",
            "overflow": null,
            "_model_module_version": "1.2.0",
            "_view_count": null,
            "flex_flow": null,
            "width": null,
            "min_width": null,
            "border": null,
            "align_items": null,
            "bottom": null,
            "_model_module": "@jupyter-widgets/base",
            "top": null,
            "grid_column": null,
            "overflow_y": null,
            "overflow_x": null,
            "grid_auto_flow": null,
            "grid_area": null,
            "grid_template_columns": null,
            "flex": null,
            "_model_name": "LayoutModel",
            "justify_items": null,
            "grid_row": null,
            "max_height": null,
            "align_content": null,
            "visibility": null,
            "align_self": null,
            "height": null,
            "min_height": null,
            "padding": null,
            "grid_auto_rows": null,
            "grid_gap": null,
            "max_width": null,
            "order": null,
            "_view_module_version": "1.2.0",
            "grid_template_areas": null,
            "object_position": null,
            "object_fit": null,
            "grid_auto_columns": null,
            "margin": null,
            "display": null,
            "left": null
          }
        }
      }
    }
  },
  "cells": [
    {
      "cell_type": "markdown",
      "metadata": {
        "id": "ibD6bsRPl8Qu"
      },
      "source": [
        "# Building an end-to-end Speech Recognition model in PyTorch - [AssemblyAI](https://www.assemblyai.com/)"
      ]
    },
    {
      "cell_type": "markdown",
      "metadata": {
        "id": "q1fXgsDQmK09"
      },
      "source": [
        "## installing the requirements"
      ]
    },
    {
      "cell_type": "code",
      "metadata": {
        "id": "gwfN8o17Bdp2",
        "colab": {
          "base_uri": "https://localhost:8080/"
        },
        "outputId": "5f63fb10-cc93-4b52-a9b3-999845a21a31"
      },
      "source": [
        "!pip install torchaudio"
      ],
      "execution_count": 20,
      "outputs": [
        {
          "output_type": "stream",
          "text": [
            "Requirement already satisfied: torchaudio in /usr/local/lib/python3.6/dist-packages (0.7.0)\n",
            "Requirement already satisfied: torch==1.7.0 in /usr/local/lib/python3.6/dist-packages (from torchaudio) (1.7.0+cu101)\n",
            "Requirement already satisfied: numpy in /usr/local/lib/python3.6/dist-packages (from torch==1.7.0->torchaudio) (1.18.5)\n",
            "Requirement already satisfied: dataclasses in /usr/local/lib/python3.6/dist-packages (from torch==1.7.0->torchaudio) (0.8)\n",
            "Requirement already satisfied: typing-extensions in /usr/local/lib/python3.6/dist-packages (from torch==1.7.0->torchaudio) (3.7.4.3)\n",
            "Requirement already satisfied: future in /usr/local/lib/python3.6/dist-packages (from torch==1.7.0->torchaudio) (0.16.0)\n"
          ],
          "name": "stdout"
        }
      ]
    },
    {
      "cell_type": "markdown",
      "metadata": {
        "id": "tSKHvy8DmOCQ"
      },
      "source": [
        "## Setting up your data pipeline"
      ]
    },
    {
      "cell_type": "code",
      "metadata": {
        "id": "RVJs4Bk8FjjO",
        "colab": {
          "base_uri": "https://localhost:8080/"
        },
        "outputId": "d8ee068e-8297-45dd-9aba-ea876de05f08"
      },
      "source": [
        "import os\n",
        "import torch\n",
        "import torch.nn as nn\n",
        "import torch.utils.data as data\n",
        "import torch.optim as optim\n",
        "import torch.nn.functional as F\n",
        "import torchaudio\n",
        "import numpy as np\n",
        "\n",
        "def avg_wer(wer_scores, combined_ref_len):\n",
        "    return float(sum(wer_scores)) / float(combined_ref_len)\n",
        "\n",
        "\n",
        "def _levenshtein_distance(ref, hyp):\n",
        "    \"\"\"Levenshtein distance is a string metric for measuring the difference\n",
        "    between two sequences. Informally, the levenshtein disctance is defined as\n",
        "    the minimum number of single-character edits (substitutions, insertions or\n",
        "    deletions) required to change one word into the other. We can naturally\n",
        "    extend the edits to word level when calculate levenshtein disctance for\n",
        "    two sentences.\n",
        "    \"\"\"\n",
        "    m = len(ref)\n",
        "    n = len(hyp)\n",
        "\n",
        "    # special case\n",
        "    if ref == hyp:\n",
        "        return 0\n",
        "    if m == 0:\n",
        "        return n\n",
        "    if n == 0:\n",
        "        return m\n",
        "\n",
        "    if m < n:\n",
        "        ref, hyp = hyp, ref\n",
        "        m, n = n, m\n",
        "\n",
        "    # use O(min(m, n)) space\n",
        "    distance = np.zeros((2, n + 1), dtype=np.int32)\n",
        "\n",
        "    # initialize distance matrix\n",
        "    for j in range(0,n + 1):\n",
        "        distance[0][j] = j\n",
        "\n",
        "    # calculate levenshtein distance\n",
        "    for i in range(1, m + 1):\n",
        "        prev_row_idx = (i - 1) % 2\n",
        "        cur_row_idx = i % 2\n",
        "        distance[cur_row_idx][0] = i\n",
        "        for j in range(1, n + 1):\n",
        "            if ref[i - 1] == hyp[j - 1]:\n",
        "                distance[cur_row_idx][j] = distance[prev_row_idx][j - 1]\n",
        "            else:\n",
        "                s_num = distance[prev_row_idx][j - 1] + 1\n",
        "                i_num = distance[cur_row_idx][j - 1] + 1\n",
        "                d_num = distance[prev_row_idx][j] + 1\n",
        "                distance[cur_row_idx][j] = min(s_num, i_num, d_num)\n",
        "\n",
        "    return distance[m % 2][n]\n",
        "\n",
        "\n",
        "def word_errors(reference, hypothesis, ignore_case=False, delimiter=' '):\n",
        "    \"\"\"Compute the levenshtein distance between reference sequence and\n",
        "    hypothesis sequence in word-level.\n",
        "    :param reference: The reference sentence.\n",
        "    :type reference: basestring\n",
        "    :param hypothesis: The hypothesis sentence.\n",
        "    :type hypothesis: basestring\n",
        "    :param ignore_case: Whether case-sensitive or not.\n",
        "    :type ignore_case: bool\n",
        "    :param delimiter: Delimiter of input sentences.\n",
        "    :type delimiter: char\n",
        "    :return: Levenshtein distance and word number of reference sentence.\n",
        "    :rtype: list\n",
        "    \"\"\"\n",
        "    if ignore_case == True:\n",
        "        reference = reference.lower()\n",
        "        hypothesis = hypothesis.lower()\n",
        "\n",
        "    ref_words = reference.split(delimiter)\n",
        "    hyp_words = hypothesis.split(delimiter)\n",
        "\n",
        "    edit_distance = _levenshtein_distance(ref_words, hyp_words)\n",
        "    return float(edit_distance), len(ref_words)\n",
        "\n",
        "\n",
        "def char_errors(reference, hypothesis, ignore_case=False, remove_space=False):\n",
        "    \"\"\"Compute the levenshtein distance between reference sequence and\n",
        "    hypothesis sequence in char-level.\n",
        "    :param reference: The reference sentence.\n",
        "    :type reference: basestring\n",
        "    :param hypothesis: The hypothesis sentence.\n",
        "    :type hypothesis: basestring\n",
        "    :param ignore_case: Whether case-sensitive or not.\n",
        "    :type ignore_case: bool\n",
        "    :param remove_space: Whether remove internal space characters\n",
        "    :type remove_space: bool\n",
        "    :return: Levenshtein distance and length of reference sentence.\n",
        "    :rtype: list\n",
        "    \"\"\"\n",
        "    if ignore_case == True:\n",
        "        reference = reference.lower()\n",
        "        hypothesis = hypothesis.lower()\n",
        "\n",
        "    join_char = ' '\n",
        "    if remove_space == True:\n",
        "        join_char = ''\n",
        "\n",
        "    reference = join_char.join(filter(None, reference.split(' ')))\n",
        "    hypothesis = join_char.join(filter(None, hypothesis.split(' ')))\n",
        "\n",
        "    edit_distance = _levenshtein_distance(reference, hypothesis)\n",
        "    return float(edit_distance), len(reference)\n",
        "\n",
        "\n",
        "def wer(reference, hypothesis, ignore_case=False, delimiter=' '):\n",
        "    \"\"\"Calculate word error rate (WER). WER compares reference text and\n",
        "    hypothesis text in word-level. WER is defined as:\n",
        "    .. math::\n",
        "        WER = (Sw + Dw + Iw) / Nw\n",
        "    where\n",
        "    .. code-block:: text\n",
        "        Sw is the number of words subsituted,\n",
        "        Dw is the number of words deleted,\n",
        "        Iw is the number of words inserted,\n",
        "        Nw is the number of words in the reference\n",
        "    We can use levenshtein distance to calculate WER. Please draw an attention\n",
        "    that empty items will be removed when splitting sentences by delimiter.\n",
        "    :param reference: The reference sentence.\n",
        "    :type reference: basestring\n",
        "    :param hypothesis: The hypothesis sentence.\n",
        "    :type hypothesis: basestring\n",
        "    :param ignore_case: Whether case-sensitive or not.\n",
        "    :type ignore_case: bool\n",
        "    :param delimiter: Delimiter of input sentences.\n",
        "    :type delimiter: char\n",
        "    :return: Word error rate.\n",
        "    :rtype: float\n",
        "    :raises ValueError: If word number of reference is zero.\n",
        "    \"\"\"\n",
        "    edit_distance, ref_len = word_errors(reference, hypothesis, ignore_case,\n",
        "                                         delimiter)\n",
        "\n",
        "    if ref_len == 0:\n",
        "        raise ValueError(\"Reference's word number should be greater than 0.\")\n",
        "\n",
        "    wer = float(edit_distance) / ref_len\n",
        "    return wer\n",
        "\n",
        "\n",
        "def cer(reference, hypothesis, ignore_case=False, remove_space=False):\n",
        "    \"\"\"Calculate charactor error rate (CER). CER compares reference text and\n",
        "    hypothesis text in char-level. CER is defined as:\n",
        "    .. math::\n",
        "        CER = (Sc + Dc + Ic) / Nc\n",
        "    where\n",
        "    .. code-block:: text\n",
        "        Sc is the number of characters substituted,\n",
        "        Dc is the number of characters deleted,\n",
        "        Ic is the number of characters inserted\n",
        "        Nc is the number of characters in the reference\n",
        "    We can use levenshtein distance to calculate CER. Chinese input should be\n",
        "    encoded to unicode. Please draw an attention that the leading and tailing\n",
        "    space characters will be truncated and multiple consecutive space\n",
        "    characters in a sentence will be replaced by one space character.\n",
        "    :param reference: The reference sentence.\n",
        "    :type reference: basestring\n",
        "    :param hypothesis: The hypothesis sentence.\n",
        "    :type hypothesis: basestring\n",
        "    :param ignore_case: Whether case-sensitive or not.\n",
        "    :type ignore_case: bool\n",
        "    :param remove_space: Whether remove internal space characters\n",
        "    :type remove_space: bool\n",
        "    :return: Character error rate.\n",
        "    :rtype: float\n",
        "    :raises ValueError: If the reference length is zero.\n",
        "    \"\"\"\n",
        "    edit_distance, ref_len = char_errors(reference, hypothesis, ignore_case,\n",
        "                                         remove_space)\n",
        "\n",
        "    if ref_len == 0:\n",
        "        raise ValueError(\"Length of reference should be greater than 0.\")\n",
        "\n",
        "    cer = float(edit_distance) / ref_len\n",
        "    return cer\n",
        "\n",
        "class TextTransform:\n",
        "    \"\"\"Maps characters to integers and vice versa\"\"\"\n",
        "    def __init__(self):\n",
        "        char_map_str = \"\"\"\n",
        "        ' 0\n",
        "        <SPACE> 1\n",
        "        a 2\n",
        "        b 3\n",
        "        c 4\n",
        "        d 5\n",
        "        e 6\n",
        "        f 7\n",
        "        g 8\n",
        "        h 9\n",
        "        i 10\n",
        "        j 11\n",
        "        k 12\n",
        "        l 13\n",
        "        m 14\n",
        "        n 15\n",
        "        o 16\n",
        "        p 17\n",
        "        q 18\n",
        "        r 19\n",
        "        s 20\n",
        "        t 21\n",
        "        u 22\n",
        "        v 23\n",
        "        w 24\n",
        "        x 25\n",
        "        y 26\n",
        "        z 27\n",
        "        \"\"\"\n",
        "        self.char_map = {}\n",
        "        self.index_map = {}\n",
        "        for line in char_map_str.strip().split('\\n'):\n",
        "            ch, index = line.split()\n",
        "            self.char_map[ch] = int(index)\n",
        "            self.index_map[int(index)] = ch\n",
        "        self.index_map[1] = ' '\n",
        "\n",
        "    def text_to_int(self, text):\n",
        "        \"\"\" Use a character map and convert text to an integer sequence \"\"\"\n",
        "        int_sequence = []\n",
        "        for c in text:\n",
        "            if c == ' ':\n",
        "                ch = self.char_map['<SPACE>']\n",
        "            else:\n",
        "                ch = self.char_map[c]\n",
        "            int_sequence.append(ch)\n",
        "        return int_sequence\n",
        "\n",
        "    def int_to_text(self, labels):\n",
        "        \"\"\" Use a character map and convert integer labels to an text sequence \"\"\"\n",
        "        string = []\n",
        "        for i in labels:\n",
        "            string.append(self.index_map[i])\n",
        "        return ''.join(string).replace('<SPACE>', ' ')\n",
        "\n",
        "train_audio_transforms = nn.Sequential(\n",
        "    torchaudio.transforms.MelSpectrogram(sample_rate=16000, n_mels=128),\n",
        "    torchaudio.transforms.FrequencyMasking(freq_mask_param=30),\n",
        "    torchaudio.transforms.TimeMasking(time_mask_param=100)\n",
        ")\n",
        "\n",
        "valid_audio_transforms = torchaudio.transforms.MelSpectrogram()\n",
        "\n",
        "text_transform = TextTransform()\n",
        "\n",
        "def data_processing(data, data_type=\"train\"):\n",
        "    spectrograms = []\n",
        "    labels = []\n",
        "    input_lengths = []\n",
        "    label_lengths = []\n",
        "    for (waveform, _, utterance, _, _, _) in data:\n",
        "        if data_type == 'train':\n",
        "            spec = train_audio_transforms(waveform).squeeze(0).transpose(0, 1)\n",
        "        elif data_type == 'valid':\n",
        "            spec = valid_audio_transforms(waveform).squeeze(0).transpose(0, 1)\n",
        "        else:\n",
        "            raise Exception('data_type should be train or valid')\n",
        "        spectrograms.append(spec)\n",
        "        label = torch.Tensor(text_transform.text_to_int(utterance.lower()))\n",
        "        labels.append(label)\n",
        "        input_lengths.append(spec.shape[0]//2)\n",
        "        label_lengths.append(len(label))\n",
        "\n",
        "    spectrograms = nn.utils.rnn.pad_sequence(spectrograms, batch_first=True).unsqueeze(1).transpose(2, 3)\n",
        "    labels = nn.utils.rnn.pad_sequence(labels, batch_first=True)\n",
        "\n",
        "    return spectrograms, labels, input_lengths, label_lengths\n",
        "\n",
        "\n",
        "def GreedyDecoder(output, labels, label_lengths, blank_label=28, collapse_repeated=True):\n",
        "\targ_maxes = torch.argmax(output, dim=2)\n",
        "\tdecodes = []\n",
        "\ttargets = []\n",
        "\tfor i, args in enumerate(arg_maxes):\n",
        "\t\tdecode = []\n",
        "\t\ttargets.append(text_transform.int_to_text(labels[i][:label_lengths[i]].tolist()))\n",
        "\t\tfor j, index in enumerate(args):\n",
        "\t\t\tif index != blank_label:\n",
        "\t\t\t\tif collapse_repeated and j != 0 and index == args[j -1]:\n",
        "\t\t\t\t\tcontinue\n",
        "\t\t\t\tdecode.append(index.item())\n",
        "\t\tdecodes.append(text_transform.int_to_text(decode))\n",
        "\treturn decodes, targets\n"
      ],
      "execution_count": 21,
      "outputs": [
        {
          "output_type": "stream",
          "text": [
            "/usr/local/lib/python3.6/dist-packages/torchaudio/functional.py:318: UserWarning: At least one mel filterbank has all zero values. The value for `n_mels` (128) may be set too high. Or, the value for `n_freqs` (201) may be set too low.\n",
            "  \"At least one mel filterbank has all zero values. \"\n"
          ],
          "name": "stderr"
        }
      ]
    },
    {
      "cell_type": "markdown",
      "metadata": {
        "id": "4XdSlhAQnDEA"
      },
      "source": [
        "## The Model\n",
        "Base of of Deep Speech 2 with some personal improvements"
      ]
    },
    {
      "cell_type": "code",
      "metadata": {
        "id": "65H1-PCjm-FB"
      },
      "source": [
        "class CNNLayerNorm(nn.Module):\n",
        "    \"\"\"Layer normalization built for cnns input\"\"\"\n",
        "    def __init__(self, n_feats):\n",
        "        super(CNNLayerNorm, self).__init__()\n",
        "        self.layer_norm = nn.LayerNorm(n_feats)\n",
        "\n",
        "    def forward(self, x):\n",
        "        # x (batch, channel, feature, time)\n",
        "        x = x.transpose(2, 3).contiguous() # (batch, channel, time, feature)\n",
        "        x = self.layer_norm(x)\n",
        "        return x.transpose(2, 3).contiguous() # (batch, channel, feature, time) \n",
        "\n",
        "\n",
        "class ResidualCNN(nn.Module):\n",
        "    \"\"\"Residual CNN inspired by https://arxiv.org/pdf/1603.05027.pdf\n",
        "        except with layer norm instead of batch norm\n",
        "    \"\"\"\n",
        "    def __init__(self, in_channels, out_channels, kernel, stride, dropout, n_feats):\n",
        "        super(ResidualCNN, self).__init__()\n",
        "\n",
        "        self.cnn1 = nn.Conv2d(in_channels, out_channels, kernel, stride, padding=kernel//2)\n",
        "        self.cnn2 = nn.Conv2d(out_channels, out_channels, kernel, stride, padding=kernel//2)\n",
        "        self.dropout1 = nn.Dropout(dropout)\n",
        "        self.dropout2 = nn.Dropout(dropout)\n",
        "        self.layer_norm1 = CNNLayerNorm(n_feats)\n",
        "        self.layer_norm2 = CNNLayerNorm(n_feats)\n",
        "\n",
        "    def forward(self, x):\n",
        "        residual = x  # (batch, channel, feature, time)\n",
        "        x = self.layer_norm1(x)\n",
        "        x = F.gelu(x)\n",
        "        x = self.dropout1(x)\n",
        "        x = self.cnn1(x)\n",
        "        x = self.layer_norm2(x)\n",
        "        x = F.gelu(x)\n",
        "        x = self.dropout2(x)\n",
        "        x = self.cnn2(x)\n",
        "        x += residual\n",
        "        return x # (batch, channel, feature, time)\n",
        "\n",
        "\n",
        "class BidirectionalGRU(nn.Module):\n",
        "\n",
        "    def __init__(self, rnn_dim, hidden_size, dropout, batch_first):\n",
        "        super(BidirectionalGRU, self).__init__()\n",
        "\n",
        "        self.BiGRU = nn.GRU(\n",
        "            input_size=rnn_dim, hidden_size=hidden_size,\n",
        "            num_layers=1, batch_first=batch_first, bidirectional=True)\n",
        "        self.layer_norm = nn.LayerNorm(rnn_dim)\n",
        "        self.dropout = nn.Dropout(dropout)\n",
        "\n",
        "    def forward(self, x):\n",
        "        x = self.layer_norm(x)\n",
        "        x = F.gelu(x)\n",
        "        x, _ = self.BiGRU(x)\n",
        "        x = self.dropout(x)\n",
        "        return x\n",
        "\n",
        "\n",
        "class SpeechRecognitionModel(nn.Module):\n",
        "    \n",
        "    def __init__(self, n_cnn_layers, n_rnn_layers, rnn_dim, n_class, n_feats, stride=2, dropout=0.1):\n",
        "        super(SpeechRecognitionModel, self).__init__()\n",
        "        n_feats = n_feats//2\n",
        "        self.cnn = nn.Conv2d(1, 32, 3, stride=stride, padding=3//2)  # cnn for extracting heirachal features\n",
        "\n",
        "        # n residual cnn layers with filter size of 32\n",
        "        self.rescnn_layers = nn.Sequential(*[\n",
        "            ResidualCNN(32, 32, kernel=3, stride=1, dropout=dropout, n_feats=n_feats) \n",
        "            for _ in range(n_cnn_layers)\n",
        "        ])\n",
        "        self.fully_connected = nn.Linear(n_feats*32, rnn_dim)\n",
        "        self.birnn_layers = nn.Sequential(*[\n",
        "            BidirectionalGRU(rnn_dim=rnn_dim if i==0 else rnn_dim*2,\n",
        "                             hidden_size=rnn_dim, dropout=dropout, batch_first=i==0)\n",
        "            for i in range(n_rnn_layers)\n",
        "        ])\n",
        "        self.classifier = nn.Sequential(\n",
        "            nn.Linear(rnn_dim*2, rnn_dim),  # birnn returns rnn_dim*2\n",
        "            nn.GELU(),\n",
        "            nn.Dropout(dropout),\n",
        "            nn.Linear(rnn_dim, n_class)\n",
        "        )\n",
        "\n",
        "    def forward(self, x):\n",
        "        x = self.cnn(x)\n",
        "        x = self.rescnn_layers(x)\n",
        "        sizes = x.size()\n",
        "        x = x.view(sizes[0], sizes[1] * sizes[2], sizes[3])  # (batch, feature, time)\n",
        "        x = x.transpose(1, 2) # (batch, time, feature)\n",
        "        x = self.fully_connected(x)\n",
        "        x = self.birnn_layers(x)\n",
        "        x = self.classifier(x)\n",
        "        return x\n"
      ],
      "execution_count": 22,
      "outputs": []
    },
    {
      "cell_type": "markdown",
      "metadata": {
        "id": "CuguNEzKnMOn"
      },
      "source": [
        "## The Training and Evaluating Script"
      ]
    },
    {
      "cell_type": "code",
      "metadata": {
        "id": "ydkqGeOwnPGY"
      },
      "source": [
        "class IterMeter(object):\n",
        "    \"\"\"keeps track of total iterations\"\"\"\n",
        "    def __init__(self):\n",
        "        self.val = 0\n",
        "\n",
        "    def step(self):\n",
        "        self.val += 1\n",
        "\n",
        "    def get(self):\n",
        "        return self.val\n",
        "\n",
        "\n",
        "def train(model, device, train_loader, criterion, optimizer, scheduler, epoch, iter_meter):\n",
        "    model.train()\n",
        "    data_len = len(train_loader.dataset)\n",
        "    for batch_idx, _data in enumerate(train_loader):\n",
        "        spectrograms, labels, input_lengths, label_lengths = _data \n",
        "        spectrograms, labels = spectrograms.to(device), labels.to(device)\n",
        "\n",
        "        optimizer.zero_grad()\n",
        "\n",
        "        output = model(spectrograms)  # (batch, time, n_class)\n",
        "        output = F.log_softmax(output, dim=2)\n",
        "        output = output.transpose(0, 1) # (time, batch, n_class)\n",
        "\n",
        "        loss = criterion(output, labels, input_lengths, label_lengths)\n",
        "        loss.backward()\n",
        "\n",
        "        optimizer.step()\n",
        "        scheduler.step()\n",
        "        iter_meter.step()\n",
        "        if batch_idx % 100 == 0 or batch_idx == data_len:\n",
        "            print('Train Epoch: {} [{}/{} ({:.0f}%)]\\tLoss: {:.6f}'.format(\n",
        "                epoch, batch_idx * len(spectrograms), data_len,\n",
        "                100. * batch_idx / len(train_loader), loss.item()))\n",
        "\n",
        "\n",
        "def test(model, device, test_loader, criterion, epoch, iter_meter):\n",
        "    print('\\nevaluating...')\n",
        "    model.eval()\n",
        "    test_loss = 0\n",
        "    test_cer, test_wer = [], []\n",
        "    with torch.no_grad():\n",
        "        for i, _data in enumerate(test_loader):\n",
        "            spectrograms, labels, input_lengths, label_lengths = _data \n",
        "            spectrograms, labels = spectrograms.to(device), labels.to(device)\n",
        "\n",
        "            output = model(spectrograms)  # (batch, time, n_class)\n",
        "            output = F.log_softmax(output, dim=2)\n",
        "            output = output.transpose(0, 1) # (time, batch, n_class)\n",
        "\n",
        "            loss = criterion(output, labels, input_lengths, label_lengths)\n",
        "            test_loss += loss.item() / len(test_loader)\n",
        "\n",
        "            decoded_preds, decoded_targets = GreedyDecoder(output.transpose(0, 1), labels, label_lengths)\n",
        "            for j in range(len(decoded_preds)):\n",
        "                test_cer.append(cer(decoded_targets[j], decoded_preds[j]))\n",
        "                test_wer.append(wer(decoded_targets[j], decoded_preds[j]))\n",
        "\n",
        "\n",
        "    avg_cer = sum(test_cer)/len(test_cer)\n",
        "    avg_wer = sum(test_wer)/len(test_wer)\n",
        "\n",
        "    print('Test set: Average loss: {:.4f}, Average CER: {:4f} Average WER: {:.4f}\\n'.format(test_loss, avg_cer, avg_wer))\n",
        "\n",
        "\n",
        "def main(learning_rate=5e-4, batch_size=20, epochs=10,\n",
        "        train_url=\"train-clean-100\", test_url=\"test-clean\"):\n",
        "\n",
        "    hparams = {\n",
        "        \"n_cnn_layers\": 3,\n",
        "        \"n_rnn_layers\": 5,\n",
        "        \"rnn_dim\": 512,\n",
        "        \"n_class\": 29,\n",
        "        \"n_feats\": 128,\n",
        "        \"stride\":2,\n",
        "        \"dropout\": 0.1,\n",
        "        \"learning_rate\": learning_rate,\n",
        "        \"batch_size\": batch_size,\n",
        "        \"epochs\": epochs\n",
        "    }\n",
        "\n",
        "    use_cuda = torch.cuda.is_available()\n",
        "    torch.manual_seed(7)\n",
        "    device = torch.device(\"cuda\" if use_cuda else \"cpu\")\n",
        "\n",
        "    if not os.path.isdir(\"./data\"):\n",
        "        os.makedirs(\"./data\")\n",
        "\n",
        "    train_dataset = torchaudio.datasets.LIBRISPEECH(\"./data\", url=train_url, download=True)\n",
        "    test_dataset = torchaudio.datasets.LIBRISPEECH(\"./data\", url=test_url, download=True)\n",
        "\n",
        "    kwargs = {'num_workers': 1, 'pin_memory': True} if use_cuda else {}\n",
        "    train_loader = data.DataLoader(dataset=train_dataset,\n",
        "                                batch_size=hparams['batch_size'],\n",
        "                                shuffle=True,\n",
        "                                collate_fn=lambda x: data_processing(x, 'train'),\n",
        "                                **kwargs)\n",
        "    test_loader = data.DataLoader(dataset=test_dataset,\n",
        "                                batch_size=hparams['batch_size'],\n",
        "                                shuffle=False,\n",
        "                                collate_fn=lambda x: data_processing(x, 'valid'),\n",
        "                                **kwargs)\n",
        "\n",
        "    model = SpeechRecognitionModel(\n",
        "        hparams['n_cnn_layers'], hparams['n_rnn_layers'], hparams['rnn_dim'],\n",
        "        hparams['n_class'], hparams['n_feats'], hparams['stride'], hparams['dropout']\n",
        "        ).to(device)\n",
        "\n",
        "    print(model)\n",
        "    print('Num Model Parameters', sum([param.nelement() for param in model.parameters()]))\n",
        "\n",
        "    optimizer = optim.AdamW(model.parameters(), hparams['learning_rate'])\n",
        "    criterion = nn.CTCLoss(blank=28).to(device)\n",
        "    scheduler = optim.lr_scheduler.OneCycleLR(optimizer, max_lr=hparams['learning_rate'], \n",
        "                                            steps_per_epoch=int(len(train_loader)),\n",
        "                                            epochs=hparams['epochs'],\n",
        "                                            anneal_strategy='linear')\n",
        "    \n",
        "    iter_meter = IterMeter()\n",
        "    for epoch in range(1, epochs + 1):\n",
        "        train(model, device, train_loader, criterion, optimizer, scheduler, epoch, iter_meter)\n",
        "        test(model, device, test_loader, criterion, epoch, iter_meter)\n",
        "    # Save the model\n",
        "    os.chdir(\"./data\")\n",
        "    torch.save(model.to(device), 'audio_to_text_model.pt')"
      ],
      "execution_count": 23,
      "outputs": []
    },
    {
      "cell_type": "markdown",
      "metadata": {
        "id": "HxRIb_WempDq"
      },
      "source": [
        "## GPU runtime\n",
        "If you are using a GPU runtime, this will let you know what GPU and how much memory is available. Adjust your batch_size depending on which GPU"
      ]
    },
    {
      "cell_type": "code",
      "metadata": {
        "id": "nlUSuAJwlzo8",
        "colab": {
          "base_uri": "https://localhost:8080/"
        },
        "outputId": "8e104a20-44fd-4917-b11f-a0755d02149b"
      },
      "source": [
        "!nvidia-smi"
      ],
      "execution_count": 24,
      "outputs": [
        {
          "output_type": "stream",
          "text": [
            "Sat Nov 28 11:02:54 2020       \n",
            "+-----------------------------------------------------------------------------+\n",
            "| NVIDIA-SMI 455.38       Driver Version: 418.67       CUDA Version: 10.1     |\n",
            "|-------------------------------+----------------------+----------------------+\n",
            "| GPU  Name        Persistence-M| Bus-Id        Disp.A | Volatile Uncorr. ECC |\n",
            "| Fan  Temp  Perf  Pwr:Usage/Cap|         Memory-Usage | GPU-Util  Compute M. |\n",
            "|                               |                      |               MIG M. |\n",
            "|===============================+======================+======================|\n",
            "|   0  Tesla V100-SXM2...  Off  | 00000000:00:04.0 Off |                    0 |\n",
            "| N/A   36C    P0    39W / 300W |   8191MiB / 16130MiB |      0%      Default |\n",
            "|                               |                      |                 ERR! |\n",
            "+-------------------------------+----------------------+----------------------+\n",
            "                                                                               \n",
            "+-----------------------------------------------------------------------------+\n",
            "| Processes:                                                                  |\n",
            "|  GPU   GI   CI        PID   Type   Process name                  GPU Memory |\n",
            "|        ID   ID                                                   Usage      |\n",
            "|=============================================================================|\n",
            "|  No running processes found                                                 |\n",
            "+-----------------------------------------------------------------------------+\n"
          ],
          "name": "stdout"
        }
      ]
    },
    {
      "cell_type": "markdown",
      "metadata": {
        "id": "hXvlWZeVpXfX"
      },
      "source": [
        "## Train\n",
        "this will download the data on first run and may take a while. "
      ]
    },
    {
      "cell_type": "code",
      "metadata": {
        "id": "XZodve8PGKfS",
        "colab": {
          "base_uri": "https://localhost:8080/",
          "height": 1000,
          "referenced_widgets": [
            "c20cf73309934b508c3c8530bfe41e16",
            "e0773b96c4c14731aafdcbe233ee2a60",
            "5ff6917b0e2d4771b18457e6a5f925f4",
            "554f66a4c73b43f4bbefa6f8339de44d",
            "d257c6d0314749ee89c07ea288401059",
            "86cd16ec5e114f39a0284e850d375ff6",
            "03dc702d444443809f664c281940371b",
            "be0ac8bdbe964c71b61b794b7c7fae2a",
            "439321be21e54e08988b06c087b81b36",
            "6945fd90f6754b2585957a772d465345",
            "9aa0b36e7deb4cd9807fbbd72e099896",
            "6f146d9008904cab8754cf9830b8f44d",
            "72ece57c96f54cfd8d6924a350567bf6",
            "b8f12a83466f48cb8776572425c0ee07",
            "d1f9289125ee422497b23fc3e13a63af",
            "c0fce2149564474ba6fd0d0a6b9ddd58"
          ]
        },
        "outputId": "7163c47b-32a3-4738-9123-cbd3fc064019"
      },
      "source": [
        "learning_rate = 5e-4\n",
        "batch_size = 10\n",
        "epochs = 10\n",
        "libri_train_set = \"train-clean-100\"\n",
        "libri_test_set = \"test-clean\"\n",
        "\n",
        "main(learning_rate, batch_size, epochs, libri_train_set, libri_test_set)"
      ],
      "execution_count": 25,
      "outputs": [
        {
          "output_type": "display_data",
          "data": {
            "application/vnd.jupyter.widget-view+json": {
              "model_id": "c20cf73309934b508c3c8530bfe41e16",
              "version_minor": 0,
              "version_major": 2
            },
            "text/plain": [
              "HBox(children=(FloatProgress(value=0.0, max=6387309499.0), HTML(value='')))"
            ]
          },
          "metadata": {
            "tags": []
          }
        },
        {
          "output_type": "stream",
          "text": [
            "\n"
          ],
          "name": "stdout"
        },
        {
          "output_type": "display_data",
          "data": {
            "application/vnd.jupyter.widget-view+json": {
              "model_id": "439321be21e54e08988b06c087b81b36",
              "version_minor": 0,
              "version_major": 2
            },
            "text/plain": [
              "HBox(children=(FloatProgress(value=0.0, max=346663984.0), HTML(value='')))"
            ]
          },
          "metadata": {
            "tags": []
          }
        },
        {
          "output_type": "stream",
          "text": [
            "\n",
            "SpeechRecognitionModel(\n",
            "  (cnn): Conv2d(1, 32, kernel_size=(3, 3), stride=(2, 2), padding=(1, 1))\n",
            "  (rescnn_layers): Sequential(\n",
            "    (0): ResidualCNN(\n",
            "      (cnn1): Conv2d(32, 32, kernel_size=(3, 3), stride=(1, 1), padding=(1, 1))\n",
            "      (cnn2): Conv2d(32, 32, kernel_size=(3, 3), stride=(1, 1), padding=(1, 1))\n",
            "      (dropout1): Dropout(p=0.1, inplace=False)\n",
            "      (dropout2): Dropout(p=0.1, inplace=False)\n",
            "      (layer_norm1): CNNLayerNorm(\n",
            "        (layer_norm): LayerNorm((64,), eps=1e-05, elementwise_affine=True)\n",
            "      )\n",
            "      (layer_norm2): CNNLayerNorm(\n",
            "        (layer_norm): LayerNorm((64,), eps=1e-05, elementwise_affine=True)\n",
            "      )\n",
            "    )\n",
            "    (1): ResidualCNN(\n",
            "      (cnn1): Conv2d(32, 32, kernel_size=(3, 3), stride=(1, 1), padding=(1, 1))\n",
            "      (cnn2): Conv2d(32, 32, kernel_size=(3, 3), stride=(1, 1), padding=(1, 1))\n",
            "      (dropout1): Dropout(p=0.1, inplace=False)\n",
            "      (dropout2): Dropout(p=0.1, inplace=False)\n",
            "      (layer_norm1): CNNLayerNorm(\n",
            "        (layer_norm): LayerNorm((64,), eps=1e-05, elementwise_affine=True)\n",
            "      )\n",
            "      (layer_norm2): CNNLayerNorm(\n",
            "        (layer_norm): LayerNorm((64,), eps=1e-05, elementwise_affine=True)\n",
            "      )\n",
            "    )\n",
            "    (2): ResidualCNN(\n",
            "      (cnn1): Conv2d(32, 32, kernel_size=(3, 3), stride=(1, 1), padding=(1, 1))\n",
            "      (cnn2): Conv2d(32, 32, kernel_size=(3, 3), stride=(1, 1), padding=(1, 1))\n",
            "      (dropout1): Dropout(p=0.1, inplace=False)\n",
            "      (dropout2): Dropout(p=0.1, inplace=False)\n",
            "      (layer_norm1): CNNLayerNorm(\n",
            "        (layer_norm): LayerNorm((64,), eps=1e-05, elementwise_affine=True)\n",
            "      )\n",
            "      (layer_norm2): CNNLayerNorm(\n",
            "        (layer_norm): LayerNorm((64,), eps=1e-05, elementwise_affine=True)\n",
            "      )\n",
            "    )\n",
            "  )\n",
            "  (fully_connected): Linear(in_features=2048, out_features=512, bias=True)\n",
            "  (birnn_layers): Sequential(\n",
            "    (0): BidirectionalGRU(\n",
            "      (BiGRU): GRU(512, 512, batch_first=True, bidirectional=True)\n",
            "      (layer_norm): LayerNorm((512,), eps=1e-05, elementwise_affine=True)\n",
            "      (dropout): Dropout(p=0.1, inplace=False)\n",
            "    )\n",
            "    (1): BidirectionalGRU(\n",
            "      (BiGRU): GRU(1024, 512, bidirectional=True)\n",
            "      (layer_norm): LayerNorm((1024,), eps=1e-05, elementwise_affine=True)\n",
            "      (dropout): Dropout(p=0.1, inplace=False)\n",
            "    )\n",
            "    (2): BidirectionalGRU(\n",
            "      (BiGRU): GRU(1024, 512, bidirectional=True)\n",
            "      (layer_norm): LayerNorm((1024,), eps=1e-05, elementwise_affine=True)\n",
            "      (dropout): Dropout(p=0.1, inplace=False)\n",
            "    )\n",
            "    (3): BidirectionalGRU(\n",
            "      (BiGRU): GRU(1024, 512, bidirectional=True)\n",
            "      (layer_norm): LayerNorm((1024,), eps=1e-05, elementwise_affine=True)\n",
            "      (dropout): Dropout(p=0.1, inplace=False)\n",
            "    )\n",
            "    (4): BidirectionalGRU(\n",
            "      (BiGRU): GRU(1024, 512, bidirectional=True)\n",
            "      (layer_norm): LayerNorm((1024,), eps=1e-05, elementwise_affine=True)\n",
            "      (dropout): Dropout(p=0.1, inplace=False)\n",
            "    )\n",
            "  )\n",
            "  (classifier): Sequential(\n",
            "    (0): Linear(in_features=1024, out_features=512, bias=True)\n",
            "    (1): GELU()\n",
            "    (2): Dropout(p=0.1, inplace=False)\n",
            "    (3): Linear(in_features=512, out_features=29, bias=True)\n",
            "  )\n",
            ")\n",
            "Num Model Parameters 23705373\n"
          ],
          "name": "stdout"
        },
        {
          "output_type": "stream",
          "text": [
            "/usr/local/lib/python3.6/dist-packages/torch/functional.py:516: UserWarning: stft will require the return_complex parameter be explicitly  specified in a future PyTorch release. Use return_complex=False  to preserve the current behavior or return_complex=True to return  a complex output. (Triggered internally at  /pytorch/aten/src/ATen/native/SpectralOps.cpp:653.)\n",
            "  normalized, onesided, return_complex)\n",
            "/usr/local/lib/python3.6/dist-packages/torch/functional.py:516: UserWarning: The function torch.rfft is deprecated and will be removed in a future PyTorch release. Use the new torch.fft module functions, instead, by importing torch.fft and calling torch.fft.fft or torch.fft.rfft. (Triggered internally at  /pytorch/aten/src/ATen/native/SpectralOps.cpp:590.)\n",
            "  normalized, onesided, return_complex)\n"
          ],
          "name": "stderr"
        },
        {
          "output_type": "stream",
          "text": [
            "Train Epoch: 1 [0/28539 (0%)]\tLoss: 7.133505\n",
            "Train Epoch: 1 [1000/28539 (4%)]\tLoss: 2.908241\n",
            "Train Epoch: 1 [2000/28539 (7%)]\tLoss: 2.871240\n",
            "Train Epoch: 1 [3000/28539 (11%)]\tLoss: 2.866894\n",
            "Train Epoch: 1 [4000/28539 (14%)]\tLoss: 2.879891\n",
            "Train Epoch: 1 [5000/28539 (18%)]\tLoss: 2.869451\n",
            "Train Epoch: 1 [6000/28539 (21%)]\tLoss: 2.845653\n",
            "Train Epoch: 1 [7000/28539 (25%)]\tLoss: 2.855891\n",
            "Train Epoch: 1 [8000/28539 (28%)]\tLoss: 2.871897\n",
            "Train Epoch: 1 [9000/28539 (32%)]\tLoss: 2.842646\n",
            "Train Epoch: 1 [10000/28539 (35%)]\tLoss: 2.866571\n",
            "Train Epoch: 1 [11000/28539 (39%)]\tLoss: 2.853431\n",
            "Train Epoch: 1 [12000/28539 (42%)]\tLoss: 2.830581\n",
            "Train Epoch: 1 [13000/28539 (46%)]\tLoss: 2.832326\n",
            "Train Epoch: 1 [14000/28539 (49%)]\tLoss: 2.777490\n",
            "Train Epoch: 1 [15000/28539 (53%)]\tLoss: 2.737899\n",
            "Train Epoch: 1 [16000/28539 (56%)]\tLoss: 2.528989\n",
            "Train Epoch: 1 [17000/28539 (60%)]\tLoss: 2.484876\n",
            "Train Epoch: 1 [18000/28539 (63%)]\tLoss: 2.285867\n",
            "Train Epoch: 1 [19000/28539 (67%)]\tLoss: 2.137939\n",
            "Train Epoch: 1 [20000/28539 (70%)]\tLoss: 1.971656\n",
            "Train Epoch: 1 [21000/28539 (74%)]\tLoss: 2.001319\n",
            "Train Epoch: 1 [22000/28539 (77%)]\tLoss: 1.835586\n",
            "Train Epoch: 1 [23000/28539 (81%)]\tLoss: 1.962960\n",
            "Train Epoch: 1 [24000/28539 (84%)]\tLoss: 1.824519\n",
            "Train Epoch: 1 [25000/28539 (88%)]\tLoss: 1.775493\n",
            "Train Epoch: 1 [26000/28539 (91%)]\tLoss: 1.702407\n",
            "Train Epoch: 1 [27000/28539 (95%)]\tLoss: 1.619896\n",
            "Train Epoch: 1 [28000/28539 (98%)]\tLoss: 1.800173\n",
            "\n",
            "evaluating...\n"
          ],
          "name": "stdout"
        },
        {
          "output_type": "stream",
          "text": [
            "/usr/local/lib/python3.6/dist-packages/torch/functional.py:516: UserWarning: stft will require the return_complex parameter be explicitly  specified in a future PyTorch release. Use return_complex=False  to preserve the current behavior or return_complex=True to return  a complex output. (Triggered internally at  /pytorch/aten/src/ATen/native/SpectralOps.cpp:653.)\n",
            "  normalized, onesided, return_complex)\n",
            "/usr/local/lib/python3.6/dist-packages/torch/functional.py:516: UserWarning: The function torch.rfft is deprecated and will be removed in a future PyTorch release. Use the new torch.fft module functions, instead, by importing torch.fft and calling torch.fft.fft or torch.fft.rfft. (Triggered internally at  /pytorch/aten/src/ATen/native/SpectralOps.cpp:590.)\n",
            "  normalized, onesided, return_complex)\n"
          ],
          "name": "stderr"
        },
        {
          "output_type": "stream",
          "text": [
            "Test set: Average loss: 1.4750, Average CER: 0.436138 Average WER: 0.9992\n",
            "\n"
          ],
          "name": "stdout"
        },
        {
          "output_type": "stream",
          "text": [
            "/usr/local/lib/python3.6/dist-packages/torch/functional.py:516: UserWarning: stft will require the return_complex parameter be explicitly  specified in a future PyTorch release. Use return_complex=False  to preserve the current behavior or return_complex=True to return  a complex output. (Triggered internally at  /pytorch/aten/src/ATen/native/SpectralOps.cpp:653.)\n",
            "  normalized, onesided, return_complex)\n",
            "/usr/local/lib/python3.6/dist-packages/torch/functional.py:516: UserWarning: The function torch.rfft is deprecated and will be removed in a future PyTorch release. Use the new torch.fft module functions, instead, by importing torch.fft and calling torch.fft.fft or torch.fft.rfft. (Triggered internally at  /pytorch/aten/src/ATen/native/SpectralOps.cpp:590.)\n",
            "  normalized, onesided, return_complex)\n"
          ],
          "name": "stderr"
        },
        {
          "output_type": "stream",
          "text": [
            "Train Epoch: 2 [0/28539 (0%)]\tLoss: 1.807971\n",
            "Train Epoch: 2 [1000/28539 (4%)]\tLoss: 1.749308\n",
            "Train Epoch: 2 [2000/28539 (7%)]\tLoss: 1.513737\n",
            "Train Epoch: 2 [3000/28539 (11%)]\tLoss: 1.593987\n",
            "Train Epoch: 2 [4000/28539 (14%)]\tLoss: 1.555774\n",
            "Train Epoch: 2 [5000/28539 (18%)]\tLoss: 1.562049\n",
            "Train Epoch: 2 [6000/28539 (21%)]\tLoss: 1.285749\n",
            "Train Epoch: 2 [7000/28539 (25%)]\tLoss: 1.448669\n",
            "Train Epoch: 2 [8000/28539 (28%)]\tLoss: 1.505572\n",
            "Train Epoch: 2 [9000/28539 (32%)]\tLoss: 1.438115\n",
            "Train Epoch: 2 [10000/28539 (35%)]\tLoss: 1.341979\n",
            "Train Epoch: 2 [11000/28539 (39%)]\tLoss: 1.435015\n",
            "Train Epoch: 2 [12000/28539 (42%)]\tLoss: 1.325473\n",
            "Train Epoch: 2 [13000/28539 (46%)]\tLoss: 1.301841\n",
            "Train Epoch: 2 [14000/28539 (49%)]\tLoss: 1.298938\n",
            "Train Epoch: 2 [15000/28539 (53%)]\tLoss: 1.391971\n",
            "Train Epoch: 2 [16000/28539 (56%)]\tLoss: 1.239922\n",
            "Train Epoch: 2 [17000/28539 (60%)]\tLoss: 1.592767\n",
            "Train Epoch: 2 [18000/28539 (63%)]\tLoss: 1.285423\n",
            "Train Epoch: 2 [19000/28539 (67%)]\tLoss: 1.476395\n",
            "Train Epoch: 2 [20000/28539 (70%)]\tLoss: 1.347712\n",
            "Train Epoch: 2 [21000/28539 (74%)]\tLoss: 1.309937\n",
            "Train Epoch: 2 [22000/28539 (77%)]\tLoss: 1.126227\n",
            "Train Epoch: 2 [23000/28539 (81%)]\tLoss: 1.233207\n",
            "Train Epoch: 2 [24000/28539 (84%)]\tLoss: 1.233052\n",
            "Train Epoch: 2 [25000/28539 (88%)]\tLoss: 1.271376\n",
            "Train Epoch: 2 [26000/28539 (91%)]\tLoss: 1.185397\n",
            "Train Epoch: 2 [27000/28539 (95%)]\tLoss: 1.290520\n",
            "Train Epoch: 2 [28000/28539 (98%)]\tLoss: 1.264393\n",
            "\n",
            "evaluating...\n"
          ],
          "name": "stdout"
        },
        {
          "output_type": "stream",
          "text": [
            "/usr/local/lib/python3.6/dist-packages/torch/functional.py:516: UserWarning: stft will require the return_complex parameter be explicitly  specified in a future PyTorch release. Use return_complex=False  to preserve the current behavior or return_complex=True to return  a complex output. (Triggered internally at  /pytorch/aten/src/ATen/native/SpectralOps.cpp:653.)\n",
            "  normalized, onesided, return_complex)\n",
            "/usr/local/lib/python3.6/dist-packages/torch/functional.py:516: UserWarning: The function torch.rfft is deprecated and will be removed in a future PyTorch release. Use the new torch.fft module functions, instead, by importing torch.fft and calling torch.fft.fft or torch.fft.rfft. (Triggered internally at  /pytorch/aten/src/ATen/native/SpectralOps.cpp:590.)\n",
            "  normalized, onesided, return_complex)\n"
          ],
          "name": "stderr"
        },
        {
          "output_type": "stream",
          "text": [
            "Test set: Average loss: 1.0168, Average CER: 0.312497 Average WER: 0.7799\n",
            "\n"
          ],
          "name": "stdout"
        },
        {
          "output_type": "stream",
          "text": [
            "/usr/local/lib/python3.6/dist-packages/torch/functional.py:516: UserWarning: stft will require the return_complex parameter be explicitly  specified in a future PyTorch release. Use return_complex=False  to preserve the current behavior or return_complex=True to return  a complex output. (Triggered internally at  /pytorch/aten/src/ATen/native/SpectralOps.cpp:653.)\n",
            "  normalized, onesided, return_complex)\n",
            "/usr/local/lib/python3.6/dist-packages/torch/functional.py:516: UserWarning: The function torch.rfft is deprecated and will be removed in a future PyTorch release. Use the new torch.fft module functions, instead, by importing torch.fft and calling torch.fft.fft or torch.fft.rfft. (Triggered internally at  /pytorch/aten/src/ATen/native/SpectralOps.cpp:590.)\n",
            "  normalized, onesided, return_complex)\n"
          ],
          "name": "stderr"
        },
        {
          "output_type": "stream",
          "text": [
            "Train Epoch: 3 [0/28539 (0%)]\tLoss: 1.182418\n",
            "Train Epoch: 3 [1000/28539 (4%)]\tLoss: 1.149287\n",
            "Train Epoch: 3 [2000/28539 (7%)]\tLoss: 1.184372\n",
            "Train Epoch: 3 [3000/28539 (11%)]\tLoss: 1.512329\n",
            "Train Epoch: 3 [4000/28539 (14%)]\tLoss: 1.073837\n",
            "Train Epoch: 3 [5000/28539 (18%)]\tLoss: 1.348084\n",
            "Train Epoch: 3 [6000/28539 (21%)]\tLoss: 1.286942\n",
            "Train Epoch: 3 [7000/28539 (25%)]\tLoss: 1.165905\n",
            "Train Epoch: 3 [8000/28539 (28%)]\tLoss: 1.238381\n",
            "Train Epoch: 3 [9000/28539 (32%)]\tLoss: 1.085593\n",
            "Train Epoch: 3 [10000/28539 (35%)]\tLoss: 1.072222\n",
            "Train Epoch: 3 [11000/28539 (39%)]\tLoss: 1.033899\n",
            "Train Epoch: 3 [12000/28539 (42%)]\tLoss: 1.154559\n",
            "Train Epoch: 3 [13000/28539 (46%)]\tLoss: 1.114473\n",
            "Train Epoch: 3 [14000/28539 (49%)]\tLoss: 1.078217\n",
            "Train Epoch: 3 [15000/28539 (53%)]\tLoss: 1.242356\n",
            "Train Epoch: 3 [16000/28539 (56%)]\tLoss: 1.154459\n",
            "Train Epoch: 3 [17000/28539 (60%)]\tLoss: 1.039218\n",
            "Train Epoch: 3 [18000/28539 (63%)]\tLoss: 1.212851\n",
            "Train Epoch: 3 [19000/28539 (67%)]\tLoss: 1.160059\n",
            "Train Epoch: 3 [20000/28539 (70%)]\tLoss: 0.938955\n",
            "Train Epoch: 3 [21000/28539 (74%)]\tLoss: 1.207081\n",
            "Train Epoch: 3 [22000/28539 (77%)]\tLoss: 1.092885\n",
            "Train Epoch: 3 [23000/28539 (81%)]\tLoss: 1.070650\n",
            "Train Epoch: 3 [24000/28539 (84%)]\tLoss: 1.116727\n",
            "Train Epoch: 3 [25000/28539 (88%)]\tLoss: 1.288867\n",
            "Train Epoch: 3 [26000/28539 (91%)]\tLoss: 1.122563\n",
            "Train Epoch: 3 [27000/28539 (95%)]\tLoss: 1.134861\n",
            "Train Epoch: 3 [28000/28539 (98%)]\tLoss: 1.389286\n",
            "\n",
            "evaluating...\n"
          ],
          "name": "stdout"
        },
        {
          "output_type": "stream",
          "text": [
            "/usr/local/lib/python3.6/dist-packages/torch/functional.py:516: UserWarning: stft will require the return_complex parameter be explicitly  specified in a future PyTorch release. Use return_complex=False  to preserve the current behavior or return_complex=True to return  a complex output. (Triggered internally at  /pytorch/aten/src/ATen/native/SpectralOps.cpp:653.)\n",
            "  normalized, onesided, return_complex)\n",
            "/usr/local/lib/python3.6/dist-packages/torch/functional.py:516: UserWarning: The function torch.rfft is deprecated and will be removed in a future PyTorch release. Use the new torch.fft module functions, instead, by importing torch.fft and calling torch.fft.fft or torch.fft.rfft. (Triggered internally at  /pytorch/aten/src/ATen/native/SpectralOps.cpp:590.)\n",
            "  normalized, onesided, return_complex)\n"
          ],
          "name": "stderr"
        },
        {
          "output_type": "stream",
          "text": [
            "Test set: Average loss: 0.9083, Average CER: 0.278115 Average WER: 0.7264\n",
            "\n"
          ],
          "name": "stdout"
        },
        {
          "output_type": "stream",
          "text": [
            "/usr/local/lib/python3.6/dist-packages/torch/functional.py:516: UserWarning: stft will require the return_complex parameter be explicitly  specified in a future PyTorch release. Use return_complex=False  to preserve the current behavior or return_complex=True to return  a complex output. (Triggered internally at  /pytorch/aten/src/ATen/native/SpectralOps.cpp:653.)\n",
            "  normalized, onesided, return_complex)\n",
            "/usr/local/lib/python3.6/dist-packages/torch/functional.py:516: UserWarning: The function torch.rfft is deprecated and will be removed in a future PyTorch release. Use the new torch.fft module functions, instead, by importing torch.fft and calling torch.fft.fft or torch.fft.rfft. (Triggered internally at  /pytorch/aten/src/ATen/native/SpectralOps.cpp:590.)\n",
            "  normalized, onesided, return_complex)\n"
          ],
          "name": "stderr"
        },
        {
          "output_type": "stream",
          "text": [
            "Train Epoch: 4 [0/28539 (0%)]\tLoss: 1.110997\n",
            "Train Epoch: 4 [1000/28539 (4%)]\tLoss: 1.073622\n",
            "Train Epoch: 4 [2000/28539 (7%)]\tLoss: 0.969250\n",
            "Train Epoch: 4 [3000/28539 (11%)]\tLoss: 0.891242\n",
            "Train Epoch: 4 [4000/28539 (14%)]\tLoss: 1.183627\n",
            "Train Epoch: 4 [5000/28539 (18%)]\tLoss: 0.987509\n",
            "Train Epoch: 4 [6000/28539 (21%)]\tLoss: 0.954352\n",
            "Train Epoch: 4 [7000/28539 (25%)]\tLoss: 0.889090\n",
            "Train Epoch: 4 [8000/28539 (28%)]\tLoss: 1.032003\n",
            "Train Epoch: 4 [9000/28539 (32%)]\tLoss: 1.062557\n",
            "Train Epoch: 4 [10000/28539 (35%)]\tLoss: 1.051832\n",
            "Train Epoch: 4 [11000/28539 (39%)]\tLoss: 1.026723\n",
            "Train Epoch: 4 [12000/28539 (42%)]\tLoss: 1.079281\n",
            "Train Epoch: 4 [13000/28539 (46%)]\tLoss: 1.036834\n",
            "Train Epoch: 4 [14000/28539 (49%)]\tLoss: 0.972952\n",
            "Train Epoch: 4 [15000/28539 (53%)]\tLoss: 0.898480\n",
            "Train Epoch: 4 [16000/28539 (56%)]\tLoss: 0.965010\n",
            "Train Epoch: 4 [17000/28539 (60%)]\tLoss: 0.890403\n",
            "Train Epoch: 4 [18000/28539 (63%)]\tLoss: 0.918466\n",
            "Train Epoch: 4 [19000/28539 (67%)]\tLoss: 0.974834\n",
            "Train Epoch: 4 [20000/28539 (70%)]\tLoss: 1.022284\n",
            "Train Epoch: 4 [21000/28539 (74%)]\tLoss: 0.866414\n",
            "Train Epoch: 4 [22000/28539 (77%)]\tLoss: 1.055204\n",
            "Train Epoch: 4 [23000/28539 (81%)]\tLoss: 0.841059\n",
            "Train Epoch: 4 [24000/28539 (84%)]\tLoss: 0.930848\n",
            "Train Epoch: 4 [25000/28539 (88%)]\tLoss: 0.978501\n",
            "Train Epoch: 4 [26000/28539 (91%)]\tLoss: 0.801110\n",
            "Train Epoch: 4 [27000/28539 (95%)]\tLoss: 1.036822\n",
            "Train Epoch: 4 [28000/28539 (98%)]\tLoss: 0.897654\n",
            "\n",
            "evaluating...\n"
          ],
          "name": "stdout"
        },
        {
          "output_type": "stream",
          "text": [
            "/usr/local/lib/python3.6/dist-packages/torch/functional.py:516: UserWarning: stft will require the return_complex parameter be explicitly  specified in a future PyTorch release. Use return_complex=False  to preserve the current behavior or return_complex=True to return  a complex output. (Triggered internally at  /pytorch/aten/src/ATen/native/SpectralOps.cpp:653.)\n",
            "  normalized, onesided, return_complex)\n",
            "/usr/local/lib/python3.6/dist-packages/torch/functional.py:516: UserWarning: The function torch.rfft is deprecated and will be removed in a future PyTorch release. Use the new torch.fft module functions, instead, by importing torch.fft and calling torch.fft.fft or torch.fft.rfft. (Triggered internally at  /pytorch/aten/src/ATen/native/SpectralOps.cpp:590.)\n",
            "  normalized, onesided, return_complex)\n"
          ],
          "name": "stderr"
        },
        {
          "output_type": "stream",
          "text": [
            "Test set: Average loss: 0.7360, Average CER: 0.222486 Average WER: 0.6287\n",
            "\n"
          ],
          "name": "stdout"
        },
        {
          "output_type": "stream",
          "text": [
            "/usr/local/lib/python3.6/dist-packages/torch/functional.py:516: UserWarning: stft will require the return_complex parameter be explicitly  specified in a future PyTorch release. Use return_complex=False  to preserve the current behavior or return_complex=True to return  a complex output. (Triggered internally at  /pytorch/aten/src/ATen/native/SpectralOps.cpp:653.)\n",
            "  normalized, onesided, return_complex)\n",
            "/usr/local/lib/python3.6/dist-packages/torch/functional.py:516: UserWarning: The function torch.rfft is deprecated and will be removed in a future PyTorch release. Use the new torch.fft module functions, instead, by importing torch.fft and calling torch.fft.fft or torch.fft.rfft. (Triggered internally at  /pytorch/aten/src/ATen/native/SpectralOps.cpp:590.)\n",
            "  normalized, onesided, return_complex)\n"
          ],
          "name": "stderr"
        },
        {
          "output_type": "stream",
          "text": [
            "Train Epoch: 5 [0/28539 (0%)]\tLoss: 0.754280\n",
            "Train Epoch: 5 [1000/28539 (4%)]\tLoss: 0.881737\n",
            "Train Epoch: 5 [2000/28539 (7%)]\tLoss: 1.030677\n",
            "Train Epoch: 5 [3000/28539 (11%)]\tLoss: 0.836212\n",
            "Train Epoch: 5 [4000/28539 (14%)]\tLoss: 0.946452\n",
            "Train Epoch: 5 [5000/28539 (18%)]\tLoss: 0.948531\n",
            "Train Epoch: 5 [6000/28539 (21%)]\tLoss: 0.667478\n",
            "Train Epoch: 5 [7000/28539 (25%)]\tLoss: 0.785997\n",
            "Train Epoch: 5 [8000/28539 (28%)]\tLoss: 0.854187\n",
            "Train Epoch: 5 [9000/28539 (32%)]\tLoss: 0.785065\n",
            "Train Epoch: 5 [10000/28539 (35%)]\tLoss: 0.923688\n",
            "Train Epoch: 5 [11000/28539 (39%)]\tLoss: 0.878728\n",
            "Train Epoch: 5 [12000/28539 (42%)]\tLoss: 0.830300\n",
            "Train Epoch: 5 [13000/28539 (46%)]\tLoss: 0.990334\n",
            "Train Epoch: 5 [14000/28539 (49%)]\tLoss: 0.760358\n",
            "Train Epoch: 5 [15000/28539 (53%)]\tLoss: 0.907845\n",
            "Train Epoch: 5 [16000/28539 (56%)]\tLoss: 0.837576\n",
            "Train Epoch: 5 [17000/28539 (60%)]\tLoss: 0.932271\n",
            "Train Epoch: 5 [18000/28539 (63%)]\tLoss: 0.829350\n",
            "Train Epoch: 5 [19000/28539 (67%)]\tLoss: 0.919561\n",
            "Train Epoch: 5 [20000/28539 (70%)]\tLoss: 0.793405\n",
            "Train Epoch: 5 [21000/28539 (74%)]\tLoss: 0.959925\n",
            "Train Epoch: 5 [22000/28539 (77%)]\tLoss: 0.979056\n",
            "Train Epoch: 5 [23000/28539 (81%)]\tLoss: 0.827486\n",
            "Train Epoch: 5 [24000/28539 (84%)]\tLoss: 0.900520\n",
            "Train Epoch: 5 [25000/28539 (88%)]\tLoss: 0.742402\n",
            "Train Epoch: 5 [26000/28539 (91%)]\tLoss: 0.836927\n",
            "Train Epoch: 5 [27000/28539 (95%)]\tLoss: 0.834752\n",
            "Train Epoch: 5 [28000/28539 (98%)]\tLoss: 0.776359\n",
            "\n",
            "evaluating...\n"
          ],
          "name": "stdout"
        },
        {
          "output_type": "stream",
          "text": [
            "/usr/local/lib/python3.6/dist-packages/torch/functional.py:516: UserWarning: stft will require the return_complex parameter be explicitly  specified in a future PyTorch release. Use return_complex=False  to preserve the current behavior or return_complex=True to return  a complex output. (Triggered internally at  /pytorch/aten/src/ATen/native/SpectralOps.cpp:653.)\n",
            "  normalized, onesided, return_complex)\n",
            "/usr/local/lib/python3.6/dist-packages/torch/functional.py:516: UserWarning: The function torch.rfft is deprecated and will be removed in a future PyTorch release. Use the new torch.fft module functions, instead, by importing torch.fft and calling torch.fft.fft or torch.fft.rfft. (Triggered internally at  /pytorch/aten/src/ATen/native/SpectralOps.cpp:590.)\n",
            "  normalized, onesided, return_complex)\n"
          ],
          "name": "stderr"
        },
        {
          "output_type": "stream",
          "text": [
            "Test set: Average loss: 0.6845, Average CER: 0.206016 Average WER: 0.5899\n",
            "\n"
          ],
          "name": "stdout"
        },
        {
          "output_type": "stream",
          "text": [
            "/usr/local/lib/python3.6/dist-packages/torch/functional.py:516: UserWarning: stft will require the return_complex parameter be explicitly  specified in a future PyTorch release. Use return_complex=False  to preserve the current behavior or return_complex=True to return  a complex output. (Triggered internally at  /pytorch/aten/src/ATen/native/SpectralOps.cpp:653.)\n",
            "  normalized, onesided, return_complex)\n",
            "/usr/local/lib/python3.6/dist-packages/torch/functional.py:516: UserWarning: The function torch.rfft is deprecated and will be removed in a future PyTorch release. Use the new torch.fft module functions, instead, by importing torch.fft and calling torch.fft.fft or torch.fft.rfft. (Triggered internally at  /pytorch/aten/src/ATen/native/SpectralOps.cpp:590.)\n",
            "  normalized, onesided, return_complex)\n"
          ],
          "name": "stderr"
        },
        {
          "output_type": "stream",
          "text": [
            "Train Epoch: 6 [0/28539 (0%)]\tLoss: 0.728511\n",
            "Train Epoch: 6 [1000/28539 (4%)]\tLoss: 0.854890\n",
            "Train Epoch: 6 [2000/28539 (7%)]\tLoss: 0.872068\n",
            "Train Epoch: 6 [3000/28539 (11%)]\tLoss: 0.816231\n",
            "Train Epoch: 6 [4000/28539 (14%)]\tLoss: 0.843111\n",
            "Train Epoch: 6 [5000/28539 (18%)]\tLoss: 0.777646\n",
            "Train Epoch: 6 [6000/28539 (21%)]\tLoss: 0.714687\n",
            "Train Epoch: 6 [7000/28539 (25%)]\tLoss: 0.741468\n",
            "Train Epoch: 6 [8000/28539 (28%)]\tLoss: 0.965374\n",
            "Train Epoch: 6 [9000/28539 (32%)]\tLoss: 0.620420\n",
            "Train Epoch: 6 [10000/28539 (35%)]\tLoss: 0.777813\n",
            "Train Epoch: 6 [11000/28539 (39%)]\tLoss: 0.806129\n",
            "Train Epoch: 6 [12000/28539 (42%)]\tLoss: 0.886507\n",
            "Train Epoch: 6 [13000/28539 (46%)]\tLoss: 0.910169\n",
            "Train Epoch: 6 [14000/28539 (49%)]\tLoss: 0.809048\n",
            "Train Epoch: 6 [15000/28539 (53%)]\tLoss: 0.859234\n",
            "Train Epoch: 6 [16000/28539 (56%)]\tLoss: 0.750201\n",
            "Train Epoch: 6 [17000/28539 (60%)]\tLoss: 0.695518\n",
            "Train Epoch: 6 [18000/28539 (63%)]\tLoss: 0.830254\n",
            "Train Epoch: 6 [19000/28539 (67%)]\tLoss: 0.766558\n",
            "Train Epoch: 6 [20000/28539 (70%)]\tLoss: 0.734961\n",
            "Train Epoch: 6 [21000/28539 (74%)]\tLoss: 0.923062\n",
            "Train Epoch: 6 [22000/28539 (77%)]\tLoss: 0.678815\n",
            "Train Epoch: 6 [23000/28539 (81%)]\tLoss: 0.823439\n",
            "Train Epoch: 6 [24000/28539 (84%)]\tLoss: 0.843036\n",
            "Train Epoch: 6 [25000/28539 (88%)]\tLoss: 0.584652\n",
            "Train Epoch: 6 [26000/28539 (91%)]\tLoss: 0.891837\n",
            "Train Epoch: 6 [27000/28539 (95%)]\tLoss: 0.755982\n",
            "Train Epoch: 6 [28000/28539 (98%)]\tLoss: 0.740041\n",
            "\n",
            "evaluating...\n"
          ],
          "name": "stdout"
        },
        {
          "output_type": "stream",
          "text": [
            "/usr/local/lib/python3.6/dist-packages/torch/functional.py:516: UserWarning: stft will require the return_complex parameter be explicitly  specified in a future PyTorch release. Use return_complex=False  to preserve the current behavior or return_complex=True to return  a complex output. (Triggered internally at  /pytorch/aten/src/ATen/native/SpectralOps.cpp:653.)\n",
            "  normalized, onesided, return_complex)\n",
            "/usr/local/lib/python3.6/dist-packages/torch/functional.py:516: UserWarning: The function torch.rfft is deprecated and will be removed in a future PyTorch release. Use the new torch.fft module functions, instead, by importing torch.fft and calling torch.fft.fft or torch.fft.rfft. (Triggered internally at  /pytorch/aten/src/ATen/native/SpectralOps.cpp:590.)\n",
            "  normalized, onesided, return_complex)\n"
          ],
          "name": "stderr"
        },
        {
          "output_type": "stream",
          "text": [
            "Test set: Average loss: 0.6093, Average CER: 0.183813 Average WER: 0.5318\n",
            "\n"
          ],
          "name": "stdout"
        },
        {
          "output_type": "stream",
          "text": [
            "/usr/local/lib/python3.6/dist-packages/torch/functional.py:516: UserWarning: stft will require the return_complex parameter be explicitly  specified in a future PyTorch release. Use return_complex=False  to preserve the current behavior or return_complex=True to return  a complex output. (Triggered internally at  /pytorch/aten/src/ATen/native/SpectralOps.cpp:653.)\n",
            "  normalized, onesided, return_complex)\n",
            "/usr/local/lib/python3.6/dist-packages/torch/functional.py:516: UserWarning: The function torch.rfft is deprecated and will be removed in a future PyTorch release. Use the new torch.fft module functions, instead, by importing torch.fft and calling torch.fft.fft or torch.fft.rfft. (Triggered internally at  /pytorch/aten/src/ATen/native/SpectralOps.cpp:590.)\n",
            "  normalized, onesided, return_complex)\n"
          ],
          "name": "stderr"
        },
        {
          "output_type": "stream",
          "text": [
            "Train Epoch: 7 [0/28539 (0%)]\tLoss: 0.626085\n",
            "Train Epoch: 7 [1000/28539 (4%)]\tLoss: 0.889325\n",
            "Train Epoch: 7 [2000/28539 (7%)]\tLoss: 0.908440\n",
            "Train Epoch: 7 [3000/28539 (11%)]\tLoss: 0.691371\n",
            "Train Epoch: 7 [4000/28539 (14%)]\tLoss: 0.710229\n",
            "Train Epoch: 7 [5000/28539 (18%)]\tLoss: 0.739113\n",
            "Train Epoch: 7 [6000/28539 (21%)]\tLoss: 0.832491\n",
            "Train Epoch: 7 [7000/28539 (25%)]\tLoss: 0.643926\n",
            "Train Epoch: 7 [8000/28539 (28%)]\tLoss: 0.797540\n",
            "Train Epoch: 7 [9000/28539 (32%)]\tLoss: 0.765185\n",
            "Train Epoch: 7 [10000/28539 (35%)]\tLoss: 0.886259\n",
            "Train Epoch: 7 [11000/28539 (39%)]\tLoss: 0.592591\n",
            "Train Epoch: 7 [12000/28539 (42%)]\tLoss: 0.821076\n",
            "Train Epoch: 7 [13000/28539 (46%)]\tLoss: 0.936943\n",
            "Train Epoch: 7 [14000/28539 (49%)]\tLoss: 0.893988\n",
            "Train Epoch: 7 [15000/28539 (53%)]\tLoss: 0.701418\n",
            "Train Epoch: 7 [16000/28539 (56%)]\tLoss: 0.594420\n",
            "Train Epoch: 7 [17000/28539 (60%)]\tLoss: 0.825950\n",
            "Train Epoch: 7 [18000/28539 (63%)]\tLoss: 0.657110\n",
            "Train Epoch: 7 [19000/28539 (67%)]\tLoss: 0.759356\n",
            "Train Epoch: 7 [20000/28539 (70%)]\tLoss: 0.820772\n",
            "Train Epoch: 7 [21000/28539 (74%)]\tLoss: 0.768184\n",
            "Train Epoch: 7 [22000/28539 (77%)]\tLoss: 0.630560\n",
            "Train Epoch: 7 [23000/28539 (81%)]\tLoss: 0.774112\n",
            "Train Epoch: 7 [24000/28539 (84%)]\tLoss: 0.728212\n",
            "Train Epoch: 7 [25000/28539 (88%)]\tLoss: 0.759272\n",
            "Train Epoch: 7 [26000/28539 (91%)]\tLoss: 0.740785\n",
            "Train Epoch: 7 [27000/28539 (95%)]\tLoss: 0.828884\n",
            "Train Epoch: 7 [28000/28539 (98%)]\tLoss: 0.761053\n",
            "\n",
            "evaluating...\n"
          ],
          "name": "stdout"
        },
        {
          "output_type": "stream",
          "text": [
            "/usr/local/lib/python3.6/dist-packages/torch/functional.py:516: UserWarning: stft will require the return_complex parameter be explicitly  specified in a future PyTorch release. Use return_complex=False  to preserve the current behavior or return_complex=True to return  a complex output. (Triggered internally at  /pytorch/aten/src/ATen/native/SpectralOps.cpp:653.)\n",
            "  normalized, onesided, return_complex)\n",
            "/usr/local/lib/python3.6/dist-packages/torch/functional.py:516: UserWarning: The function torch.rfft is deprecated and will be removed in a future PyTorch release. Use the new torch.fft module functions, instead, by importing torch.fft and calling torch.fft.fft or torch.fft.rfft. (Triggered internally at  /pytorch/aten/src/ATen/native/SpectralOps.cpp:590.)\n",
            "  normalized, onesided, return_complex)\n"
          ],
          "name": "stderr"
        },
        {
          "output_type": "stream",
          "text": [
            "Test set: Average loss: 0.5692, Average CER: 0.170093 Average WER: 0.4984\n",
            "\n"
          ],
          "name": "stdout"
        },
        {
          "output_type": "stream",
          "text": [
            "/usr/local/lib/python3.6/dist-packages/torch/functional.py:516: UserWarning: stft will require the return_complex parameter be explicitly  specified in a future PyTorch release. Use return_complex=False  to preserve the current behavior or return_complex=True to return  a complex output. (Triggered internally at  /pytorch/aten/src/ATen/native/SpectralOps.cpp:653.)\n",
            "  normalized, onesided, return_complex)\n",
            "/usr/local/lib/python3.6/dist-packages/torch/functional.py:516: UserWarning: The function torch.rfft is deprecated and will be removed in a future PyTorch release. Use the new torch.fft module functions, instead, by importing torch.fft and calling torch.fft.fft or torch.fft.rfft. (Triggered internally at  /pytorch/aten/src/ATen/native/SpectralOps.cpp:590.)\n",
            "  normalized, onesided, return_complex)\n"
          ],
          "name": "stderr"
        },
        {
          "output_type": "stream",
          "text": [
            "Train Epoch: 8 [0/28539 (0%)]\tLoss: 0.621051\n",
            "Train Epoch: 8 [1000/28539 (4%)]\tLoss: 0.629725\n",
            "Train Epoch: 8 [2000/28539 (7%)]\tLoss: 0.872566\n",
            "Train Epoch: 8 [3000/28539 (11%)]\tLoss: 0.703300\n",
            "Train Epoch: 8 [4000/28539 (14%)]\tLoss: 0.678384\n",
            "Train Epoch: 8 [5000/28539 (18%)]\tLoss: 0.556375\n",
            "Train Epoch: 8 [6000/28539 (21%)]\tLoss: 0.718787\n",
            "Train Epoch: 8 [7000/28539 (25%)]\tLoss: 0.687252\n",
            "Train Epoch: 8 [8000/28539 (28%)]\tLoss: 0.650491\n",
            "Train Epoch: 8 [9000/28539 (32%)]\tLoss: 0.606670\n",
            "Train Epoch: 8 [10000/28539 (35%)]\tLoss: 0.785742\n",
            "Train Epoch: 8 [11000/28539 (39%)]\tLoss: 0.848209\n",
            "Train Epoch: 8 [12000/28539 (42%)]\tLoss: 0.706179\n",
            "Train Epoch: 8 [13000/28539 (46%)]\tLoss: 0.689718\n",
            "Train Epoch: 8 [14000/28539 (49%)]\tLoss: 0.656870\n",
            "Train Epoch: 8 [15000/28539 (53%)]\tLoss: 0.645300\n",
            "Train Epoch: 8 [16000/28539 (56%)]\tLoss: 0.778875\n",
            "Train Epoch: 8 [17000/28539 (60%)]\tLoss: 0.581434\n",
            "Train Epoch: 8 [18000/28539 (63%)]\tLoss: 0.706264\n",
            "Train Epoch: 8 [19000/28539 (67%)]\tLoss: 0.743448\n",
            "Train Epoch: 8 [20000/28539 (70%)]\tLoss: 0.839754\n",
            "Train Epoch: 8 [21000/28539 (74%)]\tLoss: 0.704234\n",
            "Train Epoch: 8 [22000/28539 (77%)]\tLoss: 0.515004\n",
            "Train Epoch: 8 [23000/28539 (81%)]\tLoss: 0.639469\n",
            "Train Epoch: 8 [24000/28539 (84%)]\tLoss: 0.788080\n",
            "Train Epoch: 8 [25000/28539 (88%)]\tLoss: 0.604640\n",
            "Train Epoch: 8 [26000/28539 (91%)]\tLoss: 0.606528\n",
            "Train Epoch: 8 [27000/28539 (95%)]\tLoss: 0.629751\n",
            "Train Epoch: 8 [28000/28539 (98%)]\tLoss: 0.599003\n",
            "\n",
            "evaluating...\n"
          ],
          "name": "stdout"
        },
        {
          "output_type": "stream",
          "text": [
            "/usr/local/lib/python3.6/dist-packages/torch/functional.py:516: UserWarning: stft will require the return_complex parameter be explicitly  specified in a future PyTorch release. Use return_complex=False  to preserve the current behavior or return_complex=True to return  a complex output. (Triggered internally at  /pytorch/aten/src/ATen/native/SpectralOps.cpp:653.)\n",
            "  normalized, onesided, return_complex)\n",
            "/usr/local/lib/python3.6/dist-packages/torch/functional.py:516: UserWarning: The function torch.rfft is deprecated and will be removed in a future PyTorch release. Use the new torch.fft module functions, instead, by importing torch.fft and calling torch.fft.fft or torch.fft.rfft. (Triggered internally at  /pytorch/aten/src/ATen/native/SpectralOps.cpp:590.)\n",
            "  normalized, onesided, return_complex)\n"
          ],
          "name": "stderr"
        },
        {
          "output_type": "stream",
          "text": [
            "Test set: Average loss: 0.5410, Average CER: 0.161652 Average WER: 0.4802\n",
            "\n"
          ],
          "name": "stdout"
        },
        {
          "output_type": "stream",
          "text": [
            "/usr/local/lib/python3.6/dist-packages/torch/functional.py:516: UserWarning: stft will require the return_complex parameter be explicitly  specified in a future PyTorch release. Use return_complex=False  to preserve the current behavior or return_complex=True to return  a complex output. (Triggered internally at  /pytorch/aten/src/ATen/native/SpectralOps.cpp:653.)\n",
            "  normalized, onesided, return_complex)\n",
            "/usr/local/lib/python3.6/dist-packages/torch/functional.py:516: UserWarning: The function torch.rfft is deprecated and will be removed in a future PyTorch release. Use the new torch.fft module functions, instead, by importing torch.fft and calling torch.fft.fft or torch.fft.rfft. (Triggered internally at  /pytorch/aten/src/ATen/native/SpectralOps.cpp:590.)\n",
            "  normalized, onesided, return_complex)\n"
          ],
          "name": "stderr"
        },
        {
          "output_type": "stream",
          "text": [
            "Train Epoch: 9 [0/28539 (0%)]\tLoss: 0.642285\n",
            "Train Epoch: 9 [1000/28539 (4%)]\tLoss: 0.622471\n",
            "Train Epoch: 9 [2000/28539 (7%)]\tLoss: 0.574059\n",
            "Train Epoch: 9 [3000/28539 (11%)]\tLoss: 0.671377\n",
            "Train Epoch: 9 [4000/28539 (14%)]\tLoss: 0.624816\n",
            "Train Epoch: 9 [5000/28539 (18%)]\tLoss: 0.680353\n",
            "Train Epoch: 9 [6000/28539 (21%)]\tLoss: 0.817520\n",
            "Train Epoch: 9 [7000/28539 (25%)]\tLoss: 0.634223\n",
            "Train Epoch: 9 [8000/28539 (28%)]\tLoss: 0.555612\n",
            "Train Epoch: 9 [9000/28539 (32%)]\tLoss: 0.555548\n",
            "Train Epoch: 9 [10000/28539 (35%)]\tLoss: 0.578596\n",
            "Train Epoch: 9 [11000/28539 (39%)]\tLoss: 0.689484\n",
            "Train Epoch: 9 [12000/28539 (42%)]\tLoss: 0.584700\n",
            "Train Epoch: 9 [13000/28539 (46%)]\tLoss: 0.737983\n",
            "Train Epoch: 9 [14000/28539 (49%)]\tLoss: 0.682236\n",
            "Train Epoch: 9 [15000/28539 (53%)]\tLoss: 0.796133\n",
            "Train Epoch: 9 [16000/28539 (56%)]\tLoss: 0.594038\n",
            "Train Epoch: 9 [17000/28539 (60%)]\tLoss: 0.608999\n",
            "Train Epoch: 9 [18000/28539 (63%)]\tLoss: 0.762399\n",
            "Train Epoch: 9 [19000/28539 (67%)]\tLoss: 0.712238\n",
            "Train Epoch: 9 [20000/28539 (70%)]\tLoss: 0.554256\n",
            "Train Epoch: 9 [21000/28539 (74%)]\tLoss: 0.822638\n",
            "Train Epoch: 9 [22000/28539 (77%)]\tLoss: 0.835890\n",
            "Train Epoch: 9 [23000/28539 (81%)]\tLoss: 0.583285\n",
            "Train Epoch: 9 [24000/28539 (84%)]\tLoss: 0.813526\n",
            "Train Epoch: 9 [25000/28539 (88%)]\tLoss: 0.687212\n",
            "Train Epoch: 9 [26000/28539 (91%)]\tLoss: 0.733336\n",
            "Train Epoch: 9 [27000/28539 (95%)]\tLoss: 0.584606\n",
            "Train Epoch: 9 [28000/28539 (98%)]\tLoss: 0.659895\n",
            "\n",
            "evaluating...\n"
          ],
          "name": "stdout"
        },
        {
          "output_type": "stream",
          "text": [
            "/usr/local/lib/python3.6/dist-packages/torch/functional.py:516: UserWarning: stft will require the return_complex parameter be explicitly  specified in a future PyTorch release. Use return_complex=False  to preserve the current behavior or return_complex=True to return  a complex output. (Triggered internally at  /pytorch/aten/src/ATen/native/SpectralOps.cpp:653.)\n",
            "  normalized, onesided, return_complex)\n",
            "/usr/local/lib/python3.6/dist-packages/torch/functional.py:516: UserWarning: The function torch.rfft is deprecated and will be removed in a future PyTorch release. Use the new torch.fft module functions, instead, by importing torch.fft and calling torch.fft.fft or torch.fft.rfft. (Triggered internally at  /pytorch/aten/src/ATen/native/SpectralOps.cpp:590.)\n",
            "  normalized, onesided, return_complex)\n"
          ],
          "name": "stderr"
        },
        {
          "output_type": "stream",
          "text": [
            "Test set: Average loss: 0.5170, Average CER: 0.153795 Average WER: 0.4592\n",
            "\n"
          ],
          "name": "stdout"
        },
        {
          "output_type": "stream",
          "text": [
            "/usr/local/lib/python3.6/dist-packages/torch/functional.py:516: UserWarning: stft will require the return_complex parameter be explicitly  specified in a future PyTorch release. Use return_complex=False  to preserve the current behavior or return_complex=True to return  a complex output. (Triggered internally at  /pytorch/aten/src/ATen/native/SpectralOps.cpp:653.)\n",
            "  normalized, onesided, return_complex)\n",
            "/usr/local/lib/python3.6/dist-packages/torch/functional.py:516: UserWarning: The function torch.rfft is deprecated and will be removed in a future PyTorch release. Use the new torch.fft module functions, instead, by importing torch.fft and calling torch.fft.fft or torch.fft.rfft. (Triggered internally at  /pytorch/aten/src/ATen/native/SpectralOps.cpp:590.)\n",
            "  normalized, onesided, return_complex)\n"
          ],
          "name": "stderr"
        },
        {
          "output_type": "stream",
          "text": [
            "Train Epoch: 10 [0/28539 (0%)]\tLoss: 0.582913\n",
            "Train Epoch: 10 [1000/28539 (4%)]\tLoss: 0.661651\n",
            "Train Epoch: 10 [2000/28539 (7%)]\tLoss: 0.702949\n",
            "Train Epoch: 10 [3000/28539 (11%)]\tLoss: 0.657288\n",
            "Train Epoch: 10 [4000/28539 (14%)]\tLoss: 0.747584\n",
            "Train Epoch: 10 [5000/28539 (18%)]\tLoss: 0.537753\n",
            "Train Epoch: 10 [6000/28539 (21%)]\tLoss: 0.560149\n",
            "Train Epoch: 10 [7000/28539 (25%)]\tLoss: 0.678758\n",
            "Train Epoch: 10 [8000/28539 (28%)]\tLoss: 0.497748\n",
            "Train Epoch: 10 [9000/28539 (32%)]\tLoss: 0.740058\n",
            "Train Epoch: 10 [10000/28539 (35%)]\tLoss: 0.699402\n",
            "Train Epoch: 10 [11000/28539 (39%)]\tLoss: 0.644767\n",
            "Train Epoch: 10 [12000/28539 (42%)]\tLoss: 0.575265\n",
            "Train Epoch: 10 [13000/28539 (46%)]\tLoss: 0.629306\n",
            "Train Epoch: 10 [14000/28539 (49%)]\tLoss: 0.571217\n",
            "Train Epoch: 10 [15000/28539 (53%)]\tLoss: 0.916493\n",
            "Train Epoch: 10 [16000/28539 (56%)]\tLoss: 0.569578\n",
            "Train Epoch: 10 [17000/28539 (60%)]\tLoss: 0.713331\n",
            "Train Epoch: 10 [18000/28539 (63%)]\tLoss: 0.674966\n",
            "Train Epoch: 10 [19000/28539 (67%)]\tLoss: 0.520051\n",
            "Train Epoch: 10 [20000/28539 (70%)]\tLoss: 0.515885\n",
            "Train Epoch: 10 [21000/28539 (74%)]\tLoss: 0.499686\n",
            "Train Epoch: 10 [22000/28539 (77%)]\tLoss: 0.593892\n",
            "Train Epoch: 10 [23000/28539 (81%)]\tLoss: 0.699501\n",
            "Train Epoch: 10 [24000/28539 (84%)]\tLoss: 0.642828\n",
            "Train Epoch: 10 [25000/28539 (88%)]\tLoss: 0.700693\n",
            "Train Epoch: 10 [26000/28539 (91%)]\tLoss: 0.662343\n",
            "Train Epoch: 10 [27000/28539 (95%)]\tLoss: 0.490595\n",
            "Train Epoch: 10 [28000/28539 (98%)]\tLoss: 0.620386\n",
            "\n",
            "evaluating...\n"
          ],
          "name": "stdout"
        },
        {
          "output_type": "stream",
          "text": [
            "/usr/local/lib/python3.6/dist-packages/torch/functional.py:516: UserWarning: stft will require the return_complex parameter be explicitly  specified in a future PyTorch release. Use return_complex=False  to preserve the current behavior or return_complex=True to return  a complex output. (Triggered internally at  /pytorch/aten/src/ATen/native/SpectralOps.cpp:653.)\n",
            "  normalized, onesided, return_complex)\n",
            "/usr/local/lib/python3.6/dist-packages/torch/functional.py:516: UserWarning: The function torch.rfft is deprecated and will be removed in a future PyTorch release. Use the new torch.fft module functions, instead, by importing torch.fft and calling torch.fft.fft or torch.fft.rfft. (Triggered internally at  /pytorch/aten/src/ATen/native/SpectralOps.cpp:590.)\n",
            "  normalized, onesided, return_complex)\n"
          ],
          "name": "stderr"
        },
        {
          "output_type": "stream",
          "text": [
            "Test set: Average loss: 0.5059, Average CER: 0.149114 Average WER: 0.4471\n",
            "\n"
          ],
          "name": "stdout"
        }
      ]
    },
    {
      "cell_type": "code",
      "metadata": {
        "id": "92kVVEr7GR6j",
        "colab": {
          "base_uri": "https://localhost:8080/"
        },
        "outputId": "11dea327-30ca-41d2-a708-922895b4b542"
      },
      "source": [
        "from google.colab import drive\n",
        "drive.mount('/content/drive')"
      ],
      "execution_count": 26,
      "outputs": [
        {
          "output_type": "stream",
          "text": [
            "Mounted at /content/drive\n"
          ],
          "name": "stdout"
        }
      ]
    },
    {
      "cell_type": "code",
      "metadata": {
        "id": "ucfQX3qN21az"
      },
      "source": [
        "!cp '/content/data/data/audio_to_text_model.pt' '/content/drive/MyDrive/EVA4/phase2/S13'"
      ],
      "execution_count": 27,
      "outputs": []
    },
    {
      "cell_type": "code",
      "metadata": {
        "id": "HkdsgGLxb_ds"
      },
      "source": [
        "waveform, sample_rate = torchaudio.load('/content/drive/MyDrive/EVA4/phase2/S13/voice1.wav')"
      ],
      "execution_count": 28,
      "outputs": []
    },
    {
      "cell_type": "code",
      "metadata": {
        "id": "jFV6ztndcZ-g",
        "outputId": "02ee9215-e09d-44a8-df0b-b662229ccb9f",
        "colab": {
          "base_uri": "https://localhost:8080/"
        }
      },
      "source": [
        "# Load\n",
        "waveform1 = torchaudio.transforms.Resample(sample_rate, 8000)(waveform[0,:].view(1,-1))\n",
        "model = torch.load('/content/drive/MyDrive/EVA4/phase2/S13/audio_to_text_model.pt')\n",
        "model.eval()\n",
        "specgram = torchaudio.transforms.MelSpectrogram()(waveform1)\n",
        "spectrograms=specgram.unsqueeze(0)\n",
        "channel = 0\n",
        "\n",
        "use_cuda = torch.cuda.is_available()\n",
        "torch.manual_seed(7)\n",
        "device = torch.device(\"cuda\" if use_cuda else \"cpu\")\n",
        "\n",
        "\n",
        "#spectrograms = nn.utils.rnn.pad_sequence(specgram, batch_first=True).unsqueeze(1).transpose(2, 3)\n",
        "output = model(spectrograms.to(device))  # (batch, time, n_class)\n",
        "output = F.log_softmax(output, dim=2)\n",
        "print(output)"
      ],
      "execution_count": 53,
      "outputs": [
        {
          "output_type": "stream",
          "text": [
            "tensor([[[ -8.3612,  -2.0186,  -6.4266,  ...,  -7.9624, -11.1279,  -0.4398],\n",
            "         [ -8.8946,  -3.8897,  -8.1726,  ...,  -2.9514,  -7.4578,  -1.5608],\n",
            "         [ -9.2943,  -8.7124,  -3.9562,  ...,  -6.8099, -13.9729,  -0.3318],\n",
            "         ...,\n",
            "         [-10.0533,  -2.8899,  -5.6961,  ...,  -7.9190, -11.5650,  -0.8599],\n",
            "         [ -7.1154,  -7.4077,  -0.7250,  ...,  -6.6946, -10.8213,  -4.6653],\n",
            "         [ -6.3415,  -8.4634,  -6.3819,  ..., -10.0029,  -9.9390,  -0.2942]]],\n",
            "       device='cuda:0', grad_fn=<LogSoftmaxBackward>)\n"
          ],
          "name": "stdout"
        },
        {
          "output_type": "stream",
          "text": [
            "/usr/local/lib/python3.6/dist-packages/torchaudio/functional.py:318: UserWarning: At least one mel filterbank has all zero values. The value for `n_mels` (128) may be set too high. Or, the value for `n_freqs` (201) may be set too low.\n",
            "  \"At least one mel filterbank has all zero values. \"\n"
          ],
          "name": "stderr"
        }
      ]
    }
  ]
}