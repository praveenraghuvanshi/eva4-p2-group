{
  "nbformat": 4,
  "nbformat_minor": 0,
  "metadata": {
    "colab": {
      "name": "S13_Notebook.ipynb",
      "provenance": [],
      "collapsed_sections": [],
      "toc_visible": true,
      "machine_shape": "hm"
    },
    "kernelspec": {
      "name": "python3",
      "display_name": "Python 3"
    },
    "accelerator": "GPU",
    "widgets": {
      "application/vnd.jupyter.widget-state+json": {
        "fd680544e6d544e7b745d41e99ea8176": {
          "model_module": "@jupyter-widgets/controls",
          "model_name": "HBoxModel",
          "state": {
            "_view_name": "HBoxView",
            "_dom_classes": [],
            "_model_name": "HBoxModel",
            "_view_module": "@jupyter-widgets/controls",
            "_model_module_version": "1.5.0",
            "_view_count": null,
            "_view_module_version": "1.5.0",
            "box_style": "",
            "layout": "IPY_MODEL_e901c2fe371d46a596c58f5c2f03ccf7",
            "_model_module": "@jupyter-widgets/controls",
            "children": [
              "IPY_MODEL_87d6e03f81f34336ba58d448c4ea3c8c",
              "IPY_MODEL_cb99760fb7754157b952dcedff55da57"
            ]
          }
        },
        "e901c2fe371d46a596c58f5c2f03ccf7": {
          "model_module": "@jupyter-widgets/base",
          "model_name": "LayoutModel",
          "state": {
            "_view_name": "LayoutView",
            "grid_template_rows": null,
            "right": null,
            "justify_content": null,
            "_view_module": "@jupyter-widgets/base",
            "overflow": null,
            "_model_module_version": "1.2.0",
            "_view_count": null,
            "flex_flow": null,
            "width": null,
            "min_width": null,
            "border": null,
            "align_items": null,
            "bottom": null,
            "_model_module": "@jupyter-widgets/base",
            "top": null,
            "grid_column": null,
            "overflow_y": null,
            "overflow_x": null,
            "grid_auto_flow": null,
            "grid_area": null,
            "grid_template_columns": null,
            "flex": null,
            "_model_name": "LayoutModel",
            "justify_items": null,
            "grid_row": null,
            "max_height": null,
            "align_content": null,
            "visibility": null,
            "align_self": null,
            "height": null,
            "min_height": null,
            "padding": null,
            "grid_auto_rows": null,
            "grid_gap": null,
            "max_width": null,
            "order": null,
            "_view_module_version": "1.2.0",
            "grid_template_areas": null,
            "object_position": null,
            "object_fit": null,
            "grid_auto_columns": null,
            "margin": null,
            "display": null,
            "left": null
          }
        },
        "87d6e03f81f34336ba58d448c4ea3c8c": {
          "model_module": "@jupyter-widgets/controls",
          "model_name": "FloatProgressModel",
          "state": {
            "_view_name": "ProgressView",
            "style": "IPY_MODEL_1827770948ad45be82916b59076713ea",
            "_dom_classes": [],
            "description": "100%",
            "_model_name": "FloatProgressModel",
            "bar_style": "success",
            "max": 6387309499,
            "_view_module": "@jupyter-widgets/controls",
            "_model_module_version": "1.5.0",
            "value": 6387309499,
            "_view_count": null,
            "_view_module_version": "1.5.0",
            "orientation": "horizontal",
            "min": 0,
            "description_tooltip": null,
            "_model_module": "@jupyter-widgets/controls",
            "layout": "IPY_MODEL_4d90e1110fa34520a01918568a5a8a6b"
          }
        },
        "cb99760fb7754157b952dcedff55da57": {
          "model_module": "@jupyter-widgets/controls",
          "model_name": "HTMLModel",
          "state": {
            "_view_name": "HTMLView",
            "style": "IPY_MODEL_7f8dbdad962c47f9b914583f413ea8c2",
            "_dom_classes": [],
            "description": "",
            "_model_name": "HTMLModel",
            "placeholder": "​",
            "_view_module": "@jupyter-widgets/controls",
            "_model_module_version": "1.5.0",
            "value": " 5.95G/5.95G [01:23&lt;00:00, 76.7MB/s]",
            "_view_count": null,
            "_view_module_version": "1.5.0",
            "description_tooltip": null,
            "_model_module": "@jupyter-widgets/controls",
            "layout": "IPY_MODEL_e6f1a88825634b728eaba1a55bb89c39"
          }
        },
        "1827770948ad45be82916b59076713ea": {
          "model_module": "@jupyter-widgets/controls",
          "model_name": "ProgressStyleModel",
          "state": {
            "_view_name": "StyleView",
            "_model_name": "ProgressStyleModel",
            "description_width": "initial",
            "_view_module": "@jupyter-widgets/base",
            "_model_module_version": "1.5.0",
            "_view_count": null,
            "_view_module_version": "1.2.0",
            "bar_color": null,
            "_model_module": "@jupyter-widgets/controls"
          }
        },
        "4d90e1110fa34520a01918568a5a8a6b": {
          "model_module": "@jupyter-widgets/base",
          "model_name": "LayoutModel",
          "state": {
            "_view_name": "LayoutView",
            "grid_template_rows": null,
            "right": null,
            "justify_content": null,
            "_view_module": "@jupyter-widgets/base",
            "overflow": null,
            "_model_module_version": "1.2.0",
            "_view_count": null,
            "flex_flow": null,
            "width": null,
            "min_width": null,
            "border": null,
            "align_items": null,
            "bottom": null,
            "_model_module": "@jupyter-widgets/base",
            "top": null,
            "grid_column": null,
            "overflow_y": null,
            "overflow_x": null,
            "grid_auto_flow": null,
            "grid_area": null,
            "grid_template_columns": null,
            "flex": null,
            "_model_name": "LayoutModel",
            "justify_items": null,
            "grid_row": null,
            "max_height": null,
            "align_content": null,
            "visibility": null,
            "align_self": null,
            "height": null,
            "min_height": null,
            "padding": null,
            "grid_auto_rows": null,
            "grid_gap": null,
            "max_width": null,
            "order": null,
            "_view_module_version": "1.2.0",
            "grid_template_areas": null,
            "object_position": null,
            "object_fit": null,
            "grid_auto_columns": null,
            "margin": null,
            "display": null,
            "left": null
          }
        },
        "7f8dbdad962c47f9b914583f413ea8c2": {
          "model_module": "@jupyter-widgets/controls",
          "model_name": "DescriptionStyleModel",
          "state": {
            "_view_name": "StyleView",
            "_model_name": "DescriptionStyleModel",
            "description_width": "",
            "_view_module": "@jupyter-widgets/base",
            "_model_module_version": "1.5.0",
            "_view_count": null,
            "_view_module_version": "1.2.0",
            "_model_module": "@jupyter-widgets/controls"
          }
        },
        "e6f1a88825634b728eaba1a55bb89c39": {
          "model_module": "@jupyter-widgets/base",
          "model_name": "LayoutModel",
          "state": {
            "_view_name": "LayoutView",
            "grid_template_rows": null,
            "right": null,
            "justify_content": null,
            "_view_module": "@jupyter-widgets/base",
            "overflow": null,
            "_model_module_version": "1.2.0",
            "_view_count": null,
            "flex_flow": null,
            "width": null,
            "min_width": null,
            "border": null,
            "align_items": null,
            "bottom": null,
            "_model_module": "@jupyter-widgets/base",
            "top": null,
            "grid_column": null,
            "overflow_y": null,
            "overflow_x": null,
            "grid_auto_flow": null,
            "grid_area": null,
            "grid_template_columns": null,
            "flex": null,
            "_model_name": "LayoutModel",
            "justify_items": null,
            "grid_row": null,
            "max_height": null,
            "align_content": null,
            "visibility": null,
            "align_self": null,
            "height": null,
            "min_height": null,
            "padding": null,
            "grid_auto_rows": null,
            "grid_gap": null,
            "max_width": null,
            "order": null,
            "_view_module_version": "1.2.0",
            "grid_template_areas": null,
            "object_position": null,
            "object_fit": null,
            "grid_auto_columns": null,
            "margin": null,
            "display": null,
            "left": null
          }
        },
        "68aa92c99b604732915cd8def0901bd6": {
          "model_module": "@jupyter-widgets/controls",
          "model_name": "HBoxModel",
          "state": {
            "_view_name": "HBoxView",
            "_dom_classes": [],
            "_model_name": "HBoxModel",
            "_view_module": "@jupyter-widgets/controls",
            "_model_module_version": "1.5.0",
            "_view_count": null,
            "_view_module_version": "1.5.0",
            "box_style": "",
            "layout": "IPY_MODEL_12ceadaa98e742408e0c28d708b237c1",
            "_model_module": "@jupyter-widgets/controls",
            "children": [
              "IPY_MODEL_819b96b52b4040f5a9ff1f1a155d04b4",
              "IPY_MODEL_b24c600b8f7a4f57aad31959aa0fee99"
            ]
          }
        },
        "12ceadaa98e742408e0c28d708b237c1": {
          "model_module": "@jupyter-widgets/base",
          "model_name": "LayoutModel",
          "state": {
            "_view_name": "LayoutView",
            "grid_template_rows": null,
            "right": null,
            "justify_content": null,
            "_view_module": "@jupyter-widgets/base",
            "overflow": null,
            "_model_module_version": "1.2.0",
            "_view_count": null,
            "flex_flow": null,
            "width": null,
            "min_width": null,
            "border": null,
            "align_items": null,
            "bottom": null,
            "_model_module": "@jupyter-widgets/base",
            "top": null,
            "grid_column": null,
            "overflow_y": null,
            "overflow_x": null,
            "grid_auto_flow": null,
            "grid_area": null,
            "grid_template_columns": null,
            "flex": null,
            "_model_name": "LayoutModel",
            "justify_items": null,
            "grid_row": null,
            "max_height": null,
            "align_content": null,
            "visibility": null,
            "align_self": null,
            "height": null,
            "min_height": null,
            "padding": null,
            "grid_auto_rows": null,
            "grid_gap": null,
            "max_width": null,
            "order": null,
            "_view_module_version": "1.2.0",
            "grid_template_areas": null,
            "object_position": null,
            "object_fit": null,
            "grid_auto_columns": null,
            "margin": null,
            "display": null,
            "left": null
          }
        },
        "819b96b52b4040f5a9ff1f1a155d04b4": {
          "model_module": "@jupyter-widgets/controls",
          "model_name": "FloatProgressModel",
          "state": {
            "_view_name": "ProgressView",
            "style": "IPY_MODEL_1693b945d203437bb8c531ad73e8d6b2",
            "_dom_classes": [],
            "description": "100%",
            "_model_name": "FloatProgressModel",
            "bar_style": "success",
            "max": 346663984,
            "_view_module": "@jupyter-widgets/controls",
            "_model_module_version": "1.5.0",
            "value": 346663984,
            "_view_count": null,
            "_view_module_version": "1.5.0",
            "orientation": "horizontal",
            "min": 0,
            "description_tooltip": null,
            "_model_module": "@jupyter-widgets/controls",
            "layout": "IPY_MODEL_36b80e7ac8024a19b6ea4f68cccb8963"
          }
        },
        "b24c600b8f7a4f57aad31959aa0fee99": {
          "model_module": "@jupyter-widgets/controls",
          "model_name": "HTMLModel",
          "state": {
            "_view_name": "HTMLView",
            "style": "IPY_MODEL_5978174c89b64644874b86ac3ecba383",
            "_dom_classes": [],
            "description": "",
            "_model_name": "HTMLModel",
            "placeholder": "​",
            "_view_module": "@jupyter-widgets/controls",
            "_model_module_version": "1.5.0",
            "value": " 331M/331M [00:03&lt;00:00, 110MB/s]",
            "_view_count": null,
            "_view_module_version": "1.5.0",
            "description_tooltip": null,
            "_model_module": "@jupyter-widgets/controls",
            "layout": "IPY_MODEL_743601537027483582c27f6c97270921"
          }
        },
        "1693b945d203437bb8c531ad73e8d6b2": {
          "model_module": "@jupyter-widgets/controls",
          "model_name": "ProgressStyleModel",
          "state": {
            "_view_name": "StyleView",
            "_model_name": "ProgressStyleModel",
            "description_width": "initial",
            "_view_module": "@jupyter-widgets/base",
            "_model_module_version": "1.5.0",
            "_view_count": null,
            "_view_module_version": "1.2.0",
            "bar_color": null,
            "_model_module": "@jupyter-widgets/controls"
          }
        },
        "36b80e7ac8024a19b6ea4f68cccb8963": {
          "model_module": "@jupyter-widgets/base",
          "model_name": "LayoutModel",
          "state": {
            "_view_name": "LayoutView",
            "grid_template_rows": null,
            "right": null,
            "justify_content": null,
            "_view_module": "@jupyter-widgets/base",
            "overflow": null,
            "_model_module_version": "1.2.0",
            "_view_count": null,
            "flex_flow": null,
            "width": null,
            "min_width": null,
            "border": null,
            "align_items": null,
            "bottom": null,
            "_model_module": "@jupyter-widgets/base",
            "top": null,
            "grid_column": null,
            "overflow_y": null,
            "overflow_x": null,
            "grid_auto_flow": null,
            "grid_area": null,
            "grid_template_columns": null,
            "flex": null,
            "_model_name": "LayoutModel",
            "justify_items": null,
            "grid_row": null,
            "max_height": null,
            "align_content": null,
            "visibility": null,
            "align_self": null,
            "height": null,
            "min_height": null,
            "padding": null,
            "grid_auto_rows": null,
            "grid_gap": null,
            "max_width": null,
            "order": null,
            "_view_module_version": "1.2.0",
            "grid_template_areas": null,
            "object_position": null,
            "object_fit": null,
            "grid_auto_columns": null,
            "margin": null,
            "display": null,
            "left": null
          }
        },
        "5978174c89b64644874b86ac3ecba383": {
          "model_module": "@jupyter-widgets/controls",
          "model_name": "DescriptionStyleModel",
          "state": {
            "_view_name": "StyleView",
            "_model_name": "DescriptionStyleModel",
            "description_width": "",
            "_view_module": "@jupyter-widgets/base",
            "_model_module_version": "1.5.0",
            "_view_count": null,
            "_view_module_version": "1.2.0",
            "_model_module": "@jupyter-widgets/controls"
          }
        },
        "743601537027483582c27f6c97270921": {
          "model_module": "@jupyter-widgets/base",
          "model_name": "LayoutModel",
          "state": {
            "_view_name": "LayoutView",
            "grid_template_rows": null,
            "right": null,
            "justify_content": null,
            "_view_module": "@jupyter-widgets/base",
            "overflow": null,
            "_model_module_version": "1.2.0",
            "_view_count": null,
            "flex_flow": null,
            "width": null,
            "min_width": null,
            "border": null,
            "align_items": null,
            "bottom": null,
            "_model_module": "@jupyter-widgets/base",
            "top": null,
            "grid_column": null,
            "overflow_y": null,
            "overflow_x": null,
            "grid_auto_flow": null,
            "grid_area": null,
            "grid_template_columns": null,
            "flex": null,
            "_model_name": "LayoutModel",
            "justify_items": null,
            "grid_row": null,
            "max_height": null,
            "align_content": null,
            "visibility": null,
            "align_self": null,
            "height": null,
            "min_height": null,
            "padding": null,
            "grid_auto_rows": null,
            "grid_gap": null,
            "max_width": null,
            "order": null,
            "_view_module_version": "1.2.0",
            "grid_template_areas": null,
            "object_position": null,
            "object_fit": null,
            "grid_auto_columns": null,
            "margin": null,
            "display": null,
            "left": null
          }
        }
      }
    }
  },
  "cells": [
    {
      "cell_type": "markdown",
      "metadata": {
        "id": "ibD6bsRPl8Qu"
      },
      "source": [
        "# Building an end-to-end Speech Recognition model in PyTorch - [AssemblyAI](https://www.assemblyai.com/)"
      ]
    },
    {
      "cell_type": "markdown",
      "metadata": {
        "id": "q1fXgsDQmK09"
      },
      "source": [
        "## installing the requirements"
      ]
    },
    {
      "cell_type": "code",
      "metadata": {
        "id": "gwfN8o17Bdp2",
        "colab": {
          "base_uri": "https://localhost:8080/"
        },
        "outputId": "3c42624e-b1af-4b02-f7eb-48a670d85f27"
      },
      "source": [
        "!pip install torchaudio"
      ],
      "execution_count": 3,
      "outputs": [
        {
          "output_type": "stream",
          "text": [
            "Collecting torchaudio\n",
            "\u001b[?25l  Downloading https://files.pythonhosted.org/packages/3f/23/6b54106b3de029d3f10cf8debc302491c17630357449c900d6209665b302/torchaudio-0.7.0-cp36-cp36m-manylinux1_x86_64.whl (7.6MB)\n",
            "\u001b[K     |████████████████████████████████| 7.6MB 3.9MB/s \n",
            "\u001b[?25hRequirement already satisfied: torch==1.7.0 in /usr/local/lib/python3.6/dist-packages (from torchaudio) (1.7.0+cu101)\n",
            "Requirement already satisfied: typing-extensions in /usr/local/lib/python3.6/dist-packages (from torch==1.7.0->torchaudio) (3.7.4.3)\n",
            "Requirement already satisfied: numpy in /usr/local/lib/python3.6/dist-packages (from torch==1.7.0->torchaudio) (1.18.5)\n",
            "Requirement already satisfied: dataclasses in /usr/local/lib/python3.6/dist-packages (from torch==1.7.0->torchaudio) (0.8)\n",
            "Requirement already satisfied: future in /usr/local/lib/python3.6/dist-packages (from torch==1.7.0->torchaudio) (0.16.0)\n",
            "Installing collected packages: torchaudio\n",
            "Successfully installed torchaudio-0.7.0\n"
          ],
          "name": "stdout"
        }
      ]
    },
    {
      "cell_type": "code",
      "metadata": {
        "colab": {
          "base_uri": "https://localhost:8080/"
        },
        "id": "dBESozeu0z6D",
        "outputId": "5612834a-178b-44a0-b220-dfaf596cabf0"
      },
      "source": [
        "!pip install torch==1.5.1+cu92 torchvision==0.6.1+cu92 -f https://download.pytorch.org/whl/torch_stable.html"
      ],
      "execution_count": 1,
      "outputs": [
        {
          "output_type": "stream",
          "text": [
            "Looking in links: https://download.pytorch.org/whl/torch_stable.html\n",
            "Collecting torch==1.5.1+cu92\n",
            "\u001b[?25l  Downloading https://download.pytorch.org/whl/cu92/torch-1.5.1%2Bcu92-cp36-cp36m-linux_x86_64.whl (604.8MB)\n",
            "\u001b[K     |████████████████████████████████| 604.8MB 28kB/s \n",
            "\u001b[33mWARNING: Retrying (Retry(total=4, connect=None, read=None, redirect=None, status=None)) after connection broken by 'ProtocolError('Connection aborted.', ConnectionResetError(104, 'Connection reset by peer'))': /simple/torchvision/\u001b[0m\n",
            "\u001b[?25hCollecting torchvision==0.6.1+cu92\n",
            "\u001b[?25l  Downloading https://download.pytorch.org/whl/cu92/torchvision-0.6.1%2Bcu92-cp36-cp36m-linux_x86_64.whl (6.5MB)\n",
            "\u001b[K     |████████████████████████████████| 6.5MB 1.8MB/s \n",
            "\u001b[?25hRequirement already satisfied: numpy in /usr/local/lib/python3.6/dist-packages (from torch==1.5.1+cu92) (1.18.5)\n",
            "Requirement already satisfied: future in /usr/local/lib/python3.6/dist-packages (from torch==1.5.1+cu92) (0.16.0)\n",
            "Requirement already satisfied: pillow>=4.1.1 in /usr/local/lib/python3.6/dist-packages (from torchvision==0.6.1+cu92) (7.0.0)\n",
            "Installing collected packages: torch, torchvision\n",
            "  Found existing installation: torch 1.7.0+cu101\n",
            "    Uninstalling torch-1.7.0+cu101:\n",
            "      Successfully uninstalled torch-1.7.0+cu101\n",
            "  Found existing installation: torchvision 0.8.1+cu101\n",
            "    Uninstalling torchvision-0.8.1+cu101:\n",
            "      Successfully uninstalled torchvision-0.8.1+cu101\n",
            "Successfully installed torch-1.5.1+cu92 torchvision-0.6.1+cu92\n"
          ],
          "name": "stdout"
        }
      ]
    },
    {
      "cell_type": "code",
      "metadata": {
        "id": "H5Kfufzm1lo2"
      },
      "source": [
        "import torch"
      ],
      "execution_count": 1,
      "outputs": []
    },
    {
      "cell_type": "code",
      "metadata": {
        "colab": {
          "base_uri": "https://localhost:8080/"
        },
        "id": "ZEi3yUu01ty8",
        "outputId": "ede84297-aaa9-4ee1-a799-898a88a10a7a"
      },
      "source": [
        "import torch\n",
        "import torchaudio\n",
        "print(torch.__version__)\n",
        "print(torchaudio.__version__)"
      ],
      "execution_count": 4,
      "outputs": [
        {
          "output_type": "stream",
          "text": [
            "1.7.0+cu101\n",
            "0.7.0\n"
          ],
          "name": "stdout"
        },
        {
          "output_type": "stream",
          "text": [
            "/usr/local/lib/python3.6/dist-packages/torchaudio/backend/utils.py:54: UserWarning: \"sox\" backend is being deprecated. The default backend will be changed to \"sox_io\" backend in 0.8.0 and \"sox\" backend will be removed in 0.9.0. Please migrate to \"sox_io\" backend. Please refer to https://github.com/pytorch/audio/issues/903 for the detail.\n",
            "  '\"sox\" backend is being deprecated. '\n"
          ],
          "name": "stderr"
        }
      ]
    },
    {
      "cell_type": "markdown",
      "metadata": {
        "id": "tSKHvy8DmOCQ"
      },
      "source": [
        "## Setting up your data pipeline"
      ]
    },
    {
      "cell_type": "code",
      "metadata": {
        "id": "RVJs4Bk8FjjO",
        "colab": {
          "base_uri": "https://localhost:8080/"
        },
        "outputId": "1a8cf76f-a12d-4e1d-8a8d-8cd4a313879a"
      },
      "source": [
        "import os\n",
        "import torch\n",
        "import torch.nn as nn\n",
        "import torch.utils.data as data\n",
        "import torch.optim as optim\n",
        "import torch.nn.functional as F\n",
        "import torchaudio\n",
        "import numpy as np\n",
        "\n",
        "def avg_wer(wer_scores, combined_ref_len):\n",
        "    return float(sum(wer_scores)) / float(combined_ref_len)\n",
        "\n",
        "\n",
        "def _levenshtein_distance(ref, hyp):\n",
        "    \"\"\"Levenshtein distance is a string metric for measuring the difference\n",
        "    between two sequences. Informally, the levenshtein disctance is defined as\n",
        "    the minimum number of single-character edits (substitutions, insertions or\n",
        "    deletions) required to change one word into the other. We can naturally\n",
        "    extend the edits to word level when calculate levenshtein disctance for\n",
        "    two sentences.\n",
        "    \"\"\"\n",
        "    m = len(ref)\n",
        "    n = len(hyp)\n",
        "\n",
        "    # special case\n",
        "    if ref == hyp:\n",
        "        return 0\n",
        "    if m == 0:\n",
        "        return n\n",
        "    if n == 0:\n",
        "        return m\n",
        "\n",
        "    if m < n:\n",
        "        ref, hyp = hyp, ref\n",
        "        m, n = n, m\n",
        "\n",
        "    # use O(min(m, n)) space\n",
        "    distance = np.zeros((2, n + 1), dtype=np.int32)\n",
        "\n",
        "    # initialize distance matrix\n",
        "    for j in range(0,n + 1):\n",
        "        distance[0][j] = j\n",
        "\n",
        "    # calculate levenshtein distance\n",
        "    for i in range(1, m + 1):\n",
        "        prev_row_idx = (i - 1) % 2\n",
        "        cur_row_idx = i % 2\n",
        "        distance[cur_row_idx][0] = i\n",
        "        for j in range(1, n + 1):\n",
        "            if ref[i - 1] == hyp[j - 1]:\n",
        "                distance[cur_row_idx][j] = distance[prev_row_idx][j - 1]\n",
        "            else:\n",
        "                s_num = distance[prev_row_idx][j - 1] + 1\n",
        "                i_num = distance[cur_row_idx][j - 1] + 1\n",
        "                d_num = distance[prev_row_idx][j] + 1\n",
        "                distance[cur_row_idx][j] = min(s_num, i_num, d_num)\n",
        "\n",
        "    return distance[m % 2][n]\n",
        "\n",
        "\n",
        "def word_errors(reference, hypothesis, ignore_case=False, delimiter=' '):\n",
        "    \"\"\"Compute the levenshtein distance between reference sequence and\n",
        "    hypothesis sequence in word-level.\n",
        "    :param reference: The reference sentence.\n",
        "    :type reference: basestring\n",
        "    :param hypothesis: The hypothesis sentence.\n",
        "    :type hypothesis: basestring\n",
        "    :param ignore_case: Whether case-sensitive or not.\n",
        "    :type ignore_case: bool\n",
        "    :param delimiter: Delimiter of input sentences.\n",
        "    :type delimiter: char\n",
        "    :return: Levenshtein distance and word number of reference sentence.\n",
        "    :rtype: list\n",
        "    \"\"\"\n",
        "    if ignore_case == True:\n",
        "        reference = reference.lower()\n",
        "        hypothesis = hypothesis.lower()\n",
        "\n",
        "    ref_words = reference.split(delimiter)\n",
        "    hyp_words = hypothesis.split(delimiter)\n",
        "\n",
        "    edit_distance = _levenshtein_distance(ref_words, hyp_words)\n",
        "    return float(edit_distance), len(ref_words)\n",
        "\n",
        "\n",
        "def char_errors(reference, hypothesis, ignore_case=False, remove_space=False):\n",
        "    \"\"\"Compute the levenshtein distance between reference sequence and\n",
        "    hypothesis sequence in char-level.\n",
        "    :param reference: The reference sentence.\n",
        "    :type reference: basestring\n",
        "    :param hypothesis: The hypothesis sentence.\n",
        "    :type hypothesis: basestring\n",
        "    :param ignore_case: Whether case-sensitive or not.\n",
        "    :type ignore_case: bool\n",
        "    :param remove_space: Whether remove internal space characters\n",
        "    :type remove_space: bool\n",
        "    :return: Levenshtein distance and length of reference sentence.\n",
        "    :rtype: list\n",
        "    \"\"\"\n",
        "    if ignore_case == True:\n",
        "        reference = reference.lower()\n",
        "        hypothesis = hypothesis.lower()\n",
        "\n",
        "    join_char = ' '\n",
        "    if remove_space == True:\n",
        "        join_char = ''\n",
        "\n",
        "    reference = join_char.join(filter(None, reference.split(' ')))\n",
        "    hypothesis = join_char.join(filter(None, hypothesis.split(' ')))\n",
        "\n",
        "    edit_distance = _levenshtein_distance(reference, hypothesis)\n",
        "    return float(edit_distance), len(reference)\n",
        "\n",
        "\n",
        "def wer(reference, hypothesis, ignore_case=False, delimiter=' '):\n",
        "    \"\"\"Calculate word error rate (WER). WER compares reference text and\n",
        "    hypothesis text in word-level. WER is defined as:\n",
        "    .. math::\n",
        "        WER = (Sw + Dw + Iw) / Nw\n",
        "    where\n",
        "    .. code-block:: text\n",
        "        Sw is the number of words subsituted,\n",
        "        Dw is the number of words deleted,\n",
        "        Iw is the number of words inserted,\n",
        "        Nw is the number of words in the reference\n",
        "    We can use levenshtein distance to calculate WER. Please draw an attention\n",
        "    that empty items will be removed when splitting sentences by delimiter.\n",
        "    :param reference: The reference sentence.\n",
        "    :type reference: basestring\n",
        "    :param hypothesis: The hypothesis sentence.\n",
        "    :type hypothesis: basestring\n",
        "    :param ignore_case: Whether case-sensitive or not.\n",
        "    :type ignore_case: bool\n",
        "    :param delimiter: Delimiter of input sentences.\n",
        "    :type delimiter: char\n",
        "    :return: Word error rate.\n",
        "    :rtype: float\n",
        "    :raises ValueError: If word number of reference is zero.\n",
        "    \"\"\"\n",
        "    edit_distance, ref_len = word_errors(reference, hypothesis, ignore_case,\n",
        "                                         delimiter)\n",
        "\n",
        "    if ref_len == 0:\n",
        "        raise ValueError(\"Reference's word number should be greater than 0.\")\n",
        "\n",
        "    wer = float(edit_distance) / ref_len\n",
        "    return wer\n",
        "\n",
        "\n",
        "def cer(reference, hypothesis, ignore_case=False, remove_space=False):\n",
        "    \"\"\"Calculate charactor error rate (CER). CER compares reference text and\n",
        "    hypothesis text in char-level. CER is defined as:\n",
        "    .. math::\n",
        "        CER = (Sc + Dc + Ic) / Nc\n",
        "    where\n",
        "    .. code-block:: text\n",
        "        Sc is the number of characters substituted,\n",
        "        Dc is the number of characters deleted,\n",
        "        Ic is the number of characters inserted\n",
        "        Nc is the number of characters in the reference\n",
        "    We can use levenshtein distance to calculate CER. Chinese input should be\n",
        "    encoded to unicode. Please draw an attention that the leading and tailing\n",
        "    space characters will be truncated and multiple consecutive space\n",
        "    characters in a sentence will be replaced by one space character.\n",
        "    :param reference: The reference sentence.\n",
        "    :type reference: basestring\n",
        "    :param hypothesis: The hypothesis sentence.\n",
        "    :type hypothesis: basestring\n",
        "    :param ignore_case: Whether case-sensitive or not.\n",
        "    :type ignore_case: bool\n",
        "    :param remove_space: Whether remove internal space characters\n",
        "    :type remove_space: bool\n",
        "    :return: Character error rate.\n",
        "    :rtype: float\n",
        "    :raises ValueError: If the reference length is zero.\n",
        "    \"\"\"\n",
        "    edit_distance, ref_len = char_errors(reference, hypothesis, ignore_case,\n",
        "                                         remove_space)\n",
        "\n",
        "    if ref_len == 0:\n",
        "        raise ValueError(\"Length of reference should be greater than 0.\")\n",
        "\n",
        "    cer = float(edit_distance) / ref_len\n",
        "    return cer\n",
        "\n",
        "class TextTransform:\n",
        "    \"\"\"Maps characters to integers and vice versa\"\"\"\n",
        "    def __init__(self):\n",
        "        char_map_str = \"\"\"\n",
        "        ' 0\n",
        "        <SPACE> 1\n",
        "        a 2\n",
        "        b 3\n",
        "        c 4\n",
        "        d 5\n",
        "        e 6\n",
        "        f 7\n",
        "        g 8\n",
        "        h 9\n",
        "        i 10\n",
        "        j 11\n",
        "        k 12\n",
        "        l 13\n",
        "        m 14\n",
        "        n 15\n",
        "        o 16\n",
        "        p 17\n",
        "        q 18\n",
        "        r 19\n",
        "        s 20\n",
        "        t 21\n",
        "        u 22\n",
        "        v 23\n",
        "        w 24\n",
        "        x 25\n",
        "        y 26\n",
        "        z 27\n",
        "        \"\"\"\n",
        "        self.char_map = {}\n",
        "        self.index_map = {}\n",
        "        for line in char_map_str.strip().split('\\n'):\n",
        "            ch, index = line.split()\n",
        "            self.char_map[ch] = int(index)\n",
        "            self.index_map[int(index)] = ch\n",
        "        self.index_map[1] = ' '\n",
        "\n",
        "    def text_to_int(self, text):\n",
        "        \"\"\" Use a character map and convert text to an integer sequence \"\"\"\n",
        "        int_sequence = []\n",
        "        for c in text:\n",
        "            if c == ' ':\n",
        "                ch = self.char_map['<SPACE>']\n",
        "            else:\n",
        "                ch = self.char_map[c]\n",
        "            int_sequence.append(ch)\n",
        "        return int_sequence\n",
        "\n",
        "    def int_to_text(self, labels):\n",
        "        \"\"\" Use a character map and convert integer labels to an text sequence \"\"\"\n",
        "        string = []\n",
        "        for i in labels:\n",
        "            string.append(self.index_map[i])\n",
        "        return ''.join(string).replace('<SPACE>', ' ')\n",
        "\n",
        "train_audio_transforms = nn.Sequential(\n",
        "    torchaudio.transforms.MelSpectrogram(sample_rate=16000, n_mels=128),\n",
        "    torchaudio.transforms.FrequencyMasking(freq_mask_param=30),\n",
        "    torchaudio.transforms.TimeMasking(time_mask_param=100)\n",
        ")\n",
        "\n",
        "valid_audio_transforms = torchaudio.transforms.MelSpectrogram()\n",
        "\n",
        "text_transform = TextTransform()\n",
        "\n",
        "def data_processing(data, data_type=\"train\"):\n",
        "    spectrograms = []\n",
        "    labels = []\n",
        "    input_lengths = []\n",
        "    label_lengths = []\n",
        "    for (waveform, _, utterance, _, _, _) in data:\n",
        "        if data_type == 'train':\n",
        "            spec = train_audio_transforms(waveform).squeeze(0).transpose(0, 1)\n",
        "        elif data_type == 'valid':\n",
        "            spec = valid_audio_transforms(waveform).squeeze(0).transpose(0, 1)\n",
        "        else:\n",
        "            raise Exception('data_type should be train or valid')\n",
        "        spectrograms.append(spec)\n",
        "        label = torch.Tensor(text_transform.text_to_int(utterance.lower()))\n",
        "        labels.append(label)\n",
        "        input_lengths.append(spec.shape[0]//2)\n",
        "        label_lengths.append(len(label))\n",
        "\n",
        "    spectrograms = nn.utils.rnn.pad_sequence(spectrograms, batch_first=True).unsqueeze(1).transpose(2, 3)\n",
        "    labels = nn.utils.rnn.pad_sequence(labels, batch_first=True)\n",
        "\n",
        "    return spectrograms, labels, input_lengths, label_lengths\n",
        "\n",
        "\n",
        "def GreedyDecoder(output, labels, label_lengths, blank_label=28, collapse_repeated=True):\n",
        "\targ_maxes = torch.argmax(output, dim=2)\n",
        "\tdecodes = []\n",
        "\ttargets = []\n",
        "\tfor i, args in enumerate(arg_maxes):\n",
        "\t\tdecode = []\n",
        "\t\ttargets.append(text_transform.int_to_text(labels[i][:label_lengths[i]].tolist()))\n",
        "\t\tfor j, index in enumerate(args):\n",
        "\t\t\tif index != blank_label:\n",
        "\t\t\t\tif collapse_repeated and j != 0 and index == args[j -1]:\n",
        "\t\t\t\t\tcontinue\n",
        "\t\t\t\tdecode.append(index.item())\n",
        "\t\tdecodes.append(text_transform.int_to_text(decode))\n",
        "\treturn decodes, targets\n"
      ],
      "execution_count": null,
      "outputs": [
        {
          "output_type": "stream",
          "text": [
            "/usr/local/lib/python3.6/dist-packages/torchaudio/backend/utils.py:54: UserWarning: \"sox\" backend is being deprecated. The default backend will be changed to \"sox_io\" backend in 0.8.0 and \"sox\" backend will be removed in 0.9.0. Please migrate to \"sox_io\" backend. Please refer to https://github.com/pytorch/audio/issues/903 for the detail.\n",
            "  '\"sox\" backend is being deprecated. '\n",
            "/usr/local/lib/python3.6/dist-packages/torchaudio/functional.py:318: UserWarning: At least one mel filterbank has all zero values. The value for `n_mels` (128) may be set too high. Or, the value for `n_freqs` (201) may be set too low.\n",
            "  \"At least one mel filterbank has all zero values. \"\n"
          ],
          "name": "stderr"
        }
      ]
    },
    {
      "cell_type": "markdown",
      "metadata": {
        "id": "4XdSlhAQnDEA"
      },
      "source": [
        "## The Model\n",
        "Base of of Deep Speech 2 with some personal improvements"
      ]
    },
    {
      "cell_type": "code",
      "metadata": {
        "id": "65H1-PCjm-FB"
      },
      "source": [
        "class CNNLayerNorm(nn.Module):\n",
        "    \"\"\"Layer normalization built for cnns input\"\"\"\n",
        "    def __init__(self, n_feats):\n",
        "        super(CNNLayerNorm, self).__init__()\n",
        "        self.layer_norm = nn.LayerNorm(n_feats)\n",
        "\n",
        "    def forward(self, x):\n",
        "        # x (batch, channel, feature, time)\n",
        "        x = x.transpose(2, 3).contiguous() # (batch, channel, time, feature)\n",
        "        x = self.layer_norm(x)\n",
        "        return x.transpose(2, 3).contiguous() # (batch, channel, feature, time) \n",
        "\n",
        "\n",
        "class ResidualCNN(nn.Module):\n",
        "    \"\"\"Residual CNN inspired by https://arxiv.org/pdf/1603.05027.pdf\n",
        "        except with layer norm instead of batch norm\n",
        "    \"\"\"\n",
        "    def __init__(self, in_channels, out_channels, kernel, stride, dropout, n_feats):\n",
        "        super(ResidualCNN, self).__init__()\n",
        "\n",
        "        self.cnn1 = nn.Conv2d(in_channels, out_channels, kernel, stride, padding=kernel//2)\n",
        "        self.cnn2 = nn.Conv2d(out_channels, out_channels, kernel, stride, padding=kernel//2)\n",
        "        self.dropout1 = nn.Dropout(dropout)\n",
        "        self.dropout2 = nn.Dropout(dropout)\n",
        "        self.layer_norm1 = CNNLayerNorm(n_feats)\n",
        "        self.layer_norm2 = CNNLayerNorm(n_feats)\n",
        "\n",
        "    def forward(self, x):\n",
        "        residual = x  # (batch, channel, feature, time)\n",
        "        x = self.layer_norm1(x)\n",
        "        x = F.gelu(x)\n",
        "        x = self.dropout1(x)\n",
        "        x = self.cnn1(x)\n",
        "        x = self.layer_norm2(x)\n",
        "        x = F.gelu(x)\n",
        "        x = self.dropout2(x)\n",
        "        x = self.cnn2(x)\n",
        "        x += residual\n",
        "        return x # (batch, channel, feature, time)\n",
        "\n",
        "\n",
        "class BidirectionalGRU(nn.Module):\n",
        "\n",
        "    def __init__(self, rnn_dim, hidden_size, dropout, batch_first):\n",
        "        super(BidirectionalGRU, self).__init__()\n",
        "\n",
        "        self.BiGRU = nn.GRU(\n",
        "            input_size=rnn_dim, hidden_size=hidden_size,\n",
        "            num_layers=1, batch_first=batch_first, bidirectional=True)\n",
        "        self.layer_norm = nn.LayerNorm(rnn_dim)\n",
        "        self.dropout = nn.Dropout(dropout)\n",
        "\n",
        "    def forward(self, x):\n",
        "        x = self.layer_norm(x)\n",
        "        x = F.gelu(x)\n",
        "        x, _ = self.BiGRU(x)\n",
        "        x = self.dropout(x)\n",
        "        return x\n",
        "\n",
        "\n",
        "class SpeechRecognitionModel(nn.Module):\n",
        "    \n",
        "    def __init__(self, n_cnn_layers, n_rnn_layers, rnn_dim, n_class, n_feats, stride=2, dropout=0.1):\n",
        "        super(SpeechRecognitionModel, self).__init__()\n",
        "        n_feats = n_feats//2\n",
        "        self.cnn = nn.Conv2d(1, 32, 3, stride=stride, padding=3//2)  # cnn for extracting heirachal features\n",
        "\n",
        "        # n residual cnn layers with filter size of 32\n",
        "        self.rescnn_layers = nn.Sequential(*[\n",
        "            ResidualCNN(32, 32, kernel=3, stride=1, dropout=dropout, n_feats=n_feats) \n",
        "            for _ in range(n_cnn_layers)\n",
        "        ])\n",
        "        self.fully_connected = nn.Linear(n_feats*32, rnn_dim)\n",
        "        self.birnn_layers = nn.Sequential(*[\n",
        "            BidirectionalGRU(rnn_dim=rnn_dim if i==0 else rnn_dim*2,\n",
        "                             hidden_size=rnn_dim, dropout=dropout, batch_first=i==0)\n",
        "            for i in range(n_rnn_layers)\n",
        "        ])\n",
        "        self.classifier = nn.Sequential(\n",
        "            nn.Linear(rnn_dim*2, rnn_dim),  # birnn returns rnn_dim*2\n",
        "            nn.GELU(),\n",
        "            nn.Dropout(dropout),\n",
        "            nn.Linear(rnn_dim, n_class)\n",
        "        )\n",
        "\n",
        "    def forward(self, x):\n",
        "        x = self.cnn(x)\n",
        "        x = self.rescnn_layers(x)\n",
        "        sizes = x.size()\n",
        "        x = x.view(sizes[0], sizes[1] * sizes[2], sizes[3])  # (batch, feature, time)\n",
        "        x = x.transpose(1, 2) # (batch, time, feature)\n",
        "        x = self.fully_connected(x)\n",
        "        x = self.birnn_layers(x)\n",
        "        x = self.classifier(x)\n",
        "        return x\n"
      ],
      "execution_count": null,
      "outputs": []
    },
    {
      "cell_type": "markdown",
      "metadata": {
        "id": "CuguNEzKnMOn"
      },
      "source": [
        "## The Training and Evaluating Script"
      ]
    },
    {
      "cell_type": "code",
      "metadata": {
        "id": "ydkqGeOwnPGY"
      },
      "source": [
        "class IterMeter(object):\n",
        "    \"\"\"keeps track of total iterations\"\"\"\n",
        "    def __init__(self):\n",
        "        self.val = 0\n",
        "\n",
        "    def step(self):\n",
        "        self.val += 1\n",
        "\n",
        "    def get(self):\n",
        "        return self.val\n",
        "\n",
        "\n",
        "def train(model, device, train_loader, criterion, optimizer, scheduler, epoch, iter_meter):\n",
        "    model.train()\n",
        "    data_len = len(train_loader.dataset)\n",
        "    for batch_idx, _data in enumerate(train_loader):\n",
        "        spectrograms, labels, input_lengths, label_lengths = _data \n",
        "        spectrograms, labels = spectrograms.to(device), labels.to(device)\n",
        "\n",
        "        optimizer.zero_grad()\n",
        "\n",
        "        output = model(spectrograms)  # (batch, time, n_class)\n",
        "        output = F.log_softmax(output, dim=2)\n",
        "        output = output.transpose(0, 1) # (time, batch, n_class)\n",
        "\n",
        "        loss = criterion(output, labels, input_lengths, label_lengths)\n",
        "        loss.backward()\n",
        "\n",
        "        optimizer.step()\n",
        "        scheduler.step()\n",
        "        iter_meter.step()\n",
        "        if batch_idx % 100 == 0 or batch_idx == data_len:\n",
        "            print('Train Epoch: {} [{}/{} ({:.0f}%)]\\tLoss: {:.6f}'.format(\n",
        "                epoch, batch_idx * len(spectrograms), data_len,\n",
        "                100. * batch_idx / len(train_loader), loss.item()))\n",
        "\n",
        "\n",
        "def test(model, device, test_loader, criterion, epoch, iter_meter):\n",
        "    print('\\nevaluating...')\n",
        "    model.eval()\n",
        "    test_loss = 0\n",
        "    test_cer, test_wer = [], []\n",
        "    with torch.no_grad():\n",
        "        for i, _data in enumerate(test_loader):\n",
        "            spectrograms, labels, input_lengths, label_lengths = _data \n",
        "            spectrograms, labels = spectrograms.to(device), labels.to(device)\n",
        "\n",
        "            output = model(spectrograms)  # (batch, time, n_class)\n",
        "            output = F.log_softmax(output, dim=2)\n",
        "            output = output.transpose(0, 1) # (time, batch, n_class)\n",
        "\n",
        "            loss = criterion(output, labels, input_lengths, label_lengths)\n",
        "            test_loss += loss.item() / len(test_loader)\n",
        "\n",
        "            decoded_preds, decoded_targets = GreedyDecoder(output.transpose(0, 1), labels, label_lengths)\n",
        "            for j in range(len(decoded_preds)):\n",
        "                test_cer.append(cer(decoded_targets[j], decoded_preds[j]))\n",
        "                test_wer.append(wer(decoded_targets[j], decoded_preds[j]))\n",
        "\n",
        "\n",
        "    avg_cer = sum(test_cer)/len(test_cer)\n",
        "    avg_wer = sum(test_wer)/len(test_wer)\n",
        "\n",
        "    print('Test set: Average loss: {:.4f}, Average CER: {:4f} Average WER: {:.4f}\\n'.format(test_loss, avg_cer, avg_wer))\n",
        "\n",
        "\n",
        "def main(learning_rate=5e-4, batch_size=20, epochs=10,\n",
        "        train_url=\"train-clean-100\", test_url=\"test-clean\"):\n",
        "\n",
        "    hparams = {\n",
        "        \"n_cnn_layers\": 3,\n",
        "        \"n_rnn_layers\": 5,\n",
        "        \"rnn_dim\": 512,\n",
        "        \"n_class\": 29,\n",
        "        \"n_feats\": 128,\n",
        "        \"stride\":2,\n",
        "        \"dropout\": 0.1,\n",
        "        \"learning_rate\": learning_rate,\n",
        "        \"batch_size\": batch_size,\n",
        "        \"epochs\": epochs\n",
        "    }\n",
        "\n",
        "    use_cuda = torch.cuda.is_available()\n",
        "    torch.manual_seed(7)\n",
        "    device = torch.device(\"cuda\" if use_cuda else \"cpu\")\n",
        "\n",
        "    if not os.path.isdir(\"./data\"):\n",
        "        os.makedirs(\"./data\")\n",
        "\n",
        "    train_dataset = torchaudio.datasets.LIBRISPEECH(\"./data\", url=train_url, download=True)\n",
        "    test_dataset = torchaudio.datasets.LIBRISPEECH(\"./data\", url=test_url, download=True)\n",
        "\n",
        "    kwargs = {'num_workers': 1, 'pin_memory': True} if use_cuda else {}\n",
        "    train_loader = data.DataLoader(dataset=train_dataset,\n",
        "                                batch_size=hparams['batch_size'],\n",
        "                                shuffle=True,\n",
        "                                collate_fn=lambda x: data_processing(x, 'train'),\n",
        "                                **kwargs)\n",
        "    test_loader = data.DataLoader(dataset=test_dataset,\n",
        "                                batch_size=hparams['batch_size'],\n",
        "                                shuffle=False,\n",
        "                                collate_fn=lambda x: data_processing(x, 'valid'),\n",
        "                                **kwargs)\n",
        "\n",
        "    model = SpeechRecognitionModel(\n",
        "        hparams['n_cnn_layers'], hparams['n_rnn_layers'], hparams['rnn_dim'],\n",
        "        hparams['n_class'], hparams['n_feats'], hparams['stride'], hparams['dropout']\n",
        "        ).to(device)\n",
        "\n",
        "    print(model)\n",
        "    print('Num Model Parameters', sum([param.nelement() for param in model.parameters()]))\n",
        "\n",
        "    optimizer = optim.AdamW(model.parameters(), hparams['learning_rate'])\n",
        "    criterion = nn.CTCLoss(blank=28).to(device)\n",
        "    scheduler = optim.lr_scheduler.OneCycleLR(optimizer, max_lr=hparams['learning_rate'], \n",
        "                                            steps_per_epoch=int(len(train_loader)),\n",
        "                                            epochs=hparams['epochs'],\n",
        "                                            anneal_strategy='linear')\n",
        "    \n",
        "    iter_meter = IterMeter()\n",
        "    for epoch in range(1, epochs + 1):\n",
        "        train(model, device, train_loader, criterion, optimizer, scheduler, epoch, iter_meter)\n",
        "        test(model, device, test_loader, criterion, epoch, iter_meter)\n",
        "    # Save the model\n",
        "    os.chdir(\"./data\")\n",
        "    torch.save(model.to(device), 'audio_to_text_model.pt')"
      ],
      "execution_count": null,
      "outputs": []
    },
    {
      "cell_type": "markdown",
      "metadata": {
        "id": "HxRIb_WempDq"
      },
      "source": [
        "## GPU runtime\n",
        "If you are using a GPU runtime, this will let you know what GPU and how much memory is available. Adjust your batch_size depending on which GPU"
      ]
    },
    {
      "cell_type": "code",
      "metadata": {
        "id": "nlUSuAJwlzo8",
        "colab": {
          "base_uri": "https://localhost:8080/"
        },
        "outputId": "e54f03a4-2bf1-48cf-a24a-dd94456cb367"
      },
      "source": [
        "!nvidia-smi"
      ],
      "execution_count": null,
      "outputs": [
        {
          "output_type": "stream",
          "text": [
            "Sun Nov 29 14:05:32 2020       \n",
            "+-----------------------------------------------------------------------------+\n",
            "| NVIDIA-SMI 455.38       Driver Version: 418.67       CUDA Version: 10.1     |\n",
            "|-------------------------------+----------------------+----------------------+\n",
            "| GPU  Name        Persistence-M| Bus-Id        Disp.A | Volatile Uncorr. ECC |\n",
            "| Fan  Temp  Perf  Pwr:Usage/Cap|         Memory-Usage | GPU-Util  Compute M. |\n",
            "|                               |                      |               MIG M. |\n",
            "|===============================+======================+======================|\n",
            "|   0  Tesla V100-SXM2...  Off  | 00000000:00:04.0 Off |                    0 |\n",
            "| N/A   35C    P0    23W / 300W |      0MiB / 16130MiB |      0%      Default |\n",
            "|                               |                      |                 ERR! |\n",
            "+-------------------------------+----------------------+----------------------+\n",
            "                                                                               \n",
            "+-----------------------------------------------------------------------------+\n",
            "| Processes:                                                                  |\n",
            "|  GPU   GI   CI        PID   Type   Process name                  GPU Memory |\n",
            "|        ID   ID                                                   Usage      |\n",
            "|=============================================================================|\n",
            "|  No running processes found                                                 |\n",
            "+-----------------------------------------------------------------------------+\n"
          ],
          "name": "stdout"
        }
      ]
    },
    {
      "cell_type": "markdown",
      "metadata": {
        "id": "hXvlWZeVpXfX"
      },
      "source": [
        "## Train\n",
        "this will download the data on first run and may take a while. "
      ]
    },
    {
      "cell_type": "code",
      "metadata": {
        "id": "XZodve8PGKfS",
        "colab": {
          "base_uri": "https://localhost:8080/",
          "height": 1000,
          "referenced_widgets": [
            "fd680544e6d544e7b745d41e99ea8176",
            "e901c2fe371d46a596c58f5c2f03ccf7",
            "87d6e03f81f34336ba58d448c4ea3c8c",
            "cb99760fb7754157b952dcedff55da57",
            "1827770948ad45be82916b59076713ea",
            "4d90e1110fa34520a01918568a5a8a6b",
            "7f8dbdad962c47f9b914583f413ea8c2",
            "e6f1a88825634b728eaba1a55bb89c39",
            "68aa92c99b604732915cd8def0901bd6",
            "12ceadaa98e742408e0c28d708b237c1",
            "819b96b52b4040f5a9ff1f1a155d04b4",
            "b24c600b8f7a4f57aad31959aa0fee99",
            "1693b945d203437bb8c531ad73e8d6b2",
            "36b80e7ac8024a19b6ea4f68cccb8963",
            "5978174c89b64644874b86ac3ecba383",
            "743601537027483582c27f6c97270921"
          ]
        },
        "outputId": "c3b95708-f1b2-4eb6-9d7f-d37588e4ffba"
      },
      "source": [
        "learning_rate = 5e-4\n",
        "batch_size = 10\n",
        "epochs = 10\n",
        "libri_train_set = \"train-clean-100\"\n",
        "libri_test_set = \"test-clean\"\n",
        "\n",
        "main(learning_rate, batch_size, epochs, libri_train_set, libri_test_set)"
      ],
      "execution_count": null,
      "outputs": [
        {
          "output_type": "display_data",
          "data": {
            "application/vnd.jupyter.widget-view+json": {
              "model_id": "fd680544e6d544e7b745d41e99ea8176",
              "version_minor": 0,
              "version_major": 2
            },
            "text/plain": [
              "HBox(children=(FloatProgress(value=0.0, max=6387309499.0), HTML(value='')))"
            ]
          },
          "metadata": {
            "tags": []
          }
        },
        {
          "output_type": "stream",
          "text": [
            "\n"
          ],
          "name": "stdout"
        },
        {
          "output_type": "display_data",
          "data": {
            "application/vnd.jupyter.widget-view+json": {
              "model_id": "68aa92c99b604732915cd8def0901bd6",
              "version_minor": 0,
              "version_major": 2
            },
            "text/plain": [
              "HBox(children=(FloatProgress(value=0.0, max=346663984.0), HTML(value='')))"
            ]
          },
          "metadata": {
            "tags": []
          }
        },
        {
          "output_type": "stream",
          "text": [
            "\n",
            "SpeechRecognitionModel(\n",
            "  (cnn): Conv2d(1, 32, kernel_size=(3, 3), stride=(2, 2), padding=(1, 1))\n",
            "  (rescnn_layers): Sequential(\n",
            "    (0): ResidualCNN(\n",
            "      (cnn1): Conv2d(32, 32, kernel_size=(3, 3), stride=(1, 1), padding=(1, 1))\n",
            "      (cnn2): Conv2d(32, 32, kernel_size=(3, 3), stride=(1, 1), padding=(1, 1))\n",
            "      (dropout1): Dropout(p=0.1, inplace=False)\n",
            "      (dropout2): Dropout(p=0.1, inplace=False)\n",
            "      (layer_norm1): CNNLayerNorm(\n",
            "        (layer_norm): LayerNorm((64,), eps=1e-05, elementwise_affine=True)\n",
            "      )\n",
            "      (layer_norm2): CNNLayerNorm(\n",
            "        (layer_norm): LayerNorm((64,), eps=1e-05, elementwise_affine=True)\n",
            "      )\n",
            "    )\n",
            "    (1): ResidualCNN(\n",
            "      (cnn1): Conv2d(32, 32, kernel_size=(3, 3), stride=(1, 1), padding=(1, 1))\n",
            "      (cnn2): Conv2d(32, 32, kernel_size=(3, 3), stride=(1, 1), padding=(1, 1))\n",
            "      (dropout1): Dropout(p=0.1, inplace=False)\n",
            "      (dropout2): Dropout(p=0.1, inplace=False)\n",
            "      (layer_norm1): CNNLayerNorm(\n",
            "        (layer_norm): LayerNorm((64,), eps=1e-05, elementwise_affine=True)\n",
            "      )\n",
            "      (layer_norm2): CNNLayerNorm(\n",
            "        (layer_norm): LayerNorm((64,), eps=1e-05, elementwise_affine=True)\n",
            "      )\n",
            "    )\n",
            "    (2): ResidualCNN(\n",
            "      (cnn1): Conv2d(32, 32, kernel_size=(3, 3), stride=(1, 1), padding=(1, 1))\n",
            "      (cnn2): Conv2d(32, 32, kernel_size=(3, 3), stride=(1, 1), padding=(1, 1))\n",
            "      (dropout1): Dropout(p=0.1, inplace=False)\n",
            "      (dropout2): Dropout(p=0.1, inplace=False)\n",
            "      (layer_norm1): CNNLayerNorm(\n",
            "        (layer_norm): LayerNorm((64,), eps=1e-05, elementwise_affine=True)\n",
            "      )\n",
            "      (layer_norm2): CNNLayerNorm(\n",
            "        (layer_norm): LayerNorm((64,), eps=1e-05, elementwise_affine=True)\n",
            "      )\n",
            "    )\n",
            "  )\n",
            "  (fully_connected): Linear(in_features=2048, out_features=512, bias=True)\n",
            "  (birnn_layers): Sequential(\n",
            "    (0): BidirectionalGRU(\n",
            "      (BiGRU): GRU(512, 512, batch_first=True, bidirectional=True)\n",
            "      (layer_norm): LayerNorm((512,), eps=1e-05, elementwise_affine=True)\n",
            "      (dropout): Dropout(p=0.1, inplace=False)\n",
            "    )\n",
            "    (1): BidirectionalGRU(\n",
            "      (BiGRU): GRU(1024, 512, bidirectional=True)\n",
            "      (layer_norm): LayerNorm((1024,), eps=1e-05, elementwise_affine=True)\n",
            "      (dropout): Dropout(p=0.1, inplace=False)\n",
            "    )\n",
            "    (2): BidirectionalGRU(\n",
            "      (BiGRU): GRU(1024, 512, bidirectional=True)\n",
            "      (layer_norm): LayerNorm((1024,), eps=1e-05, elementwise_affine=True)\n",
            "      (dropout): Dropout(p=0.1, inplace=False)\n",
            "    )\n",
            "    (3): BidirectionalGRU(\n",
            "      (BiGRU): GRU(1024, 512, bidirectional=True)\n",
            "      (layer_norm): LayerNorm((1024,), eps=1e-05, elementwise_affine=True)\n",
            "      (dropout): Dropout(p=0.1, inplace=False)\n",
            "    )\n",
            "    (4): BidirectionalGRU(\n",
            "      (BiGRU): GRU(1024, 512, bidirectional=True)\n",
            "      (layer_norm): LayerNorm((1024,), eps=1e-05, elementwise_affine=True)\n",
            "      (dropout): Dropout(p=0.1, inplace=False)\n",
            "    )\n",
            "  )\n",
            "  (classifier): Sequential(\n",
            "    (0): Linear(in_features=1024, out_features=512, bias=True)\n",
            "    (1): GELU()\n",
            "    (2): Dropout(p=0.1, inplace=False)\n",
            "    (3): Linear(in_features=512, out_features=29, bias=True)\n",
            "  )\n",
            ")\n",
            "Num Model Parameters 23705373\n"
          ],
          "name": "stdout"
        },
        {
          "output_type": "stream",
          "text": [
            "/usr/local/lib/python3.6/dist-packages/torch/functional.py:516: UserWarning: stft will require the return_complex parameter be explicitly  specified in a future PyTorch release. Use return_complex=False  to preserve the current behavior or return_complex=True to return  a complex output. (Triggered internally at  /pytorch/aten/src/ATen/native/SpectralOps.cpp:653.)\n",
            "  normalized, onesided, return_complex)\n",
            "/usr/local/lib/python3.6/dist-packages/torch/functional.py:516: UserWarning: The function torch.rfft is deprecated and will be removed in a future PyTorch release. Use the new torch.fft module functions, instead, by importing torch.fft and calling torch.fft.fft or torch.fft.rfft. (Triggered internally at  /pytorch/aten/src/ATen/native/SpectralOps.cpp:590.)\n",
            "  normalized, onesided, return_complex)\n"
          ],
          "name": "stderr"
        },
        {
          "output_type": "stream",
          "text": [
            "Train Epoch: 1 [0/28539 (0%)]\tLoss: 7.133505\n",
            "Train Epoch: 1 [1000/28539 (4%)]\tLoss: 2.908241\n",
            "Train Epoch: 1 [2000/28539 (7%)]\tLoss: 2.871240\n",
            "Train Epoch: 1 [3000/28539 (11%)]\tLoss: 2.866894\n",
            "Train Epoch: 1 [4000/28539 (14%)]\tLoss: 2.879892\n",
            "Train Epoch: 1 [5000/28539 (18%)]\tLoss: 2.869452\n",
            "Train Epoch: 1 [6000/28539 (21%)]\tLoss: 2.845652\n",
            "Train Epoch: 1 [7000/28539 (25%)]\tLoss: 2.855890\n",
            "Train Epoch: 1 [8000/28539 (28%)]\tLoss: 2.871897\n",
            "Train Epoch: 1 [9000/28539 (32%)]\tLoss: 2.842645\n",
            "Train Epoch: 1 [10000/28539 (35%)]\tLoss: 2.866570\n",
            "Train Epoch: 1 [11000/28539 (39%)]\tLoss: 2.853431\n",
            "Train Epoch: 1 [12000/28539 (42%)]\tLoss: 2.830584\n",
            "Train Epoch: 1 [13000/28539 (46%)]\tLoss: 2.832324\n",
            "Train Epoch: 1 [14000/28539 (49%)]\tLoss: 2.777482\n",
            "Train Epoch: 1 [15000/28539 (53%)]\tLoss: 2.737382\n",
            "Train Epoch: 1 [16000/28539 (56%)]\tLoss: 2.528829\n",
            "Train Epoch: 1 [17000/28539 (60%)]\tLoss: 2.481511\n",
            "Train Epoch: 1 [18000/28539 (63%)]\tLoss: 2.283413\n",
            "Train Epoch: 1 [19000/28539 (67%)]\tLoss: 2.137145\n",
            "Train Epoch: 1 [20000/28539 (70%)]\tLoss: 1.970137\n",
            "Train Epoch: 1 [21000/28539 (74%)]\tLoss: 2.008034\n",
            "Train Epoch: 1 [22000/28539 (77%)]\tLoss: 1.838694\n",
            "Train Epoch: 1 [23000/28539 (81%)]\tLoss: 1.967308\n",
            "Train Epoch: 1 [24000/28539 (84%)]\tLoss: 1.829680\n",
            "Train Epoch: 1 [25000/28539 (88%)]\tLoss: 1.780608\n",
            "Train Epoch: 1 [26000/28539 (91%)]\tLoss: 1.697249\n",
            "Train Epoch: 1 [27000/28539 (95%)]\tLoss: 1.624179\n",
            "Train Epoch: 1 [28000/28539 (98%)]\tLoss: 1.820664\n",
            "\n",
            "evaluating...\n"
          ],
          "name": "stdout"
        },
        {
          "output_type": "stream",
          "text": [
            "/usr/local/lib/python3.6/dist-packages/torch/functional.py:516: UserWarning: stft will require the return_complex parameter be explicitly  specified in a future PyTorch release. Use return_complex=False  to preserve the current behavior or return_complex=True to return  a complex output. (Triggered internally at  /pytorch/aten/src/ATen/native/SpectralOps.cpp:653.)\n",
            "  normalized, onesided, return_complex)\n",
            "/usr/local/lib/python3.6/dist-packages/torch/functional.py:516: UserWarning: The function torch.rfft is deprecated and will be removed in a future PyTorch release. Use the new torch.fft module functions, instead, by importing torch.fft and calling torch.fft.fft or torch.fft.rfft. (Triggered internally at  /pytorch/aten/src/ATen/native/SpectralOps.cpp:590.)\n",
            "  normalized, onesided, return_complex)\n"
          ],
          "name": "stderr"
        },
        {
          "output_type": "stream",
          "text": [
            "Test set: Average loss: 1.4748, Average CER: 0.435724 Average WER: 0.9514\n",
            "\n"
          ],
          "name": "stdout"
        },
        {
          "output_type": "stream",
          "text": [
            "/usr/local/lib/python3.6/dist-packages/torch/functional.py:516: UserWarning: stft will require the return_complex parameter be explicitly  specified in a future PyTorch release. Use return_complex=False  to preserve the current behavior or return_complex=True to return  a complex output. (Triggered internally at  /pytorch/aten/src/ATen/native/SpectralOps.cpp:653.)\n",
            "  normalized, onesided, return_complex)\n",
            "/usr/local/lib/python3.6/dist-packages/torch/functional.py:516: UserWarning: The function torch.rfft is deprecated and will be removed in a future PyTorch release. Use the new torch.fft module functions, instead, by importing torch.fft and calling torch.fft.fft or torch.fft.rfft. (Triggered internally at  /pytorch/aten/src/ATen/native/SpectralOps.cpp:590.)\n",
            "  normalized, onesided, return_complex)\n"
          ],
          "name": "stderr"
        },
        {
          "output_type": "stream",
          "text": [
            "Train Epoch: 2 [0/28539 (0%)]\tLoss: 1.807383\n",
            "Train Epoch: 2 [1000/28539 (4%)]\tLoss: 1.731733\n",
            "Train Epoch: 2 [2000/28539 (7%)]\tLoss: 1.515199\n",
            "Train Epoch: 2 [3000/28539 (11%)]\tLoss: 1.578212\n",
            "Train Epoch: 2 [4000/28539 (14%)]\tLoss: 1.547130\n",
            "Train Epoch: 2 [5000/28539 (18%)]\tLoss: 1.578337\n",
            "Train Epoch: 2 [6000/28539 (21%)]\tLoss: 1.291145\n",
            "Train Epoch: 2 [7000/28539 (25%)]\tLoss: 1.431657\n",
            "Train Epoch: 2 [8000/28539 (28%)]\tLoss: 1.493766\n",
            "Train Epoch: 2 [9000/28539 (32%)]\tLoss: 1.412855\n",
            "Train Epoch: 2 [10000/28539 (35%)]\tLoss: 1.328725\n",
            "Train Epoch: 2 [11000/28539 (39%)]\tLoss: 1.419859\n",
            "Train Epoch: 2 [12000/28539 (42%)]\tLoss: 1.309911\n",
            "Train Epoch: 2 [13000/28539 (46%)]\tLoss: 1.291559\n",
            "Train Epoch: 2 [14000/28539 (49%)]\tLoss: 1.300869\n",
            "Train Epoch: 2 [15000/28539 (53%)]\tLoss: 1.403664\n",
            "Train Epoch: 2 [16000/28539 (56%)]\tLoss: 1.240860\n",
            "Train Epoch: 2 [17000/28539 (60%)]\tLoss: 1.592056\n",
            "Train Epoch: 2 [18000/28539 (63%)]\tLoss: 1.271764\n",
            "Train Epoch: 2 [19000/28539 (67%)]\tLoss: 1.437625\n",
            "Train Epoch: 2 [20000/28539 (70%)]\tLoss: 1.337385\n",
            "Train Epoch: 2 [21000/28539 (74%)]\tLoss: 1.300426\n",
            "Train Epoch: 2 [22000/28539 (77%)]\tLoss: 1.122891\n",
            "Train Epoch: 2 [23000/28539 (81%)]\tLoss: 1.251629\n",
            "Train Epoch: 2 [24000/28539 (84%)]\tLoss: 1.246977\n",
            "Train Epoch: 2 [25000/28539 (88%)]\tLoss: 1.260251\n",
            "Train Epoch: 2 [26000/28539 (91%)]\tLoss: 1.180694\n",
            "Train Epoch: 2 [27000/28539 (95%)]\tLoss: 1.283742\n",
            "Train Epoch: 2 [28000/28539 (98%)]\tLoss: 1.276024\n",
            "\n",
            "evaluating...\n"
          ],
          "name": "stdout"
        },
        {
          "output_type": "stream",
          "text": [
            "/usr/local/lib/python3.6/dist-packages/torch/functional.py:516: UserWarning: stft will require the return_complex parameter be explicitly  specified in a future PyTorch release. Use return_complex=False  to preserve the current behavior or return_complex=True to return  a complex output. (Triggered internally at  /pytorch/aten/src/ATen/native/SpectralOps.cpp:653.)\n",
            "  normalized, onesided, return_complex)\n",
            "/usr/local/lib/python3.6/dist-packages/torch/functional.py:516: UserWarning: The function torch.rfft is deprecated and will be removed in a future PyTorch release. Use the new torch.fft module functions, instead, by importing torch.fft and calling torch.fft.fft or torch.fft.rfft. (Triggered internally at  /pytorch/aten/src/ATen/native/SpectralOps.cpp:590.)\n",
            "  normalized, onesided, return_complex)\n"
          ],
          "name": "stderr"
        },
        {
          "output_type": "stream",
          "text": [
            "Test set: Average loss: 1.0137, Average CER: 0.311062 Average WER: 0.7710\n",
            "\n"
          ],
          "name": "stdout"
        },
        {
          "output_type": "stream",
          "text": [
            "/usr/local/lib/python3.6/dist-packages/torch/functional.py:516: UserWarning: stft will require the return_complex parameter be explicitly  specified in a future PyTorch release. Use return_complex=False  to preserve the current behavior or return_complex=True to return  a complex output. (Triggered internally at  /pytorch/aten/src/ATen/native/SpectralOps.cpp:653.)\n",
            "  normalized, onesided, return_complex)\n",
            "/usr/local/lib/python3.6/dist-packages/torch/functional.py:516: UserWarning: The function torch.rfft is deprecated and will be removed in a future PyTorch release. Use the new torch.fft module functions, instead, by importing torch.fft and calling torch.fft.fft or torch.fft.rfft. (Triggered internally at  /pytorch/aten/src/ATen/native/SpectralOps.cpp:590.)\n",
            "  normalized, onesided, return_complex)\n"
          ],
          "name": "stderr"
        },
        {
          "output_type": "stream",
          "text": [
            "Train Epoch: 3 [0/28539 (0%)]\tLoss: 1.164658\n",
            "Train Epoch: 3 [1000/28539 (4%)]\tLoss: 1.153454\n",
            "Train Epoch: 3 [2000/28539 (7%)]\tLoss: 1.191565\n",
            "Train Epoch: 3 [3000/28539 (11%)]\tLoss: 1.488561\n",
            "Train Epoch: 3 [4000/28539 (14%)]\tLoss: 1.076112\n",
            "Train Epoch: 3 [5000/28539 (18%)]\tLoss: 1.355190\n",
            "Train Epoch: 3 [6000/28539 (21%)]\tLoss: 1.257578\n",
            "Train Epoch: 3 [7000/28539 (25%)]\tLoss: 1.193573\n",
            "Train Epoch: 3 [8000/28539 (28%)]\tLoss: 1.232377\n",
            "Train Epoch: 3 [9000/28539 (32%)]\tLoss: 1.082355\n",
            "Train Epoch: 3 [10000/28539 (35%)]\tLoss: 1.058744\n",
            "Train Epoch: 3 [11000/28539 (39%)]\tLoss: 1.000243\n",
            "Train Epoch: 3 [12000/28539 (42%)]\tLoss: 1.116568\n",
            "Train Epoch: 3 [13000/28539 (46%)]\tLoss: 1.106953\n",
            "Train Epoch: 3 [14000/28539 (49%)]\tLoss: 1.101934\n",
            "Train Epoch: 3 [15000/28539 (53%)]\tLoss: 1.225164\n",
            "Train Epoch: 3 [16000/28539 (56%)]\tLoss: 1.217289\n",
            "Train Epoch: 3 [17000/28539 (60%)]\tLoss: 1.068426\n",
            "Train Epoch: 3 [18000/28539 (63%)]\tLoss: 1.212214\n",
            "Train Epoch: 3 [19000/28539 (67%)]\tLoss: 1.169735\n",
            "Train Epoch: 3 [20000/28539 (70%)]\tLoss: 0.954656\n",
            "Train Epoch: 3 [21000/28539 (74%)]\tLoss: 1.193740\n",
            "Train Epoch: 3 [22000/28539 (77%)]\tLoss: 1.114622\n",
            "Train Epoch: 3 [23000/28539 (81%)]\tLoss: 1.056032\n",
            "Train Epoch: 3 [24000/28539 (84%)]\tLoss: 1.133456\n",
            "Train Epoch: 3 [25000/28539 (88%)]\tLoss: 1.258170\n",
            "Train Epoch: 3 [26000/28539 (91%)]\tLoss: 1.147370\n",
            "Train Epoch: 3 [27000/28539 (95%)]\tLoss: 1.142898\n",
            "Train Epoch: 3 [28000/28539 (98%)]\tLoss: 1.082368\n",
            "\n",
            "evaluating...\n"
          ],
          "name": "stdout"
        },
        {
          "output_type": "stream",
          "text": [
            "/usr/local/lib/python3.6/dist-packages/torch/functional.py:516: UserWarning: stft will require the return_complex parameter be explicitly  specified in a future PyTorch release. Use return_complex=False  to preserve the current behavior or return_complex=True to return  a complex output. (Triggered internally at  /pytorch/aten/src/ATen/native/SpectralOps.cpp:653.)\n",
            "  normalized, onesided, return_complex)\n",
            "/usr/local/lib/python3.6/dist-packages/torch/functional.py:516: UserWarning: The function torch.rfft is deprecated and will be removed in a future PyTorch release. Use the new torch.fft module functions, instead, by importing torch.fft and calling torch.fft.fft or torch.fft.rfft. (Triggered internally at  /pytorch/aten/src/ATen/native/SpectralOps.cpp:590.)\n",
            "  normalized, onesided, return_complex)\n"
          ],
          "name": "stderr"
        },
        {
          "output_type": "stream",
          "text": [
            "Test set: Average loss: 0.8651, Average CER: 0.264299 Average WER: 0.7032\n",
            "\n"
          ],
          "name": "stdout"
        },
        {
          "output_type": "stream",
          "text": [
            "/usr/local/lib/python3.6/dist-packages/torch/functional.py:516: UserWarning: stft will require the return_complex parameter be explicitly  specified in a future PyTorch release. Use return_complex=False  to preserve the current behavior or return_complex=True to return  a complex output. (Triggered internally at  /pytorch/aten/src/ATen/native/SpectralOps.cpp:653.)\n",
            "  normalized, onesided, return_complex)\n",
            "/usr/local/lib/python3.6/dist-packages/torch/functional.py:516: UserWarning: The function torch.rfft is deprecated and will be removed in a future PyTorch release. Use the new torch.fft module functions, instead, by importing torch.fft and calling torch.fft.fft or torch.fft.rfft. (Triggered internally at  /pytorch/aten/src/ATen/native/SpectralOps.cpp:590.)\n",
            "  normalized, onesided, return_complex)\n"
          ],
          "name": "stderr"
        },
        {
          "output_type": "stream",
          "text": [
            "Train Epoch: 4 [0/28539 (0%)]\tLoss: 1.007649\n",
            "Train Epoch: 4 [1000/28539 (4%)]\tLoss: 1.085793\n",
            "Train Epoch: 4 [2000/28539 (7%)]\tLoss: 0.952592\n",
            "Train Epoch: 4 [3000/28539 (11%)]\tLoss: 0.899169\n",
            "Train Epoch: 4 [4000/28539 (14%)]\tLoss: 1.201837\n",
            "Train Epoch: 4 [5000/28539 (18%)]\tLoss: 0.987561\n",
            "Train Epoch: 4 [6000/28539 (21%)]\tLoss: 0.954490\n",
            "Train Epoch: 4 [7000/28539 (25%)]\tLoss: 0.899754\n",
            "Train Epoch: 4 [8000/28539 (28%)]\tLoss: 1.084942\n",
            "Train Epoch: 4 [9000/28539 (32%)]\tLoss: 1.078824\n",
            "Train Epoch: 4 [10000/28539 (35%)]\tLoss: 1.036830\n",
            "Train Epoch: 4 [11000/28539 (39%)]\tLoss: 1.005307\n",
            "Train Epoch: 4 [12000/28539 (42%)]\tLoss: 1.081353\n",
            "Train Epoch: 4 [13000/28539 (46%)]\tLoss: 1.025450\n",
            "Train Epoch: 4 [14000/28539 (49%)]\tLoss: 1.159567\n",
            "Train Epoch: 4 [15000/28539 (53%)]\tLoss: 0.968833\n",
            "Train Epoch: 4 [16000/28539 (56%)]\tLoss: 1.001005\n",
            "Train Epoch: 4 [17000/28539 (60%)]\tLoss: 0.920113\n",
            "Train Epoch: 4 [18000/28539 (63%)]\tLoss: 0.927846\n",
            "Train Epoch: 4 [19000/28539 (67%)]\tLoss: 0.948198\n",
            "Train Epoch: 4 [20000/28539 (70%)]\tLoss: 1.039686\n",
            "Train Epoch: 4 [21000/28539 (74%)]\tLoss: 0.862664\n",
            "Train Epoch: 4 [22000/28539 (77%)]\tLoss: 1.016453\n",
            "Train Epoch: 4 [23000/28539 (81%)]\tLoss: 0.848045\n",
            "Train Epoch: 4 [24000/28539 (84%)]\tLoss: 0.941587\n",
            "Train Epoch: 4 [25000/28539 (88%)]\tLoss: 1.184639\n",
            "Train Epoch: 4 [26000/28539 (91%)]\tLoss: 0.892258\n",
            "Train Epoch: 4 [27000/28539 (95%)]\tLoss: 1.047530\n",
            "Train Epoch: 4 [28000/28539 (98%)]\tLoss: 0.962640\n",
            "\n",
            "evaluating...\n"
          ],
          "name": "stdout"
        },
        {
          "output_type": "stream",
          "text": [
            "/usr/local/lib/python3.6/dist-packages/torch/functional.py:516: UserWarning: stft will require the return_complex parameter be explicitly  specified in a future PyTorch release. Use return_complex=False  to preserve the current behavior or return_complex=True to return  a complex output. (Triggered internally at  /pytorch/aten/src/ATen/native/SpectralOps.cpp:653.)\n",
            "  normalized, onesided, return_complex)\n",
            "/usr/local/lib/python3.6/dist-packages/torch/functional.py:516: UserWarning: The function torch.rfft is deprecated and will be removed in a future PyTorch release. Use the new torch.fft module functions, instead, by importing torch.fft and calling torch.fft.fft or torch.fft.rfft. (Triggered internally at  /pytorch/aten/src/ATen/native/SpectralOps.cpp:590.)\n",
            "  normalized, onesided, return_complex)\n"
          ],
          "name": "stderr"
        },
        {
          "output_type": "stream",
          "text": [
            "Test set: Average loss: 0.7587, Average CER: 0.231162 Average WER: 0.6403\n",
            "\n"
          ],
          "name": "stdout"
        },
        {
          "output_type": "stream",
          "text": [
            "/usr/local/lib/python3.6/dist-packages/torch/functional.py:516: UserWarning: stft will require the return_complex parameter be explicitly  specified in a future PyTorch release. Use return_complex=False  to preserve the current behavior or return_complex=True to return  a complex output. (Triggered internally at  /pytorch/aten/src/ATen/native/SpectralOps.cpp:653.)\n",
            "  normalized, onesided, return_complex)\n",
            "/usr/local/lib/python3.6/dist-packages/torch/functional.py:516: UserWarning: The function torch.rfft is deprecated and will be removed in a future PyTorch release. Use the new torch.fft module functions, instead, by importing torch.fft and calling torch.fft.fft or torch.fft.rfft. (Triggered internally at  /pytorch/aten/src/ATen/native/SpectralOps.cpp:590.)\n",
            "  normalized, onesided, return_complex)\n"
          ],
          "name": "stderr"
        },
        {
          "output_type": "stream",
          "text": [
            "Train Epoch: 5 [0/28539 (0%)]\tLoss: 0.821015\n",
            "Train Epoch: 5 [1000/28539 (4%)]\tLoss: 0.888196\n",
            "Train Epoch: 5 [2000/28539 (7%)]\tLoss: 1.020751\n",
            "Train Epoch: 5 [3000/28539 (11%)]\tLoss: 0.880691\n",
            "Train Epoch: 5 [4000/28539 (14%)]\tLoss: 0.950839\n",
            "Train Epoch: 5 [5000/28539 (18%)]\tLoss: 0.991663\n",
            "Train Epoch: 5 [6000/28539 (21%)]\tLoss: 0.678975\n",
            "Train Epoch: 5 [7000/28539 (25%)]\tLoss: 0.790657\n",
            "Train Epoch: 5 [8000/28539 (28%)]\tLoss: 0.873493\n",
            "Train Epoch: 5 [9000/28539 (32%)]\tLoss: 0.774522\n",
            "Train Epoch: 5 [10000/28539 (35%)]\tLoss: 0.913273\n",
            "Train Epoch: 5 [11000/28539 (39%)]\tLoss: 0.879796\n",
            "Train Epoch: 5 [12000/28539 (42%)]\tLoss: 0.833911\n",
            "Train Epoch: 5 [13000/28539 (46%)]\tLoss: 0.994914\n",
            "Train Epoch: 5 [14000/28539 (49%)]\tLoss: 0.776189\n",
            "Train Epoch: 5 [15000/28539 (53%)]\tLoss: 0.929665\n",
            "Train Epoch: 5 [16000/28539 (56%)]\tLoss: 0.847296\n",
            "Train Epoch: 5 [17000/28539 (60%)]\tLoss: 0.938619\n",
            "Train Epoch: 5 [18000/28539 (63%)]\tLoss: 0.851190\n",
            "Train Epoch: 5 [19000/28539 (67%)]\tLoss: 0.908071\n",
            "Train Epoch: 5 [20000/28539 (70%)]\tLoss: 0.772115\n",
            "Train Epoch: 5 [21000/28539 (74%)]\tLoss: 0.931552\n",
            "Train Epoch: 5 [22000/28539 (77%)]\tLoss: 0.945618\n",
            "Train Epoch: 5 [23000/28539 (81%)]\tLoss: 0.849929\n",
            "Train Epoch: 5 [24000/28539 (84%)]\tLoss: 0.906398\n",
            "Train Epoch: 5 [25000/28539 (88%)]\tLoss: 0.743718\n",
            "Train Epoch: 5 [26000/28539 (91%)]\tLoss: 0.828746\n",
            "Train Epoch: 5 [27000/28539 (95%)]\tLoss: 0.847589\n",
            "Train Epoch: 5 [28000/28539 (98%)]\tLoss: 0.773974\n",
            "\n",
            "evaluating...\n"
          ],
          "name": "stdout"
        },
        {
          "output_type": "stream",
          "text": [
            "/usr/local/lib/python3.6/dist-packages/torch/functional.py:516: UserWarning: stft will require the return_complex parameter be explicitly  specified in a future PyTorch release. Use return_complex=False  to preserve the current behavior or return_complex=True to return  a complex output. (Triggered internally at  /pytorch/aten/src/ATen/native/SpectralOps.cpp:653.)\n",
            "  normalized, onesided, return_complex)\n",
            "/usr/local/lib/python3.6/dist-packages/torch/functional.py:516: UserWarning: The function torch.rfft is deprecated and will be removed in a future PyTorch release. Use the new torch.fft module functions, instead, by importing torch.fft and calling torch.fft.fft or torch.fft.rfft. (Triggered internally at  /pytorch/aten/src/ATen/native/SpectralOps.cpp:590.)\n",
            "  normalized, onesided, return_complex)\n"
          ],
          "name": "stderr"
        },
        {
          "output_type": "stream",
          "text": [
            "Test set: Average loss: 0.6624, Average CER: 0.201264 Average WER: 0.5760\n",
            "\n"
          ],
          "name": "stdout"
        },
        {
          "output_type": "stream",
          "text": [
            "/usr/local/lib/python3.6/dist-packages/torch/functional.py:516: UserWarning: stft will require the return_complex parameter be explicitly  specified in a future PyTorch release. Use return_complex=False  to preserve the current behavior or return_complex=True to return  a complex output. (Triggered internally at  /pytorch/aten/src/ATen/native/SpectralOps.cpp:653.)\n",
            "  normalized, onesided, return_complex)\n",
            "/usr/local/lib/python3.6/dist-packages/torch/functional.py:516: UserWarning: The function torch.rfft is deprecated and will be removed in a future PyTorch release. Use the new torch.fft module functions, instead, by importing torch.fft and calling torch.fft.fft or torch.fft.rfft. (Triggered internally at  /pytorch/aten/src/ATen/native/SpectralOps.cpp:590.)\n",
            "  normalized, onesided, return_complex)\n"
          ],
          "name": "stderr"
        },
        {
          "output_type": "stream",
          "text": [
            "Train Epoch: 6 [0/28539 (0%)]\tLoss: 0.672884\n",
            "Train Epoch: 6 [1000/28539 (4%)]\tLoss: 0.836999\n",
            "Train Epoch: 6 [2000/28539 (7%)]\tLoss: 0.846697\n",
            "Train Epoch: 6 [3000/28539 (11%)]\tLoss: 0.854933\n",
            "Train Epoch: 6 [4000/28539 (14%)]\tLoss: 0.870222\n",
            "Train Epoch: 6 [5000/28539 (18%)]\tLoss: 0.767291\n",
            "Train Epoch: 6 [6000/28539 (21%)]\tLoss: 0.733331\n",
            "Train Epoch: 6 [7000/28539 (25%)]\tLoss: 0.759904\n",
            "Train Epoch: 6 [8000/28539 (28%)]\tLoss: 0.933550\n",
            "Train Epoch: 6 [9000/28539 (32%)]\tLoss: 0.626070\n",
            "Train Epoch: 6 [10000/28539 (35%)]\tLoss: 0.769922\n",
            "Train Epoch: 6 [11000/28539 (39%)]\tLoss: 0.805148\n",
            "Train Epoch: 6 [12000/28539 (42%)]\tLoss: 0.888108\n",
            "Train Epoch: 6 [13000/28539 (46%)]\tLoss: 0.911205\n",
            "Train Epoch: 6 [14000/28539 (49%)]\tLoss: 0.803306\n",
            "Train Epoch: 6 [15000/28539 (53%)]\tLoss: 0.869903\n",
            "Train Epoch: 6 [16000/28539 (56%)]\tLoss: 0.772403\n",
            "Train Epoch: 6 [17000/28539 (60%)]\tLoss: 0.697389\n",
            "Train Epoch: 6 [18000/28539 (63%)]\tLoss: 0.847582\n",
            "Train Epoch: 6 [19000/28539 (67%)]\tLoss: 0.750632\n",
            "Train Epoch: 6 [20000/28539 (70%)]\tLoss: 0.751409\n",
            "Train Epoch: 6 [21000/28539 (74%)]\tLoss: 0.968736\n",
            "Train Epoch: 6 [22000/28539 (77%)]\tLoss: 0.701993\n",
            "Train Epoch: 6 [23000/28539 (81%)]\tLoss: 0.794164\n",
            "Train Epoch: 6 [24000/28539 (84%)]\tLoss: 0.794964\n",
            "Train Epoch: 6 [25000/28539 (88%)]\tLoss: 0.599856\n",
            "Train Epoch: 6 [26000/28539 (91%)]\tLoss: 0.866921\n",
            "Train Epoch: 6 [27000/28539 (95%)]\tLoss: 0.768424\n",
            "Train Epoch: 6 [28000/28539 (98%)]\tLoss: 0.736133\n",
            "\n",
            "evaluating...\n"
          ],
          "name": "stdout"
        },
        {
          "output_type": "stream",
          "text": [
            "/usr/local/lib/python3.6/dist-packages/torch/functional.py:516: UserWarning: stft will require the return_complex parameter be explicitly  specified in a future PyTorch release. Use return_complex=False  to preserve the current behavior or return_complex=True to return  a complex output. (Triggered internally at  /pytorch/aten/src/ATen/native/SpectralOps.cpp:653.)\n",
            "  normalized, onesided, return_complex)\n",
            "/usr/local/lib/python3.6/dist-packages/torch/functional.py:516: UserWarning: The function torch.rfft is deprecated and will be removed in a future PyTorch release. Use the new torch.fft module functions, instead, by importing torch.fft and calling torch.fft.fft or torch.fft.rfft. (Triggered internally at  /pytorch/aten/src/ATen/native/SpectralOps.cpp:590.)\n",
            "  normalized, onesided, return_complex)\n"
          ],
          "name": "stderr"
        },
        {
          "output_type": "stream",
          "text": [
            "Test set: Average loss: 0.6122, Average CER: 0.184473 Average WER: 0.5356\n",
            "\n"
          ],
          "name": "stdout"
        },
        {
          "output_type": "stream",
          "text": [
            "/usr/local/lib/python3.6/dist-packages/torch/functional.py:516: UserWarning: stft will require the return_complex parameter be explicitly  specified in a future PyTorch release. Use return_complex=False  to preserve the current behavior or return_complex=True to return  a complex output. (Triggered internally at  /pytorch/aten/src/ATen/native/SpectralOps.cpp:653.)\n",
            "  normalized, onesided, return_complex)\n",
            "/usr/local/lib/python3.6/dist-packages/torch/functional.py:516: UserWarning: The function torch.rfft is deprecated and will be removed in a future PyTorch release. Use the new torch.fft module functions, instead, by importing torch.fft and calling torch.fft.fft or torch.fft.rfft. (Triggered internally at  /pytorch/aten/src/ATen/native/SpectralOps.cpp:590.)\n",
            "  normalized, onesided, return_complex)\n"
          ],
          "name": "stderr"
        },
        {
          "output_type": "stream",
          "text": [
            "Train Epoch: 7 [0/28539 (0%)]\tLoss: 0.625705\n",
            "Train Epoch: 7 [1000/28539 (4%)]\tLoss: 0.914768\n",
            "Train Epoch: 7 [2000/28539 (7%)]\tLoss: 0.904306\n",
            "Train Epoch: 7 [3000/28539 (11%)]\tLoss: 0.669776\n",
            "Train Epoch: 7 [4000/28539 (14%)]\tLoss: 0.780736\n",
            "Train Epoch: 7 [5000/28539 (18%)]\tLoss: 0.777521\n",
            "Train Epoch: 7 [6000/28539 (21%)]\tLoss: 0.851913\n",
            "Train Epoch: 7 [7000/28539 (25%)]\tLoss: 0.657018\n",
            "Train Epoch: 7 [8000/28539 (28%)]\tLoss: 0.800336\n",
            "Train Epoch: 7 [9000/28539 (32%)]\tLoss: 0.946734\n",
            "Train Epoch: 7 [10000/28539 (35%)]\tLoss: 0.966707\n",
            "Train Epoch: 7 [11000/28539 (39%)]\tLoss: 0.635440\n",
            "Train Epoch: 7 [12000/28539 (42%)]\tLoss: 0.853783\n",
            "Train Epoch: 7 [13000/28539 (46%)]\tLoss: 0.977208\n",
            "Train Epoch: 7 [14000/28539 (49%)]\tLoss: 0.931825\n",
            "Train Epoch: 7 [15000/28539 (53%)]\tLoss: 0.701736\n",
            "Train Epoch: 7 [16000/28539 (56%)]\tLoss: 0.632545\n",
            "Train Epoch: 7 [17000/28539 (60%)]\tLoss: 0.852644\n",
            "Train Epoch: 7 [18000/28539 (63%)]\tLoss: 0.700847\n",
            "Train Epoch: 7 [19000/28539 (67%)]\tLoss: 0.761391\n",
            "Train Epoch: 7 [20000/28539 (70%)]\tLoss: 0.847332\n",
            "Train Epoch: 7 [21000/28539 (74%)]\tLoss: 0.776399\n",
            "Train Epoch: 7 [22000/28539 (77%)]\tLoss: 0.655099\n",
            "Train Epoch: 7 [23000/28539 (81%)]\tLoss: 0.771708\n",
            "Train Epoch: 7 [24000/28539 (84%)]\tLoss: 0.752104\n",
            "Train Epoch: 7 [25000/28539 (88%)]\tLoss: 0.765008\n",
            "Train Epoch: 7 [26000/28539 (91%)]\tLoss: 0.745617\n",
            "Train Epoch: 7 [27000/28539 (95%)]\tLoss: 0.818417\n",
            "Train Epoch: 7 [28000/28539 (98%)]\tLoss: 0.783284\n",
            "\n",
            "evaluating...\n"
          ],
          "name": "stdout"
        },
        {
          "output_type": "stream",
          "text": [
            "/usr/local/lib/python3.6/dist-packages/torch/functional.py:516: UserWarning: stft will require the return_complex parameter be explicitly  specified in a future PyTorch release. Use return_complex=False  to preserve the current behavior or return_complex=True to return  a complex output. (Triggered internally at  /pytorch/aten/src/ATen/native/SpectralOps.cpp:653.)\n",
            "  normalized, onesided, return_complex)\n",
            "/usr/local/lib/python3.6/dist-packages/torch/functional.py:516: UserWarning: The function torch.rfft is deprecated and will be removed in a future PyTorch release. Use the new torch.fft module functions, instead, by importing torch.fft and calling torch.fft.fft or torch.fft.rfft. (Triggered internally at  /pytorch/aten/src/ATen/native/SpectralOps.cpp:590.)\n",
            "  normalized, onesided, return_complex)\n"
          ],
          "name": "stderr"
        },
        {
          "output_type": "stream",
          "text": [
            "Test set: Average loss: 0.5750, Average CER: 0.172981 Average WER: 0.5078\n",
            "\n"
          ],
          "name": "stdout"
        },
        {
          "output_type": "stream",
          "text": [
            "/usr/local/lib/python3.6/dist-packages/torch/functional.py:516: UserWarning: stft will require the return_complex parameter be explicitly  specified in a future PyTorch release. Use return_complex=False  to preserve the current behavior or return_complex=True to return  a complex output. (Triggered internally at  /pytorch/aten/src/ATen/native/SpectralOps.cpp:653.)\n",
            "  normalized, onesided, return_complex)\n",
            "/usr/local/lib/python3.6/dist-packages/torch/functional.py:516: UserWarning: The function torch.rfft is deprecated and will be removed in a future PyTorch release. Use the new torch.fft module functions, instead, by importing torch.fft and calling torch.fft.fft or torch.fft.rfft. (Triggered internally at  /pytorch/aten/src/ATen/native/SpectralOps.cpp:590.)\n",
            "  normalized, onesided, return_complex)\n"
          ],
          "name": "stderr"
        },
        {
          "output_type": "stream",
          "text": [
            "Train Epoch: 8 [0/28539 (0%)]\tLoss: 0.624855\n",
            "Train Epoch: 8 [1000/28539 (4%)]\tLoss: 0.658033\n",
            "Train Epoch: 8 [2000/28539 (7%)]\tLoss: 0.897248\n",
            "Train Epoch: 8 [3000/28539 (11%)]\tLoss: 0.711891\n",
            "Train Epoch: 8 [4000/28539 (14%)]\tLoss: 0.684814\n",
            "Train Epoch: 8 [5000/28539 (18%)]\tLoss: 0.570084\n",
            "Train Epoch: 8 [6000/28539 (21%)]\tLoss: 0.725428\n",
            "Train Epoch: 8 [7000/28539 (25%)]\tLoss: 0.714021\n",
            "Train Epoch: 8 [8000/28539 (28%)]\tLoss: 0.664729\n",
            "Train Epoch: 8 [9000/28539 (32%)]\tLoss: 0.614134\n",
            "Train Epoch: 8 [10000/28539 (35%)]\tLoss: 0.831372\n",
            "Train Epoch: 8 [11000/28539 (39%)]\tLoss: 0.894603\n",
            "Train Epoch: 8 [12000/28539 (42%)]\tLoss: 0.733792\n",
            "Train Epoch: 8 [13000/28539 (46%)]\tLoss: 0.682859\n",
            "Train Epoch: 8 [14000/28539 (49%)]\tLoss: 0.675979\n",
            "Train Epoch: 8 [15000/28539 (53%)]\tLoss: 0.639796\n",
            "Train Epoch: 8 [16000/28539 (56%)]\tLoss: 0.759762\n",
            "Train Epoch: 8 [17000/28539 (60%)]\tLoss: 0.598238\n",
            "Train Epoch: 8 [18000/28539 (63%)]\tLoss: 0.705968\n",
            "Train Epoch: 8 [19000/28539 (67%)]\tLoss: 0.738140\n",
            "Train Epoch: 8 [20000/28539 (70%)]\tLoss: 0.848418\n",
            "Train Epoch: 8 [21000/28539 (74%)]\tLoss: 0.699228\n",
            "Train Epoch: 8 [22000/28539 (77%)]\tLoss: 0.515879\n",
            "Train Epoch: 8 [23000/28539 (81%)]\tLoss: 0.655860\n",
            "Train Epoch: 8 [24000/28539 (84%)]\tLoss: 0.763306\n",
            "Train Epoch: 8 [25000/28539 (88%)]\tLoss: 0.634020\n",
            "Train Epoch: 8 [26000/28539 (91%)]\tLoss: 0.629415\n",
            "Train Epoch: 8 [27000/28539 (95%)]\tLoss: 0.647741\n",
            "Train Epoch: 8 [28000/28539 (98%)]\tLoss: 0.623202\n",
            "\n",
            "evaluating...\n"
          ],
          "name": "stdout"
        },
        {
          "output_type": "stream",
          "text": [
            "/usr/local/lib/python3.6/dist-packages/torch/functional.py:516: UserWarning: stft will require the return_complex parameter be explicitly  specified in a future PyTorch release. Use return_complex=False  to preserve the current behavior or return_complex=True to return  a complex output. (Triggered internally at  /pytorch/aten/src/ATen/native/SpectralOps.cpp:653.)\n",
            "  normalized, onesided, return_complex)\n",
            "/usr/local/lib/python3.6/dist-packages/torch/functional.py:516: UserWarning: The function torch.rfft is deprecated and will be removed in a future PyTorch release. Use the new torch.fft module functions, instead, by importing torch.fft and calling torch.fft.fft or torch.fft.rfft. (Triggered internally at  /pytorch/aten/src/ATen/native/SpectralOps.cpp:590.)\n",
            "  normalized, onesided, return_complex)\n"
          ],
          "name": "stderr"
        },
        {
          "output_type": "stream",
          "text": [
            "Test set: Average loss: 0.5451, Average CER: 0.162190 Average WER: 0.4824\n",
            "\n"
          ],
          "name": "stdout"
        },
        {
          "output_type": "stream",
          "text": [
            "/usr/local/lib/python3.6/dist-packages/torch/functional.py:516: UserWarning: stft will require the return_complex parameter be explicitly  specified in a future PyTorch release. Use return_complex=False  to preserve the current behavior or return_complex=True to return  a complex output. (Triggered internally at  /pytorch/aten/src/ATen/native/SpectralOps.cpp:653.)\n",
            "  normalized, onesided, return_complex)\n",
            "/usr/local/lib/python3.6/dist-packages/torch/functional.py:516: UserWarning: The function torch.rfft is deprecated and will be removed in a future PyTorch release. Use the new torch.fft module functions, instead, by importing torch.fft and calling torch.fft.fft or torch.fft.rfft. (Triggered internally at  /pytorch/aten/src/ATen/native/SpectralOps.cpp:590.)\n",
            "  normalized, onesided, return_complex)\n"
          ],
          "name": "stderr"
        },
        {
          "output_type": "stream",
          "text": [
            "Train Epoch: 9 [0/28539 (0%)]\tLoss: 0.655181\n",
            "Train Epoch: 9 [1000/28539 (4%)]\tLoss: 0.643427\n",
            "Train Epoch: 9 [2000/28539 (7%)]\tLoss: 0.571781\n",
            "Train Epoch: 9 [3000/28539 (11%)]\tLoss: 0.655678\n",
            "Train Epoch: 9 [4000/28539 (14%)]\tLoss: 0.646917\n",
            "Train Epoch: 9 [5000/28539 (18%)]\tLoss: 0.699417\n",
            "Train Epoch: 9 [6000/28539 (21%)]\tLoss: 0.858518\n",
            "Train Epoch: 9 [7000/28539 (25%)]\tLoss: 0.666831\n",
            "Train Epoch: 9 [8000/28539 (28%)]\tLoss: 0.539536\n",
            "Train Epoch: 9 [9000/28539 (32%)]\tLoss: 0.600114\n",
            "Train Epoch: 9 [10000/28539 (35%)]\tLoss: 0.569385\n",
            "Train Epoch: 9 [11000/28539 (39%)]\tLoss: 0.710135\n",
            "Train Epoch: 9 [12000/28539 (42%)]\tLoss: 0.591773\n",
            "Train Epoch: 9 [13000/28539 (46%)]\tLoss: 0.745052\n",
            "Train Epoch: 9 [14000/28539 (49%)]\tLoss: 0.666728\n",
            "Train Epoch: 9 [15000/28539 (53%)]\tLoss: 0.823998\n",
            "Train Epoch: 9 [16000/28539 (56%)]\tLoss: 0.621309\n",
            "Train Epoch: 9 [17000/28539 (60%)]\tLoss: 0.609254\n",
            "Train Epoch: 9 [18000/28539 (63%)]\tLoss: 0.807569\n",
            "Train Epoch: 9 [19000/28539 (67%)]\tLoss: 0.708802\n",
            "Train Epoch: 9 [20000/28539 (70%)]\tLoss: 0.546786\n",
            "Train Epoch: 9 [21000/28539 (74%)]\tLoss: 0.829543\n",
            "Train Epoch: 9 [22000/28539 (77%)]\tLoss: 0.813893\n",
            "Train Epoch: 9 [23000/28539 (81%)]\tLoss: 0.589484\n",
            "Train Epoch: 9 [24000/28539 (84%)]\tLoss: 0.826741\n",
            "Train Epoch: 9 [25000/28539 (88%)]\tLoss: 0.697227\n",
            "Train Epoch: 9 [26000/28539 (91%)]\tLoss: 0.770611\n",
            "Train Epoch: 9 [27000/28539 (95%)]\tLoss: 0.585734\n",
            "Train Epoch: 9 [28000/28539 (98%)]\tLoss: 0.678486\n",
            "\n",
            "evaluating...\n"
          ],
          "name": "stdout"
        },
        {
          "output_type": "stream",
          "text": [
            "/usr/local/lib/python3.6/dist-packages/torch/functional.py:516: UserWarning: stft will require the return_complex parameter be explicitly  specified in a future PyTorch release. Use return_complex=False  to preserve the current behavior or return_complex=True to return  a complex output. (Triggered internally at  /pytorch/aten/src/ATen/native/SpectralOps.cpp:653.)\n",
            "  normalized, onesided, return_complex)\n",
            "/usr/local/lib/python3.6/dist-packages/torch/functional.py:516: UserWarning: The function torch.rfft is deprecated and will be removed in a future PyTorch release. Use the new torch.fft module functions, instead, by importing torch.fft and calling torch.fft.fft or torch.fft.rfft. (Triggered internally at  /pytorch/aten/src/ATen/native/SpectralOps.cpp:590.)\n",
            "  normalized, onesided, return_complex)\n"
          ],
          "name": "stderr"
        },
        {
          "output_type": "stream",
          "text": [
            "Test set: Average loss: 0.5188, Average CER: 0.154864 Average WER: 0.4612\n",
            "\n"
          ],
          "name": "stdout"
        },
        {
          "output_type": "stream",
          "text": [
            "/usr/local/lib/python3.6/dist-packages/torch/functional.py:516: UserWarning: stft will require the return_complex parameter be explicitly  specified in a future PyTorch release. Use return_complex=False  to preserve the current behavior or return_complex=True to return  a complex output. (Triggered internally at  /pytorch/aten/src/ATen/native/SpectralOps.cpp:653.)\n",
            "  normalized, onesided, return_complex)\n",
            "/usr/local/lib/python3.6/dist-packages/torch/functional.py:516: UserWarning: The function torch.rfft is deprecated and will be removed in a future PyTorch release. Use the new torch.fft module functions, instead, by importing torch.fft and calling torch.fft.fft or torch.fft.rfft. (Triggered internally at  /pytorch/aten/src/ATen/native/SpectralOps.cpp:590.)\n",
            "  normalized, onesided, return_complex)\n"
          ],
          "name": "stderr"
        },
        {
          "output_type": "stream",
          "text": [
            "Train Epoch: 10 [0/28539 (0%)]\tLoss: 0.619123\n",
            "Train Epoch: 10 [1000/28539 (4%)]\tLoss: 0.666477\n",
            "Train Epoch: 10 [2000/28539 (7%)]\tLoss: 0.706219\n",
            "Train Epoch: 10 [3000/28539 (11%)]\tLoss: 0.677656\n",
            "Train Epoch: 10 [4000/28539 (14%)]\tLoss: 0.734999\n",
            "Train Epoch: 10 [5000/28539 (18%)]\tLoss: 0.622685\n",
            "Train Epoch: 10 [6000/28539 (21%)]\tLoss: 0.577611\n",
            "Train Epoch: 10 [7000/28539 (25%)]\tLoss: 0.709696\n",
            "Train Epoch: 10 [8000/28539 (28%)]\tLoss: 0.520023\n",
            "Train Epoch: 10 [9000/28539 (32%)]\tLoss: 0.713275\n",
            "Train Epoch: 10 [10000/28539 (35%)]\tLoss: 0.708828\n",
            "Train Epoch: 10 [11000/28539 (39%)]\tLoss: 0.652430\n",
            "Train Epoch: 10 [12000/28539 (42%)]\tLoss: 0.615235\n",
            "Train Epoch: 10 [13000/28539 (46%)]\tLoss: 0.648126\n",
            "Train Epoch: 10 [14000/28539 (49%)]\tLoss: 0.579102\n",
            "Train Epoch: 10 [15000/28539 (53%)]\tLoss: 0.927756\n",
            "Train Epoch: 10 [16000/28539 (56%)]\tLoss: 0.600889\n",
            "Train Epoch: 10 [17000/28539 (60%)]\tLoss: 0.715526\n",
            "Train Epoch: 10 [18000/28539 (63%)]\tLoss: 0.682929\n",
            "Train Epoch: 10 [19000/28539 (67%)]\tLoss: 0.533130\n",
            "Train Epoch: 10 [20000/28539 (70%)]\tLoss: 0.512105\n",
            "Train Epoch: 10 [21000/28539 (74%)]\tLoss: 0.529345\n",
            "Train Epoch: 10 [22000/28539 (77%)]\tLoss: 0.607292\n",
            "Train Epoch: 10 [23000/28539 (81%)]\tLoss: 0.719135\n",
            "Train Epoch: 10 [24000/28539 (84%)]\tLoss: 0.639319\n",
            "Train Epoch: 10 [25000/28539 (88%)]\tLoss: 0.720514\n",
            "Train Epoch: 10 [26000/28539 (91%)]\tLoss: 0.679743\n",
            "Train Epoch: 10 [27000/28539 (95%)]\tLoss: 0.507597\n",
            "Train Epoch: 10 [28000/28539 (98%)]\tLoss: 0.629470\n",
            "\n",
            "evaluating...\n"
          ],
          "name": "stdout"
        },
        {
          "output_type": "stream",
          "text": [
            "/usr/local/lib/python3.6/dist-packages/torch/functional.py:516: UserWarning: stft will require the return_complex parameter be explicitly  specified in a future PyTorch release. Use return_complex=False  to preserve the current behavior or return_complex=True to return  a complex output. (Triggered internally at  /pytorch/aten/src/ATen/native/SpectralOps.cpp:653.)\n",
            "  normalized, onesided, return_complex)\n",
            "/usr/local/lib/python3.6/dist-packages/torch/functional.py:516: UserWarning: The function torch.rfft is deprecated and will be removed in a future PyTorch release. Use the new torch.fft module functions, instead, by importing torch.fft and calling torch.fft.fft or torch.fft.rfft. (Triggered internally at  /pytorch/aten/src/ATen/native/SpectralOps.cpp:590.)\n",
            "  normalized, onesided, return_complex)\n"
          ],
          "name": "stderr"
        },
        {
          "output_type": "stream",
          "text": [
            "Test set: Average loss: 0.5092, Average CER: 0.150302 Average WER: 0.4514\n",
            "\n"
          ],
          "name": "stdout"
        }
      ]
    },
    {
      "cell_type": "code",
      "metadata": {
        "id": "92kVVEr7GR6j",
        "colab": {
          "base_uri": "https://localhost:8080/"
        },
        "outputId": "405d7f55-cdef-4a7a-a5e1-ebc42bd685b0"
      },
      "source": [
        "from google.colab import drive\n",
        "drive.mount('/content/drive')"
      ],
      "execution_count": null,
      "outputs": [
        {
          "output_type": "stream",
          "text": [
            "Mounted at /content/drive\n"
          ],
          "name": "stdout"
        }
      ]
    },
    {
      "cell_type": "code",
      "metadata": {
        "id": "ucfQX3qN21az",
        "colab": {
          "base_uri": "https://localhost:8080/"
        },
        "outputId": "eb5266f2-c3b7-4d66-e5d0-c749064f3838"
      },
      "source": [
        "!cp '/content/data/data/audio_to_text_model.pt' '/content/drive/MyDrive/EVA4/phase2/S13'"
      ],
      "execution_count": null,
      "outputs": [
        {
          "output_type": "stream",
          "text": [
            "cp: cannot stat '/content/data/data/audio_to_text_model.pt': No such file or directory\n"
          ],
          "name": "stdout"
        }
      ]
    },
    {
      "cell_type": "code",
      "metadata": {
        "id": "HkdsgGLxb_ds"
      },
      "source": [
        "waveform, sample_rate = torchaudio.load('/content/drive/MyDrive/EVA4/phase2/S13/1034-121119-0005.flac')"
      ],
      "execution_count": null,
      "outputs": []
    },
    {
      "cell_type": "code",
      "metadata": {
        "id": "jFV6ztndcZ-g",
        "colab": {
          "base_uri": "https://localhost:8080/",
          "height": 87
        },
        "outputId": "8663e0d1-2aad-42f5-db17-d3dd6d055a23"
      },
      "source": [
        "# Load\n",
        "waveform1 = (waveform[0,:].view(1,-1))\n",
        "#waveform1 = (waveform[0,:].view(1,-1))\n",
        "model = torch.load('/content/drive/MyDrive/EVA4/phase2/S13/audio_to_text_model.pt')\n",
        "model.eval()\n",
        "specgram = torchaudio.transforms.MelSpectrogram()(waveform1)\n",
        "spectrograms=specgram.unsqueeze(0)\n",
        "\n",
        "use_cuda = torch.cuda.is_available()\n",
        "torch.manual_seed(7)\n",
        "device = torch.device(\"cuda\" if use_cuda else \"cpu\")\n",
        "\n",
        "\n",
        "#spectrograms = nn.utils.rnn.pad_sequence(specgram, batch_first=True).unsqueeze(1).transpose(2, 3)\n",
        "output = model(spectrograms.to(device))  # (batch, time, n_class)\n",
        "#decoded_op = F.log_softmax(output, dim=2).numpy()\n",
        "decoded_op = torch.argmax(output, dim=2).cpu().numpy()\n",
        "my_args = decoded_op[0]\n",
        "decoded_out = []\n",
        "for j, index in enumerate(my_args):\n",
        "    if index != 28:\n",
        "        if j != 0 and index == my_args[j -1]:\n",
        "            continue\n",
        "        decoded_out.append(index)\n",
        "text_transform.int_to_text(decoded_out)\n"
      ],
      "execution_count": null,
      "outputs": [
        {
          "output_type": "stream",
          "text": [
            "/usr/local/lib/python3.6/dist-packages/torchaudio/functional.py:318: UserWarning: At least one mel filterbank has all zero values. The value for `n_mels` (128) may be set too high. Or, the value for `n_freqs` (201) may be set too low.\n",
            "  \"At least one mel filterbank has all zero values. \"\n"
          ],
          "name": "stderr"
        },
        {
          "output_type": "execute_result",
          "data": {
            "application/vnd.google.colaboratory.intrinsic+json": {
              "type": "string"
            },
            "text/plain": [
              "'bo tottl fuf tae as a vener o terer bot has a a vapl a hor botho ta por ma af af hert  re asove'"
            ]
          },
          "metadata": {
            "tags": []
          },
          "execution_count": 35
        }
      ]
    }
  ]
}